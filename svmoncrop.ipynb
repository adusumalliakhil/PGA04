{
 "cells": [
  {
   "cell_type": "code",
   "execution_count": 1,
   "metadata": {},
   "outputs": [],
   "source": [
    "import numpy as np\n",
    "import pandas as pd"
   ]
  },
  {
   "cell_type": "code",
   "execution_count": 2,
   "metadata": {},
   "outputs": [],
   "source": [
    "df = pd.read_csv(\"D:\\\\newproject\\\\New folder\\\\Barley.data.csv\")\n",
    "df1 = pd.read_csv(\"D:\\\\newproject\\\\New folder\\\\Chickpea.data.csv\")\n",
    "df2 = pd.read_csv(\"D:\\\\newproject\\\\New folder\\\\Sorghum.data.csv\")"
   ]
  },
  {
   "cell_type": "code",
   "execution_count": 3,
   "metadata": {},
   "outputs": [
    {
     "data": {
      "text/plain": [
       "False"
      ]
     },
     "execution_count": 3,
     "metadata": {},
     "output_type": "execute_result"
    }
   ],
   "source": [
    "#Na Handling\n",
    "df.isnull().values.any()"
   ]
  },
  {
   "cell_type": "code",
   "execution_count": 4,
   "metadata": {},
   "outputs": [
    {
     "data": {
      "text/plain": [
       "False"
      ]
     },
     "execution_count": 4,
     "metadata": {},
     "output_type": "execute_result"
    }
   ],
   "source": [
    "#Na Handling\n",
    "df1.isnull().values.any()"
   ]
  },
  {
   "cell_type": "code",
   "execution_count": 5,
   "metadata": {},
   "outputs": [
    {
     "data": {
      "text/plain": [
       "True"
      ]
     },
     "execution_count": 5,
     "metadata": {},
     "output_type": "execute_result"
    }
   ],
   "source": [
    "#Na Handling\n",
    "df2.isnull().values.any()"
   ]
  },
  {
   "cell_type": "code",
   "execution_count": 6,
   "metadata": {},
   "outputs": [
    {
     "data": {
      "text/plain": [
       "Predictor    58.333333\n",
       "740          58.333333\n",
       "741          58.333333\n",
       "742          58.333333\n",
       "743          58.333333\n",
       "744          58.333333\n",
       "745          58.333333\n",
       "746          58.333333\n",
       "747          58.333333\n",
       "748          58.333333\n",
       "749          58.333333\n",
       "750          58.333333\n",
       "751          58.333333\n",
       "752          58.333333\n",
       "753          58.333333\n",
       "754          58.333333\n",
       "755          58.333333\n",
       "756          58.333333\n",
       "757          58.333333\n",
       "758          58.333333\n",
       "759          58.333333\n",
       "760          58.333333\n",
       "761          58.333333\n",
       "762          58.333333\n",
       "763          58.333333\n",
       "764          58.333333\n",
       "765          58.333333\n",
       "766          58.333333\n",
       "767          58.333333\n",
       "768          58.333333\n",
       "               ...    \n",
       "1041         58.333333\n",
       "1042         58.333333\n",
       "1043         58.333333\n",
       "1044         58.333333\n",
       "1045         58.333333\n",
       "1046         58.333333\n",
       "1047         58.333333\n",
       "1048         58.333333\n",
       "1049         58.333333\n",
       "1050         58.333333\n",
       "1051         58.333333\n",
       "1052         58.333333\n",
       "1053         58.333333\n",
       "1054         58.333333\n",
       "1055         58.333333\n",
       "1056         58.333333\n",
       "1057         58.333333\n",
       "1058         58.333333\n",
       "1059         58.333333\n",
       "1060         58.333333\n",
       "1061         58.333333\n",
       "1062         58.333333\n",
       "1063         58.333333\n",
       "1064         58.333333\n",
       "1065         58.333333\n",
       "1066         58.333333\n",
       "1067         58.333333\n",
       "1068         58.333333\n",
       "1069         58.333333\n",
       "1070         58.333333\n",
       "Length: 332, dtype: float64"
      ]
     },
     "execution_count": 6,
     "metadata": {},
     "output_type": "execute_result"
    }
   ],
   "source": [
    "df2.isnull().sum()*100/df2.shape[0]"
   ]
  },
  {
   "cell_type": "code",
   "execution_count": 7,
   "metadata": {},
   "outputs": [],
   "source": [
    "df6=df2.dropna()"
   ]
  },
  {
   "cell_type": "code",
   "execution_count": 8,
   "metadata": {},
   "outputs": [],
   "source": [
    "df3 = df.append(df1)\n",
    "df4 = df3.append(df6)"
   ]
  },
  {
   "cell_type": "code",
   "execution_count": 9,
   "metadata": {},
   "outputs": [
    {
     "data": {
      "text/html": [
       "<div>\n",
       "<style scoped>\n",
       "    .dataframe tbody tr th:only-of-type {\n",
       "        vertical-align: middle;\n",
       "    }\n",
       "\n",
       "    .dataframe tbody tr th {\n",
       "        vertical-align: top;\n",
       "    }\n",
       "\n",
       "    .dataframe thead th {\n",
       "        text-align: right;\n",
       "    }\n",
       "</style>\n",
       "<table border=\"1\" class=\"dataframe\">\n",
       "  <thead>\n",
       "    <tr style=\"text-align: right;\">\n",
       "      <th></th>\n",
       "      <th>Predictor</th>\n",
       "      <th>740</th>\n",
       "      <th>741</th>\n",
       "      <th>742</th>\n",
       "      <th>743</th>\n",
       "      <th>744</th>\n",
       "      <th>745</th>\n",
       "      <th>746</th>\n",
       "      <th>747</th>\n",
       "      <th>748</th>\n",
       "      <th>...</th>\n",
       "      <th>1061</th>\n",
       "      <th>1062</th>\n",
       "      <th>1063</th>\n",
       "      <th>1064</th>\n",
       "      <th>1065</th>\n",
       "      <th>1066</th>\n",
       "      <th>1067</th>\n",
       "      <th>1068</th>\n",
       "      <th>1069</th>\n",
       "      <th>1070</th>\n",
       "    </tr>\n",
       "  </thead>\n",
       "  <tbody>\n",
       "    <tr>\n",
       "      <th>0</th>\n",
       "      <td>HB-52</td>\n",
       "      <td>1.499853</td>\n",
       "      <td>1.500665</td>\n",
       "      <td>1.501564</td>\n",
       "      <td>1.502536</td>\n",
       "      <td>1.503537</td>\n",
       "      <td>1.504548</td>\n",
       "      <td>1.505588</td>\n",
       "      <td>1.506689</td>\n",
       "      <td>1.507828</td>\n",
       "      <td>...</td>\n",
       "      <td>1.636411</td>\n",
       "      <td>1.637350</td>\n",
       "      <td>1.636452</td>\n",
       "      <td>1.634370</td>\n",
       "      <td>1.632287</td>\n",
       "      <td>1.630265</td>\n",
       "      <td>1.630722</td>\n",
       "      <td>1.633166</td>\n",
       "      <td>1.636204</td>\n",
       "      <td>1.637872</td>\n",
       "    </tr>\n",
       "    <tr>\n",
       "      <th>1</th>\n",
       "      <td>HB-52</td>\n",
       "      <td>1.530877</td>\n",
       "      <td>1.531669</td>\n",
       "      <td>1.532524</td>\n",
       "      <td>1.533419</td>\n",
       "      <td>1.534308</td>\n",
       "      <td>1.535169</td>\n",
       "      <td>1.536024</td>\n",
       "      <td>1.536916</td>\n",
       "      <td>1.537830</td>\n",
       "      <td>...</td>\n",
       "      <td>1.643299</td>\n",
       "      <td>1.644222</td>\n",
       "      <td>1.643302</td>\n",
       "      <td>1.641195</td>\n",
       "      <td>1.639088</td>\n",
       "      <td>1.637046</td>\n",
       "      <td>1.637493</td>\n",
       "      <td>1.639938</td>\n",
       "      <td>1.642981</td>\n",
       "      <td>1.644649</td>\n",
       "    </tr>\n",
       "    <tr>\n",
       "      <th>2</th>\n",
       "      <td>HB-52</td>\n",
       "      <td>1.607175</td>\n",
       "      <td>1.608642</td>\n",
       "      <td>1.610044</td>\n",
       "      <td>1.611357</td>\n",
       "      <td>1.612540</td>\n",
       "      <td>1.613585</td>\n",
       "      <td>1.614534</td>\n",
       "      <td>1.615456</td>\n",
       "      <td>1.616359</td>\n",
       "      <td>...</td>\n",
       "      <td>1.703343</td>\n",
       "      <td>1.704291</td>\n",
       "      <td>1.703329</td>\n",
       "      <td>1.701137</td>\n",
       "      <td>1.698946</td>\n",
       "      <td>1.696822</td>\n",
       "      <td>1.697278</td>\n",
       "      <td>1.699806</td>\n",
       "      <td>1.702953</td>\n",
       "      <td>1.704677</td>\n",
       "    </tr>\n",
       "    <tr>\n",
       "      <th>3</th>\n",
       "      <td>HB-52</td>\n",
       "      <td>1.677333</td>\n",
       "      <td>1.678098</td>\n",
       "      <td>1.678930</td>\n",
       "      <td>1.679809</td>\n",
       "      <td>1.680688</td>\n",
       "      <td>1.681539</td>\n",
       "      <td>1.682384</td>\n",
       "      <td>1.683260</td>\n",
       "      <td>1.684145</td>\n",
       "      <td>...</td>\n",
       "      <td>1.755067</td>\n",
       "      <td>1.756013</td>\n",
       "      <td>1.754996</td>\n",
       "      <td>1.752716</td>\n",
       "      <td>1.750441</td>\n",
       "      <td>1.748238</td>\n",
       "      <td>1.748696</td>\n",
       "      <td>1.751290</td>\n",
       "      <td>1.754525</td>\n",
       "      <td>1.756294</td>\n",
       "    </tr>\n",
       "    <tr>\n",
       "      <th>4</th>\n",
       "      <td>HB-52</td>\n",
       "      <td>1.507830</td>\n",
       "      <td>1.509293</td>\n",
       "      <td>1.510683</td>\n",
       "      <td>1.511977</td>\n",
       "      <td>1.513145</td>\n",
       "      <td>1.514180</td>\n",
       "      <td>1.515125</td>\n",
       "      <td>1.516049</td>\n",
       "      <td>1.516964</td>\n",
       "      <td>...</td>\n",
       "      <td>1.641968</td>\n",
       "      <td>1.642877</td>\n",
       "      <td>1.641946</td>\n",
       "      <td>1.639829</td>\n",
       "      <td>1.637714</td>\n",
       "      <td>1.635664</td>\n",
       "      <td>1.636101</td>\n",
       "      <td>1.638535</td>\n",
       "      <td>1.641567</td>\n",
       "      <td>1.643227</td>\n",
       "    </tr>\n",
       "  </tbody>\n",
       "</table>\n",
       "<p>5 rows × 332 columns</p>\n",
       "</div>"
      ],
      "text/plain": [
       "  Predictor       740       741       742       743       744       745  \\\n",
       "0     HB-52  1.499853  1.500665  1.501564  1.502536  1.503537  1.504548   \n",
       "1     HB-52  1.530877  1.531669  1.532524  1.533419  1.534308  1.535169   \n",
       "2     HB-52  1.607175  1.608642  1.610044  1.611357  1.612540  1.613585   \n",
       "3     HB-52  1.677333  1.678098  1.678930  1.679809  1.680688  1.681539   \n",
       "4     HB-52  1.507830  1.509293  1.510683  1.511977  1.513145  1.514180   \n",
       "\n",
       "        746       747       748    ...         1061      1062      1063  \\\n",
       "0  1.505588  1.506689  1.507828    ...     1.636411  1.637350  1.636452   \n",
       "1  1.536024  1.536916  1.537830    ...     1.643299  1.644222  1.643302   \n",
       "2  1.614534  1.615456  1.616359    ...     1.703343  1.704291  1.703329   \n",
       "3  1.682384  1.683260  1.684145    ...     1.755067  1.756013  1.754996   \n",
       "4  1.515125  1.516049  1.516964    ...     1.641968  1.642877  1.641946   \n",
       "\n",
       "       1064      1065      1066      1067      1068      1069      1070  \n",
       "0  1.634370  1.632287  1.630265  1.630722  1.633166  1.636204  1.637872  \n",
       "1  1.641195  1.639088  1.637046  1.637493  1.639938  1.642981  1.644649  \n",
       "2  1.701137  1.698946  1.696822  1.697278  1.699806  1.702953  1.704677  \n",
       "3  1.752716  1.750441  1.748238  1.748696  1.751290  1.754525  1.756294  \n",
       "4  1.639829  1.637714  1.635664  1.636101  1.638535  1.641567  1.643227  \n",
       "\n",
       "[5 rows x 332 columns]"
      ]
     },
     "execution_count": 9,
     "metadata": {},
     "output_type": "execute_result"
    }
   ],
   "source": [
    "df4.head()"
   ]
  },
  {
   "cell_type": "code",
   "execution_count": 10,
   "metadata": {},
   "outputs": [
    {
     "name": "stdout",
     "output_type": "stream",
     "text": [
      "<class 'pandas.core.frame.DataFrame'>\n",
      "RangeIndex: 1200 entries, 0 to 1199\n",
      "Columns: 332 entries, Predictor to 1070\n",
      "dtypes: float64(331), object(1)\n",
      "memory usage: 3.0+ MB\n",
      "****************************************************************************************************\n",
      "<class 'pandas.core.frame.DataFrame'>\n",
      "RangeIndex: 950 entries, 0 to 949\n",
      "Columns: 332 entries, Predictor to 1070\n",
      "dtypes: float64(331), object(1)\n",
      "memory usage: 2.4+ MB\n",
      "****************************************************************************************************\n",
      "<class 'pandas.core.frame.DataFrame'>\n",
      "Int64Index: 500 entries, 0 to 499\n",
      "Columns: 332 entries, Predictor to 1070\n",
      "dtypes: float64(331), object(1)\n",
      "memory usage: 1.3+ MB\n",
      "****************************************************************************************************\n",
      "<class 'pandas.core.frame.DataFrame'>\n",
      "Int64Index: 2650 entries, 0 to 499\n",
      "Columns: 332 entries, Predictor to 1070\n",
      "dtypes: float64(331), object(1)\n",
      "memory usage: 6.7+ MB\n"
     ]
    }
   ],
   "source": [
    "df.info()\n",
    "print(\"*\"*100)\n",
    "df1.info()\n",
    "print(\"*\"*100)\n",
    "df6.info()\n",
    "print(\"*\"*100)\n",
    "df4.info()"
   ]
  },
  {
   "cell_type": "code",
   "execution_count": 11,
   "metadata": {},
   "outputs": [],
   "source": [
    "X = df.drop(['Predictor'], axis=1)\n",
    "X_col = X.columns"
   ]
  },
  {
   "cell_type": "code",
   "execution_count": 12,
   "metadata": {},
   "outputs": [],
   "source": [
    "from sklearn.preprocessing import StandardScaler"
   ]
  },
  {
   "cell_type": "code",
   "execution_count": 13,
   "metadata": {},
   "outputs": [],
   "source": [
    "X = StandardScaler().fit_transform(X.values)"
   ]
  },
  {
   "cell_type": "code",
   "execution_count": 14,
   "metadata": {},
   "outputs": [],
   "source": [
    "y = df['Predictor']"
   ]
  },
  {
   "cell_type": "code",
   "execution_count": 15,
   "metadata": {},
   "outputs": [
    {
     "ename": "AttributeError",
     "evalue": "'numpy.ndarray' object has no attribute 'head'",
     "output_type": "error",
     "traceback": [
      "\u001b[1;31m---------------------------------------------------------------------------\u001b[0m",
      "\u001b[1;31mAttributeError\u001b[0m                            Traceback (most recent call last)",
      "\u001b[1;32m<ipython-input-15-ae5cd47bda90>\u001b[0m in \u001b[0;36m<module>\u001b[1;34m\u001b[0m\n\u001b[1;32m----> 1\u001b[1;33m \u001b[0mX\u001b[0m\u001b[1;33m.\u001b[0m\u001b[0mhead\u001b[0m\u001b[1;33m(\u001b[0m\u001b[1;33m)\u001b[0m\u001b[1;33m\u001b[0m\u001b[1;33m\u001b[0m\u001b[0m\n\u001b[0m",
      "\u001b[1;31mAttributeError\u001b[0m: 'numpy.ndarray' object has no attribute 'head'"
     ]
    }
   ],
   "source": [
    "X.head()"
   ]
  },
  {
   "cell_type": "code",
   "execution_count": 16,
   "metadata": {},
   "outputs": [],
   "source": [
    "from sklearn.model_selection import train_test_split"
   ]
  },
  {
   "cell_type": "code",
   "execution_count": 17,
   "metadata": {},
   "outputs": [],
   "source": [
    "df15 = pd.DataFrame(X, columns=X_col)"
   ]
  },
  {
   "cell_type": "code",
   "execution_count": 18,
   "metadata": {},
   "outputs": [
    {
     "data": {
      "text/plain": [
       "(1200, 331)"
      ]
     },
     "execution_count": 18,
     "metadata": {},
     "output_type": "execute_result"
    }
   ],
   "source": [
    "df15.shape"
   ]
  },
  {
   "cell_type": "code",
   "execution_count": 19,
   "metadata": {},
   "outputs": [
    {
     "name": "stderr",
     "output_type": "stream",
     "text": [
      "C:\\Users\\akhil\\Anaconda3\\lib\\site-packages\\sklearn\\model_selection\\_split.py:2179: FutureWarning: From version 0.21, test_size will always complement train_size unless both are specified.\n",
      "  FutureWarning)\n"
     ]
    }
   ],
   "source": [
    "X_train, X_test, y_train, y_test = train_test_split(X, y,\n",
    "                                                    train_size=0.8,\n",
    "                                                    random_state=42)"
   ]
  },
  {
   "cell_type": "code",
   "execution_count": 15,
   "metadata": {},
   "outputs": [],
   "source": [
    "from sklearn.model_selection import cross_val_predict, cross_val_score\n",
    "from sklearn.metrics import accuracy_score, classification_report, confusion_matrix"
   ]
  },
  {
   "cell_type": "code",
   "execution_count": 16,
   "metadata": {},
   "outputs": [],
   "source": [
    "from sklearn import preprocessing\n",
    "le = preprocessing.LabelEncoder()"
   ]
  },
  {
   "cell_type": "code",
   "execution_count": 17,
   "metadata": {},
   "outputs": [],
   "source": [
    "df16 = pd.DataFrame(y)"
   ]
  },
  {
   "cell_type": "code",
   "execution_count": 18,
   "metadata": {},
   "outputs": [
    {
     "data": {
      "text/html": [
       "<div>\n",
       "<style scoped>\n",
       "    .dataframe tbody tr th:only-of-type {\n",
       "        vertical-align: middle;\n",
       "    }\n",
       "\n",
       "    .dataframe tbody tr th {\n",
       "        vertical-align: top;\n",
       "    }\n",
       "\n",
       "    .dataframe thead th {\n",
       "        text-align: right;\n",
       "    }\n",
       "</style>\n",
       "<table border=\"1\" class=\"dataframe\">\n",
       "  <thead>\n",
       "    <tr style=\"text-align: right;\">\n",
       "      <th></th>\n",
       "      <th>Predictor</th>\n",
       "    </tr>\n",
       "  </thead>\n",
       "  <tbody>\n",
       "    <tr>\n",
       "      <th>0</th>\n",
       "      <td>21</td>\n",
       "    </tr>\n",
       "    <tr>\n",
       "      <th>1</th>\n",
       "      <td>21</td>\n",
       "    </tr>\n",
       "    <tr>\n",
       "      <th>2</th>\n",
       "      <td>21</td>\n",
       "    </tr>\n",
       "    <tr>\n",
       "      <th>3</th>\n",
       "      <td>21</td>\n",
       "    </tr>\n",
       "    <tr>\n",
       "      <th>4</th>\n",
       "      <td>21</td>\n",
       "    </tr>\n",
       "  </tbody>\n",
       "</table>\n",
       "</div>"
      ],
      "text/plain": [
       "   Predictor\n",
       "0         21\n",
       "1         21\n",
       "2         21\n",
       "3         21\n",
       "4         21"
      ]
     },
     "execution_count": 18,
     "metadata": {},
     "output_type": "execute_result"
    }
   ],
   "source": [
    "# apply Label encoder to df_categorical\n",
    "\n",
    "\n",
    "df16 = df16.apply(le.fit_transform)\n",
    "df16.head()"
   ]
  },
  {
   "cell_type": "code",
   "execution_count": 22,
   "metadata": {},
   "outputs": [],
   "source": [
    "from sklearn import svm\n",
    "clf = svm.SVC(kernel=\"linear\")"
   ]
  },
  {
   "cell_type": "code",
   "execution_count": 23,
   "metadata": {},
   "outputs": [],
   "source": [
    "from sklearn.feature_selection import RFE"
   ]
  },
  {
   "cell_type": "code",
   "execution_count": null,
   "metadata": {},
   "outputs": [],
   "source": []
  },
  {
   "cell_type": "code",
   "execution_count": 25,
   "metadata": {
    "scrolled": false
   },
   "outputs": [
    {
     "name": "stdout",
     "output_type": "stream",
     "text": [
      "x = 300\n",
      "0.5383333333333333\n",
      "x = 320\n",
      "0.5433333333333333\n"
     ]
    }
   ],
   "source": [
    "for i in range(300, 330, 20):\n",
    "    rfe = RFE(clf,i ,step=1)             # running RFE with 13 variables as output\n",
    "    rfe = rfe.fit(X,y)\n",
    "    print(\"x = {0}\".format(i))\n",
    "    print(accuracy_score(y, rfe.predict(X)))\n",
    "\n",
    "\n"
   ]
  },
  {
   "cell_type": "code",
   "execution_count": null,
   "metadata": {},
   "outputs": [],
   "source": [
    "# Variables selected by RFE \n",
    "col = ['740', '741', '867', '868',\n",
    "       '999','1019','1049', '1063',\n",
    "       '1066','1070']"
   ]
  },
  {
   "cell_type": "code",
   "execution_count": null,
   "metadata": {},
   "outputs": [],
   "source": [
    "X_train, X_test, y_train, y_test = train_test_split(df15[col], df16,\n",
    "                                                    train_size=0.8,\n",
    "                                                    random_state=42)"
   ]
  },
  {
   "cell_type": "code",
   "execution_count": null,
   "metadata": {},
   "outputs": [],
   "source": [
    "def print_score(clf, X_train, y_train, X_test, y_test, train=True):\n",
    "    if train:\n",
    "        print(\"Train Result:\\n\")\n",
    "        print(\"accuracy score: {0:.4f}\\n\".format(accuracy_score(y_train, clf.predict(X_train))))\n",
    "        print(\"Classification Report: \\n {}\\n\".format(classification_report(y_train, clf.predict(X_train))))\n",
    "        print(\"Confusion Matrix: \\n {}\\n\".format(confusion_matrix(y_train, clf.predict(X_train))))\n",
    "\n",
    "        res = cross_val_score(clf, X_train, y_train, cv=10, scoring='accuracy')\n",
    "        print(\"Average Accuracy: \\t {0:.4f}\".format(np.mean(res)))\n",
    "        print(\"Accuracy SD: \\t\\t {0:.4f}\".format(np.std(res)))\n",
    "        \n",
    "    elif train==False:\n",
    "        print(\"Test Result:\\n\")        \n",
    "        print(\"accuracy score: {0:.4f}\\n\".format(accuracy_score(y_test, clf.predict(X_test))))\n",
    "        print(\"Classification Report: \\n {}\\n\".format(classification_report(y_test, clf.predict(X_test))))\n",
    "        print(\"Confusion Matrix: \\n {}\\n\".format(confusion_matrix(y_test, clf.predict(X_test))))   "
   ]
  },
  {
   "cell_type": "code",
   "execution_count": null,
   "metadata": {},
   "outputs": [],
   "source": [
    "clf.fit(X_train, y_train)\n",
    "print_score(clf, X_train, y_train, X_test, y_test, train=True)\n",
    "print_score(clf, X_train, y_train, X_test, y_test, train=False)"
   ]
  },
  {
   "cell_type": "code",
   "execution_count": 29,
   "metadata": {},
   "outputs": [
    {
     "data": {
      "text/plain": [
       "0.3787735849056604"
      ]
     },
     "execution_count": 29,
     "metadata": {},
     "output_type": "execute_result"
    }
   ],
   "source": [
    "accuracy_score(y_train, rfe.predict(X_train))"
   ]
  },
  {
   "cell_type": "code",
   "execution_count": 33,
   "metadata": {},
   "outputs": [
    {
     "ename": "TypeError",
     "evalue": "unsupported operand type(s) for +: 'int' and 'str'",
     "output_type": "error",
     "traceback": [
      "\u001b[1;31m---------------------------------------------------------------------------\u001b[0m",
      "\u001b[1;31mTypeError\u001b[0m                                 Traceback (most recent call last)",
      "\u001b[1;32m<ipython-input-33-ea6a986e160e>\u001b[0m in \u001b[0;36m<module>\u001b[1;34m\u001b[0m\n\u001b[0;32m      1\u001b[0m \u001b[0mx\u001b[0m\u001b[1;33m=\u001b[0m\u001b[1;36m10\u001b[0m\u001b[1;33m\u001b[0m\u001b[1;33m\u001b[0m\u001b[0m\n\u001b[1;32m----> 2\u001b[1;33m \u001b[0mprint\u001b[0m\u001b[1;33m(\u001b[0m\u001b[0mx\u001b[0m \u001b[1;33m+\u001b[0m \u001b[1;34m\":\"\u001b[0m\u001b[1;33m)\u001b[0m\u001b[1;33m\u001b[0m\u001b[1;33m\u001b[0m\u001b[0m\n\u001b[0m",
      "\u001b[1;31mTypeError\u001b[0m: unsupported operand type(s) for +: 'int' and 'str'"
     ]
    }
   ],
   "source": [
    "x=10\n",
    "print(x + \":\")"
   ]
  },
  {
   "cell_type": "code",
   "execution_count": 37,
   "metadata": {},
   "outputs": [
    {
     "name": "stdout",
     "output_type": "stream",
     "text": [
      "x = 15\n",
      "x = 15\n"
     ]
    }
   ],
   "source": [
    "x=15\n",
    "print(\"x = {0}\".format(x))\n",
    "print(\"x = {0}\".format(x))\n",
    "\n"
   ]
  },
  {
   "cell_type": "code",
   "execution_count": null,
   "metadata": {},
   "outputs": [],
   "source": []
  }
 ],
 "metadata": {
  "kernelspec": {
   "display_name": "Python 3",
   "language": "python",
   "name": "python3"
  },
  "language_info": {
   "codemirror_mode": {
    "name": "ipython",
    "version": 3
   },
   "file_extension": ".py",
   "mimetype": "text/x-python",
   "name": "python",
   "nbconvert_exporter": "python",
   "pygments_lexer": "ipython3",
   "version": "3.7.1"
  }
 },
 "nbformat": 4,
 "nbformat_minor": 2
}
