{
 "cells": [
  {
   "cell_type": "code",
   "execution_count": 290,
   "metadata": {},
   "outputs": [
    {
     "data": {
      "text/html": [
       "<table>\n",
       "<thead><tr><th scope=col>X</th><th scope=col>Time</th><th scope=col>V1</th><th scope=col>V2</th><th scope=col>V3</th><th scope=col>V4</th><th scope=col>V5</th><th scope=col>V6</th><th scope=col>V7</th><th scope=col>V8</th><th scope=col>...</th><th scope=col>V21</th><th scope=col>V22</th><th scope=col>V23</th><th scope=col>V24</th><th scope=col>V25</th><th scope=col>V26</th><th scope=col>V27</th><th scope=col>V28</th><th scope=col>Amount</th><th scope=col>Class</th></tr></thead>\n",
       "<tbody>\n",
       "\t<tr><td>193397      </td><td>130284      </td><td> 1.7911585  </td><td>-0.2954602  </td><td>-3.02937478 </td><td> 0.4569578  </td><td> 1.0719955  </td><td>-0.809659697</td><td> 0.9591775  </td><td>-0.46021265 </td><td>...         </td><td> 0.1055030  </td><td> 0.07119964 </td><td>-0.26482732 </td><td> 0.02048951 </td><td> 0.4111050  </td><td> 0.70559029 </td><td>-0.136621906</td><td>-0.02591442 </td><td>193.50      </td><td>0           </td></tr>\n",
       "\t<tr><td>205683      </td><td>136053      </td><td>-1.9663052  </td><td>-1.5410305  </td><td> 0.11053521 </td><td> 0.2319662  </td><td>-0.4389271  </td><td> 0.286191552</td><td> 0.8906324  </td><td>-0.06281579 </td><td>...         </td><td>-0.1161871  </td><td>-0.02100650 </td><td>-0.07543594 </td><td> 0.75459464 </td><td>-1.3862034  </td><td>-1.09621605 </td><td>-0.166307955</td><td>-0.33892683 </td><td>341.00      </td><td>0           </td></tr>\n",
       "\t<tr><td>255496      </td><td>157481      </td><td> 1.9264039  </td><td>-0.8335681  </td><td>-1.69719218 </td><td>-0.6191259  </td><td> 1.6427545  </td><td> 3.934753742</td><td>-1.2740883  </td><td> 1.05279683 </td><td>...         </td><td> 0.1741972  </td><td> 0.55212921 </td><td> 0.18244616 </td><td> 0.76096536 </td><td>-0.2536761  </td><td> 0.58669942 </td><td>-0.004569944</td><td>-0.04897061 </td><td> 34.35      </td><td>0           </td></tr>\n",
       "\t<tr><td> 23295      </td><td> 32729      </td><td>-0.3512252  </td><td> 0.2585861  </td><td>-0.05554136 </td><td>-0.9137599  </td><td>-0.1188882  </td><td>-0.464583317</td><td> 1.3054781  </td><td>-0.71206221 </td><td>...         </td><td> 0.1540459  </td><td> 0.74407836 </td><td>-0.45143825 </td><td>-0.44820801 </td><td>-0.1123134  </td><td>-0.04237056 </td><td>-0.098132955</td><td>-0.15617994 </td><td>189.00      </td><td>0           </td></tr>\n",
       "\t<tr><td>   350      </td><td>103808      </td><td>-4.5173438  </td><td> 2.5002239  </td><td>-4.01392754 </td><td> 1.1894516  </td><td>-2.4868606  </td><td>-1.413475533</td><td>-4.2457066  </td><td> 1.26508695 </td><td>...         </td><td> 1.3269442  </td><td> 0.10299896 </td><td> 0.50816690 </td><td>-0.27801754 </td><td> 0.1397211  </td><td> 0.06461002 </td><td>-0.972358289</td><td> 0.35135956 </td><td>  2.27      </td><td>1           </td></tr>\n",
       "\t<tr><td> 68065      </td><td> 52892      </td><td>-1.0178826  </td><td> 0.2543384  </td><td> 2.16548829 </td><td> 2.6476996  </td><td> 1.0960378  </td><td> 0.004497289</td><td>-0.2944494  </td><td> 0.34596524 </td><td>...         </td><td> 0.1782814  </td><td> 0.29841126 </td><td> 0.23910510 </td><td> 0.07174718 </td><td>-0.7132739  </td><td>-0.02904549 </td><td> 0.162121210</td><td> 0.17847228 </td><td>  0.77      </td><td>0           </td></tr>\n",
       "</tbody>\n",
       "</table>\n"
      ],
      "text/latex": [
       "\\begin{tabular}{r|llllllllllllllllllllllllllllllll}\n",
       " X & Time & V1 & V2 & V3 & V4 & V5 & V6 & V7 & V8 & ... & V21 & V22 & V23 & V24 & V25 & V26 & V27 & V28 & Amount & Class\\\\\n",
       "\\hline\n",
       "\t 193397       & 130284       &  1.7911585   & -0.2954602   & -3.02937478  &  0.4569578   &  1.0719955   & -0.809659697 &  0.9591775   & -0.46021265  & ...          &  0.1055030   &  0.07119964  & -0.26482732  &  0.02048951  &  0.4111050   &  0.70559029  & -0.136621906 & -0.02591442  & 193.50       & 0           \\\\\n",
       "\t 205683       & 136053       & -1.9663052   & -1.5410305   &  0.11053521  &  0.2319662   & -0.4389271   &  0.286191552 &  0.8906324   & -0.06281579  & ...          & -0.1161871   & -0.02100650  & -0.07543594  &  0.75459464  & -1.3862034   & -1.09621605  & -0.166307955 & -0.33892683  & 341.00       & 0           \\\\\n",
       "\t 255496       & 157481       &  1.9264039   & -0.8335681   & -1.69719218  & -0.6191259   &  1.6427545   &  3.934753742 & -1.2740883   &  1.05279683  & ...          &  0.1741972   &  0.55212921  &  0.18244616  &  0.76096536  & -0.2536761   &  0.58669942  & -0.004569944 & -0.04897061  &  34.35       & 0           \\\\\n",
       "\t  23295       &  32729       & -0.3512252   &  0.2585861   & -0.05554136  & -0.9137599   & -0.1188882   & -0.464583317 &  1.3054781   & -0.71206221  & ...          &  0.1540459   &  0.74407836  & -0.45143825  & -0.44820801  & -0.1123134   & -0.04237056  & -0.098132955 & -0.15617994  & 189.00       & 0           \\\\\n",
       "\t    350       & 103808       & -4.5173438   &  2.5002239   & -4.01392754  &  1.1894516   & -2.4868606   & -1.413475533 & -4.2457066   &  1.26508695  & ...          &  1.3269442   &  0.10299896  &  0.50816690  & -0.27801754  &  0.1397211   &  0.06461002  & -0.972358289 &  0.35135956  &   2.27       & 1           \\\\\n",
       "\t  68065       &  52892       & -1.0178826   &  0.2543384   &  2.16548829  &  2.6476996   &  1.0960378   &  0.004497289 & -0.2944494   &  0.34596524  & ...          &  0.1782814   &  0.29841126  &  0.23910510  &  0.07174718  & -0.7132739   & -0.02904549  &  0.162121210 &  0.17847228  &   0.77       & 0           \\\\\n",
       "\\end{tabular}\n"
      ],
      "text/markdown": [
       "\n",
       "X | Time | V1 | V2 | V3 | V4 | V5 | V6 | V7 | V8 | ... | V21 | V22 | V23 | V24 | V25 | V26 | V27 | V28 | Amount | Class | \n",
       "|---|---|---|---|---|---|\n",
       "| 193397       | 130284       |  1.7911585   | -0.2954602   | -3.02937478  |  0.4569578   |  1.0719955   | -0.809659697 |  0.9591775   | -0.46021265  | ...          |  0.1055030   |  0.07119964  | -0.26482732  |  0.02048951  |  0.4111050   |  0.70559029  | -0.136621906 | -0.02591442  | 193.50       | 0            | \n",
       "| 205683       | 136053       | -1.9663052   | -1.5410305   |  0.11053521  |  0.2319662   | -0.4389271   |  0.286191552 |  0.8906324   | -0.06281579  | ...          | -0.1161871   | -0.02100650  | -0.07543594  |  0.75459464  | -1.3862034   | -1.09621605  | -0.166307955 | -0.33892683  | 341.00       | 0            | \n",
       "| 255496       | 157481       |  1.9264039   | -0.8335681   | -1.69719218  | -0.6191259   |  1.6427545   |  3.934753742 | -1.2740883   |  1.05279683  | ...          |  0.1741972   |  0.55212921  |  0.18244616  |  0.76096536  | -0.2536761   |  0.58669942  | -0.004569944 | -0.04897061  |  34.35       | 0            | \n",
       "|  23295       |  32729       | -0.3512252   |  0.2585861   | -0.05554136  | -0.9137599   | -0.1188882   | -0.464583317 |  1.3054781   | -0.71206221  | ...          |  0.1540459   |  0.74407836  | -0.45143825  | -0.44820801  | -0.1123134   | -0.04237056  | -0.098132955 | -0.15617994  | 189.00       | 0            | \n",
       "|    350       | 103808       | -4.5173438   |  2.5002239   | -4.01392754  |  1.1894516   | -2.4868606   | -1.413475533 | -4.2457066   |  1.26508695  | ...          |  1.3269442   |  0.10299896  |  0.50816690  | -0.27801754  |  0.1397211   |  0.06461002  | -0.972358289 |  0.35135956  |   2.27       | 1            | \n",
       "|  68065       |  52892       | -1.0178826   |  0.2543384   |  2.16548829  |  2.6476996   |  1.0960378   |  0.004497289 | -0.2944494   |  0.34596524  | ...          |  0.1782814   |  0.29841126  |  0.23910510  |  0.07174718  | -0.7132739   | -0.02904549  |  0.162121210 |  0.17847228  |   0.77       | 0            | \n",
       "\n",
       "\n"
      ],
      "text/plain": [
       "  X      Time   V1         V2         V3          V4         V5        \n",
       "1 193397 130284  1.7911585 -0.2954602 -3.02937478  0.4569578  1.0719955\n",
       "2 205683 136053 -1.9663052 -1.5410305  0.11053521  0.2319662 -0.4389271\n",
       "3 255496 157481  1.9264039 -0.8335681 -1.69719218 -0.6191259  1.6427545\n",
       "4  23295  32729 -0.3512252  0.2585861 -0.05554136 -0.9137599 -0.1188882\n",
       "5    350 103808 -4.5173438  2.5002239 -4.01392754  1.1894516 -2.4868606\n",
       "6  68065  52892 -1.0178826  0.2543384  2.16548829  2.6476996  1.0960378\n",
       "  V6           V7         V8          ... V21        V22         V23        \n",
       "1 -0.809659697  0.9591775 -0.46021265 ...  0.1055030  0.07119964 -0.26482732\n",
       "2  0.286191552  0.8906324 -0.06281579 ... -0.1161871 -0.02100650 -0.07543594\n",
       "3  3.934753742 -1.2740883  1.05279683 ...  0.1741972  0.55212921  0.18244616\n",
       "4 -0.464583317  1.3054781 -0.71206221 ...  0.1540459  0.74407836 -0.45143825\n",
       "5 -1.413475533 -4.2457066  1.26508695 ...  1.3269442  0.10299896  0.50816690\n",
       "6  0.004497289 -0.2944494  0.34596524 ...  0.1782814  0.29841126  0.23910510\n",
       "  V24         V25        V26         V27          V28         Amount Class\n",
       "1  0.02048951  0.4111050  0.70559029 -0.136621906 -0.02591442 193.50 0    \n",
       "2  0.75459464 -1.3862034 -1.09621605 -0.166307955 -0.33892683 341.00 0    \n",
       "3  0.76096536 -0.2536761  0.58669942 -0.004569944 -0.04897061  34.35 0    \n",
       "4 -0.44820801 -0.1123134 -0.04237056 -0.098132955 -0.15617994 189.00 0    \n",
       "5 -0.27801754  0.1397211  0.06461002 -0.972358289  0.35135956   2.27 1    \n",
       "6  0.07174718 -0.7132739 -0.02904549  0.162121210  0.17847228   0.77 0    "
      ]
     },
     "metadata": {},
     "output_type": "display_data"
    }
   ],
   "source": [
    "da1 <- read.csv(\"D:\\\\projectR\\\\datafiles\\\\sampledata.csv\", header = TRUE,\n",
    "                 stringsAsFactors = FALSE,\n",
    "                 strip.white = TRUE ,\n",
    "                 sep = ',')\n",
    "head(da1)"
   ]
  },
  {
   "cell_type": "code",
   "execution_count": 291,
   "metadata": {},
   "outputs": [],
   "source": [
    "da1 <- da1[c(13,32)]"
   ]
  },
  {
   "cell_type": "code",
   "execution_count": 292,
   "metadata": {},
   "outputs": [
    {
     "data": {
      "text/html": [
       "<table>\n",
       "<thead><tr><th></th><th scope=col>V11</th><th scope=col>Class</th></tr></thead>\n",
       "<tbody>\n",
       "\t<tr><th scope=row>V11</th><td>1.0000000</td><td>0.7183103</td></tr>\n",
       "\t<tr><th scope=row>Class</th><td>0.7183103</td><td>1.0000000</td></tr>\n",
       "</tbody>\n",
       "</table>\n"
      ],
      "text/latex": [
       "\\begin{tabular}{r|ll}\n",
       "  & V11 & Class\\\\\n",
       "\\hline\n",
       "\tV11 & 1.0000000 & 0.7183103\\\\\n",
       "\tClass & 0.7183103 & 1.0000000\\\\\n",
       "\\end{tabular}\n"
      ],
      "text/markdown": [
       "\n",
       "| <!--/--> | V11 | Class | \n",
       "|---|---|\n",
       "| V11 | 1.0000000 | 0.7183103 | \n",
       "| Class | 0.7183103 | 1.0000000 | \n",
       "\n",
       "\n"
      ],
      "text/plain": [
       "      V11       Class    \n",
       "V11   1.0000000 0.7183103\n",
       "Class 0.7183103 1.0000000"
      ]
     },
     "metadata": {},
     "output_type": "display_data"
    }
   ],
   "source": [
    "cor(da1)"
   ]
  },
  {
   "cell_type": "code",
   "execution_count": 280,
   "metadata": {},
   "outputs": [
    {
     "data": {
      "text/plain": [
       "\n",
       "Call:\n",
       "glm(formula = Class ~ ., family = binomial, data = da1)\n",
       "\n",
       "Deviance Residuals: \n",
       "    Min       1Q   Median       3Q      Max  \n",
       "-1.8046  -0.4354  -0.2094  -0.0267   3.3024  \n",
       "\n",
       "Coefficients:\n",
       "            Estimate Std. Error z value Pr(>|z|)    \n",
       "(Intercept) -2.99207    0.12844  -23.30   <2e-16 ***\n",
       "V11          1.44315    0.07423   19.44   <2e-16 ***\n",
       "---\n",
       "Signif. codes:  0 '***' 0.001 '**' 0.01 '*' 0.05 '.' 0.1 ' ' 1\n",
       "\n",
       "(Dispersion parameter for binomial family taken to be 1)\n",
       "\n",
       "    Null deviance: 2213.35  on 1967  degrees of freedom\n",
       "Residual deviance:  997.03  on 1966  degrees of freedom\n",
       "AIC: 1001\n",
       "\n",
       "Number of Fisher Scoring iterations: 6\n"
      ]
     },
     "metadata": {},
     "output_type": "display_data"
    }
   ],
   "source": [
    "fit = glm(Class ~ ., data=da1, family=binomial)\n",
    "summary(fit)\n"
   ]
  },
  {
   "cell_type": "code",
   "execution_count": 281,
   "metadata": {
    "scrolled": true
   },
   "outputs": [
    {
     "data": {
      "text/html": [
       "<table>\n",
       "<thead><tr><th></th><th scope=col>V11</th><th scope=col>Class</th></tr></thead>\n",
       "<tbody>\n",
       "\t<tr><th scope=row>V11</th><td>1.0000000</td><td>0.7183103</td></tr>\n",
       "\t<tr><th scope=row>Class</th><td>0.7183103</td><td>1.0000000</td></tr>\n",
       "</tbody>\n",
       "</table>\n"
      ],
      "text/latex": [
       "\\begin{tabular}{r|ll}\n",
       "  & V11 & Class\\\\\n",
       "\\hline\n",
       "\tV11 & 1.0000000 & 0.7183103\\\\\n",
       "\tClass & 0.7183103 & 1.0000000\\\\\n",
       "\\end{tabular}\n"
      ],
      "text/markdown": [
       "\n",
       "| <!--/--> | V11 | Class | \n",
       "|---|---|\n",
       "| V11 | 1.0000000 | 0.7183103 | \n",
       "| Class | 0.7183103 | 1.0000000 | \n",
       "\n",
       "\n"
      ],
      "text/plain": [
       "      V11       Class    \n",
       "V11   1.0000000 0.7183103\n",
       "Class 0.7183103 1.0000000"
      ]
     },
     "metadata": {},
     "output_type": "display_data"
    }
   ],
   "source": [
    "cor(da1)"
   ]
  },
  {
   "cell_type": "code",
   "execution_count": 282,
   "metadata": {},
   "outputs": [
    {
     "data": {
      "image/png": "[encoded data removed]",
      "text/plain": [
       "plot without title"
      ]
     },
     "metadata": {},
     "output_type": "display_data"
    }
   ],
   "source": [
    "library(InformationValue)\n",
    "predicted <- predict(fit, da1, type=\"response\")  # predicted scores\n",
    "#predicted\n",
    "plotROC(da1, predicted)"
   ]
  },
  {
   "cell_type": "code",
   "execution_count": 283,
   "metadata": {},
   "outputs": [
    {
     "data": {
      "text/html": [
       "0.73780487804878"
      ],
      "text/latex": [
       "0.73780487804878"
      ],
      "text/markdown": [
       "0.73780487804878"
      ],
      "text/plain": [
       "[1] 0.7378049"
      ]
     },
     "metadata": {},
     "output_type": "display_data"
    },
    {
     "data": {
      "text/html": [
       "0.983739837398374"
      ],
      "text/latex": [
       "0.983739837398374"
      ],
      "text/markdown": [
       "0.983739837398374"
      ],
      "text/plain": [
       "[1] 0.9837398"
      ]
     },
     "metadata": {},
     "output_type": "display_data"
    },
    {
     "data": {
      "text/html": [
       "<table>\n",
       "<thead><tr><th></th><th scope=col>0</th><th scope=col>1</th></tr></thead>\n",
       "<tbody>\n",
       "\t<tr><th scope=row>0</th><td>1452</td><td>129 </td></tr>\n",
       "\t<tr><th scope=row>1</th><td>  24</td><td>363 </td></tr>\n",
       "</tbody>\n",
       "</table>\n"
      ],
      "text/latex": [
       "\\begin{tabular}{r|ll}\n",
       "  & 0 & 1\\\\\n",
       "\\hline\n",
       "\t0 & 1452 & 129 \\\\\n",
       "\t1 &   24 & 363 \\\\\n",
       "\\end{tabular}\n"
      ],
      "text/markdown": [
       "\n",
       "| <!--/--> | 0 | 1 | \n",
       "|---|---|\n",
       "| 0 | 1452 | 129  | \n",
       "| 1 |   24 | 363  | \n",
       "\n",
       "\n"
      ],
      "text/plain": [
       "  0    1  \n",
       "0 1452 129\n",
       "1   24 363"
      ]
     },
     "metadata": {},
     "output_type": "display_data"
    }
   ],
   "source": [
    "sensitivity(da1$Class, predicted, threshold = 0.5)\n",
    "\n",
    "specificity(da1$Class, predicted, threshold = 0.5)\n",
    "\n",
    "\n",
    "confusionMatrix(da1$Class, predicted > 0.5)"
   ]
  },
  {
   "cell_type": "code",
   "execution_count": 284,
   "metadata": {},
   "outputs": [
    {
     "data": {
      "text/html": [
       "<table>\n",
       "<thead><tr><th></th><th scope=col>0</th><th scope=col>1</th></tr></thead>\n",
       "<tbody>\n",
       "\t<tr><th scope=row>0</th><td>1461</td><td>150 </td></tr>\n",
       "\t<tr><th scope=row>1</th><td>  15</td><td>342 </td></tr>\n",
       "</tbody>\n",
       "</table>\n"
      ],
      "text/latex": [
       "\\begin{tabular}{r|ll}\n",
       "  & 0 & 1\\\\\n",
       "\\hline\n",
       "\t0 & 1461 & 150 \\\\\n",
       "\t1 &   15 & 342 \\\\\n",
       "\\end{tabular}\n"
      ],
      "text/markdown": [
       "\n",
       "| <!--/--> | 0 | 1 | \n",
       "|---|---|\n",
       "| 0 | 1461 | 150  | \n",
       "| 1 |   15 | 342  | \n",
       "\n",
       "\n"
      ],
      "text/plain": [
       "  0    1  \n",
       "0 1461 150\n",
       "1   15 342"
      ]
     },
     "metadata": {},
     "output_type": "display_data"
    }
   ],
   "source": [
    "confusionMatrix(da1$Class, predicted > 0.6)"
   ]
  },
  {
   "cell_type": "code",
   "execution_count": 285,
   "metadata": {},
   "outputs": [
    {
     "data": {
      "text/html": [
       "<table>\n",
       "<thead><tr><th scope=col>Time</th><th scope=col>V1</th><th scope=col>V2</th><th scope=col>V3</th><th scope=col>V4</th><th scope=col>V5</th><th scope=col>V6</th><th scope=col>V7</th><th scope=col>V8</th><th scope=col>V9</th><th scope=col>...</th><th scope=col>V21</th><th scope=col>V22</th><th scope=col>V23</th><th scope=col>V24</th><th scope=col>V25</th><th scope=col>V26</th><th scope=col>V27</th><th scope=col>V28</th><th scope=col>Amount</th><th scope=col>Class</th></tr></thead>\n",
       "<tbody>\n",
       "\t<tr><td>0           </td><td>-1.3598071  </td><td>-0.07278117 </td><td>2.5363467   </td><td> 1.3781552  </td><td>-0.33832077 </td><td> 0.46238778 </td><td> 0.23959855 </td><td> 0.09869790 </td><td> 0.3637870  </td><td>...         </td><td>-0.018306778</td><td> 0.277837576</td><td>-0.11047391 </td><td> 0.06692807 </td><td> 0.1285394  </td><td>-0.1891148  </td><td> 0.133558377</td><td>-0.02105305 </td><td>149.62      </td><td>0           </td></tr>\n",
       "\t<tr><td>0           </td><td> 1.1918571  </td><td> 0.26615071 </td><td>0.1664801   </td><td> 0.4481541  </td><td> 0.06001765 </td><td>-0.08236081 </td><td>-0.07880298 </td><td> 0.08510165 </td><td>-0.2554251  </td><td>...         </td><td>-0.225775248</td><td>-0.638671953</td><td> 0.10128802 </td><td>-0.33984648 </td><td> 0.1671704  </td><td> 0.1258945  </td><td>-0.008983099</td><td> 0.01472417 </td><td>  2.69      </td><td>0           </td></tr>\n",
       "\t<tr><td>1           </td><td>-1.3583541  </td><td>-1.34016307 </td><td>1.7732093   </td><td> 0.3797796  </td><td>-0.50319813 </td><td> 1.80049938 </td><td> 0.79146096 </td><td> 0.24767579 </td><td>-1.5146543  </td><td>...         </td><td> 0.247998153</td><td> 0.771679402</td><td> 0.90941226 </td><td>-0.68928096 </td><td>-0.3276418  </td><td>-0.1390966  </td><td>-0.055352794</td><td>-0.05975184 </td><td>378.66      </td><td>0           </td></tr>\n",
       "\t<tr><td>1           </td><td>-0.9662717  </td><td>-0.18522601 </td><td>1.7929933   </td><td>-0.8632913  </td><td>-0.01030888 </td><td> 1.24720317 </td><td> 0.23760894 </td><td> 0.37743587 </td><td>-1.3870241  </td><td>...         </td><td>-0.108300452</td><td> 0.005273597</td><td>-0.19032052 </td><td>-1.17557533 </td><td> 0.6473760  </td><td>-0.2219288  </td><td> 0.062722849</td><td> 0.06145763 </td><td>123.50      </td><td>0           </td></tr>\n",
       "\t<tr><td>2           </td><td>-1.1582331  </td><td> 0.87773675 </td><td>1.5487178   </td><td> 0.4030339  </td><td>-0.40719338 </td><td> 0.09592146 </td><td> 0.59294075 </td><td>-0.27053268 </td><td> 0.8177393  </td><td>...         </td><td>-0.009430697</td><td> 0.798278495</td><td>-0.13745808 </td><td> 0.14126698 </td><td>-0.2060096  </td><td> 0.5022922  </td><td> 0.219422230</td><td> 0.21515315 </td><td> 69.99      </td><td>0           </td></tr>\n",
       "\t<tr><td>2           </td><td>-0.4259659  </td><td> 0.96052304 </td><td>1.1411093   </td><td>-0.1682521  </td><td> 0.42098688 </td><td>-0.02972755 </td><td> 0.47620095 </td><td> 0.26031433 </td><td>-0.5686714  </td><td>...         </td><td>-0.208253515</td><td>-0.559824796</td><td>-0.02639767 </td><td>-0.37142658 </td><td>-0.2327938  </td><td> 0.1059148  </td><td> 0.253844225</td><td> 0.08108026 </td><td>  3.67      </td><td>0           </td></tr>\n",
       "</tbody>\n",
       "</table>\n"
      ],
      "text/latex": [
       "\\begin{tabular}{r|lllllllllllllllllllllllllllllll}\n",
       " Time & V1 & V2 & V3 & V4 & V5 & V6 & V7 & V8 & V9 & ... & V21 & V22 & V23 & V24 & V25 & V26 & V27 & V28 & Amount & Class\\\\\n",
       "\\hline\n",
       "\t 0            & -1.3598071   & -0.07278117  & 2.5363467    &  1.3781552   & -0.33832077  &  0.46238778  &  0.23959855  &  0.09869790  &  0.3637870   & ...          & -0.018306778 &  0.277837576 & -0.11047391  &  0.06692807  &  0.1285394   & -0.1891148   &  0.133558377 & -0.02105305  & 149.62       & 0           \\\\\n",
       "\t 0            &  1.1918571   &  0.26615071  & 0.1664801    &  0.4481541   &  0.06001765  & -0.08236081  & -0.07880298  &  0.08510165  & -0.2554251   & ...          & -0.225775248 & -0.638671953 &  0.10128802  & -0.33984648  &  0.1671704   &  0.1258945   & -0.008983099 &  0.01472417  &   2.69       & 0           \\\\\n",
       "\t 1            & -1.3583541   & -1.34016307  & 1.7732093    &  0.3797796   & -0.50319813  &  1.80049938  &  0.79146096  &  0.24767579  & -1.5146543   & ...          &  0.247998153 &  0.771679402 &  0.90941226  & -0.68928096  & -0.3276418   & -0.1390966   & -0.055352794 & -0.05975184  & 378.66       & 0           \\\\\n",
       "\t 1            & -0.9662717   & -0.18522601  & 1.7929933    & -0.8632913   & -0.01030888  &  1.24720317  &  0.23760894  &  0.37743587  & -1.3870241   & ...          & -0.108300452 &  0.005273597 & -0.19032052  & -1.17557533  &  0.6473760   & -0.2219288   &  0.062722849 &  0.06145763  & 123.50       & 0           \\\\\n",
       "\t 2            & -1.1582331   &  0.87773675  & 1.5487178    &  0.4030339   & -0.40719338  &  0.09592146  &  0.59294075  & -0.27053268  &  0.8177393   & ...          & -0.009430697 &  0.798278495 & -0.13745808  &  0.14126698  & -0.2060096   &  0.5022922   &  0.219422230 &  0.21515315  &  69.99       & 0           \\\\\n",
       "\t 2            & -0.4259659   &  0.96052304  & 1.1411093    & -0.1682521   &  0.42098688  & -0.02972755  &  0.47620095  &  0.26031433  & -0.5686714   & ...          & -0.208253515 & -0.559824796 & -0.02639767  & -0.37142658  & -0.2327938   &  0.1059148   &  0.253844225 &  0.08108026  &   3.67       & 0           \\\\\n",
       "\\end{tabular}\n"
      ],
      "text/markdown": [
       "\n",
       "Time | V1 | V2 | V3 | V4 | V5 | V6 | V7 | V8 | V9 | ... | V21 | V22 | V23 | V24 | V25 | V26 | V27 | V28 | Amount | Class | \n",
       "|---|---|---|---|---|---|\n",
       "| 0            | -1.3598071   | -0.07278117  | 2.5363467    |  1.3781552   | -0.33832077  |  0.46238778  |  0.23959855  |  0.09869790  |  0.3637870   | ...          | -0.018306778 |  0.277837576 | -0.11047391  |  0.06692807  |  0.1285394   | -0.1891148   |  0.133558377 | -0.02105305  | 149.62       | 0            | \n",
       "| 0            |  1.1918571   |  0.26615071  | 0.1664801    |  0.4481541   |  0.06001765  | -0.08236081  | -0.07880298  |  0.08510165  | -0.2554251   | ...          | -0.225775248 | -0.638671953 |  0.10128802  | -0.33984648  |  0.1671704   |  0.1258945   | -0.008983099 |  0.01472417  |   2.69       | 0            | \n",
       "| 1            | -1.3583541   | -1.34016307  | 1.7732093    |  0.3797796   | -0.50319813  |  1.80049938  |  0.79146096  |  0.24767579  | -1.5146543   | ...          |  0.247998153 |  0.771679402 |  0.90941226  | -0.68928096  | -0.3276418   | -0.1390966   | -0.055352794 | -0.05975184  | 378.66       | 0            | \n",
       "| 1            | -0.9662717   | -0.18522601  | 1.7929933    | -0.8632913   | -0.01030888  |  1.24720317  |  0.23760894  |  0.37743587  | -1.3870241   | ...          | -0.108300452 |  0.005273597 | -0.19032052  | -1.17557533  |  0.6473760   | -0.2219288   |  0.062722849 |  0.06145763  | 123.50       | 0            | \n",
       "| 2            | -1.1582331   |  0.87773675  | 1.5487178    |  0.4030339   | -0.40719338  |  0.09592146  |  0.59294075  | -0.27053268  |  0.8177393   | ...          | -0.009430697 |  0.798278495 | -0.13745808  |  0.14126698  | -0.2060096   |  0.5022922   |  0.219422230 |  0.21515315  |  69.99       | 0            | \n",
       "| 2            | -0.4259659   |  0.96052304  | 1.1411093    | -0.1682521   |  0.42098688  | -0.02972755  |  0.47620095  |  0.26031433  | -0.5686714   | ...          | -0.208253515 | -0.559824796 | -0.02639767  | -0.37142658  | -0.2327938   |  0.1059148   |  0.253844225 |  0.08108026  |   3.67       | 0            | \n",
       "\n",
       "\n"
      ],
      "text/plain": [
       "  Time V1         V2          V3        V4         V5          V6         \n",
       "1 0    -1.3598071 -0.07278117 2.5363467  1.3781552 -0.33832077  0.46238778\n",
       "2 0     1.1918571  0.26615071 0.1664801  0.4481541  0.06001765 -0.08236081\n",
       "3 1    -1.3583541 -1.34016307 1.7732093  0.3797796 -0.50319813  1.80049938\n",
       "4 1    -0.9662717 -0.18522601 1.7929933 -0.8632913 -0.01030888  1.24720317\n",
       "5 2    -1.1582331  0.87773675 1.5487178  0.4030339 -0.40719338  0.09592146\n",
       "6 2    -0.4259659  0.96052304 1.1411093 -0.1682521  0.42098688 -0.02972755\n",
       "  V7          V8          V9         ... V21          V22          V23        \n",
       "1  0.23959855  0.09869790  0.3637870 ... -0.018306778  0.277837576 -0.11047391\n",
       "2 -0.07880298  0.08510165 -0.2554251 ... -0.225775248 -0.638671953  0.10128802\n",
       "3  0.79146096  0.24767579 -1.5146543 ...  0.247998153  0.771679402  0.90941226\n",
       "4  0.23760894  0.37743587 -1.3870241 ... -0.108300452  0.005273597 -0.19032052\n",
       "5  0.59294075 -0.27053268  0.8177393 ... -0.009430697  0.798278495 -0.13745808\n",
       "6  0.47620095  0.26031433 -0.5686714 ... -0.208253515 -0.559824796 -0.02639767\n",
       "  V24         V25        V26        V27          V28         Amount Class\n",
       "1  0.06692807  0.1285394 -0.1891148  0.133558377 -0.02105305 149.62 0    \n",
       "2 -0.33984648  0.1671704  0.1258945 -0.008983099  0.01472417   2.69 0    \n",
       "3 -0.68928096 -0.3276418 -0.1390966 -0.055352794 -0.05975184 378.66 0    \n",
       "4 -1.17557533  0.6473760 -0.2219288  0.062722849  0.06145763 123.50 0    \n",
       "5  0.14126698 -0.2060096  0.5022922  0.219422230  0.21515315  69.99 0    \n",
       "6 -0.37142658 -0.2327938  0.1059148  0.253844225  0.08108026   3.67 0    "
      ]
     },
     "metadata": {},
     "output_type": "display_data"
    }
   ],
   "source": [
    "data <- read.csv(\"D:\\\\projectR\\\\datafiles\\\\creditcard.csv\", header = TRUE,\n",
    "                 stringsAsFactors = FALSE,\n",
    "                 strip.white = TRUE ,\n",
    "                 sep = ',')\n",
    "head(data)"
   ]
  },
  {
   "cell_type": "code",
   "execution_count": 286,
   "metadata": {},
   "outputs": [],
   "source": [
    "data <- data[c(12,31)]"
   ]
  },
  {
   "cell_type": "code",
   "execution_count": 287,
   "metadata": {},
   "outputs": [],
   "source": [
    "library(InformationValue)\n",
    "predicted <- predict(fit, data, type=\"response\")"
   ]
  },
  {
   "cell_type": "code",
   "execution_count": 288,
   "metadata": {},
   "outputs": [
    {
     "data": {
      "image/png": "[encoded data removed]",
      "text/plain": [
       "plot without title"
      ]
     },
     "metadata": {},
     "output_type": "display_data"
    }
   ],
   "source": [
    "plotROC(data, predicted)"
   ]
  },
  {
   "cell_type": "code",
   "execution_count": 289,
   "metadata": {},
   "outputs": [
    {
     "data": {
      "text/html": [
       "<table>\n",
       "<thead><tr><th></th><th scope=col>0</th><th scope=col>1</th></tr></thead>\n",
       "<tbody>\n",
       "\t<tr><th scope=row>0</th><td>280218</td><td>129   </td></tr>\n",
       "\t<tr><th scope=row>1</th><td>  4097</td><td>363   </td></tr>\n",
       "</tbody>\n",
       "</table>\n"
      ],
      "text/latex": [
       "\\begin{tabular}{r|ll}\n",
       "  & 0 & 1\\\\\n",
       "\\hline\n",
       "\t0 & 280218 & 129   \\\\\n",
       "\t1 &   4097 & 363   \\\\\n",
       "\\end{tabular}\n"
      ],
      "text/markdown": [
       "\n",
       "| <!--/--> | 0 | 1 | \n",
       "|---|---|\n",
       "| 0 | 280218 | 129    | \n",
       "| 1 |   4097 | 363    | \n",
       "\n",
       "\n"
      ],
      "text/plain": [
       "  0      1  \n",
       "0 280218 129\n",
       "1   4097 363"
      ]
     },
     "metadata": {},
     "output_type": "display_data"
    }
   ],
   "source": [
    "confusionMatrix(data$Class, predicted > 0.5)"
   ]
  },
  {
   "cell_type": "code",
   "execution_count": 297,
   "metadata": {},
   "outputs": [
    {
     "data": {
      "text/html": [
       "0.802845528455285"
      ],
      "text/latex": [
       "0.802845528455285"
      ],
      "text/markdown": [
       "0.802845528455285"
      ],
      "text/plain": [
       "[1] 0.8028455"
      ]
     },
     "metadata": {},
     "output_type": "display_data"
    },
    {
     "data": {
      "text/html": [
       "0.932208993545891"
      ],
      "text/latex": [
       "0.932208993545891"
      ],
      "text/markdown": [
       "0.932208993545891"
      ],
      "text/plain": [
       "[1] 0.932209"
      ]
     },
     "metadata": {},
     "output_type": "display_data"
    }
   ],
   "source": [
    "sensitivity(data$Class, predicted, threshold = 0.30)\n",
    "\n",
    "specificity(data$Class, predicted, threshold = 0.30)"
   ]
  },
  {
   "cell_type": "code",
   "execution_count": null,
   "metadata": {},
   "outputs": [],
   "source": []
  }
 ],
 "metadata": {
  "kernelspec": {
   "display_name": "R",
   "language": "R",
   "name": "ir"
  },
  "language_info": {
   "codemirror_mode": "r",
   "file_extension": ".r",
   "mimetype": "text/x-r-source",
   "name": "R",
   "pygments_lexer": "r",
   "version": "3.5.1"
  }
 },
 "nbformat": 4,
 "nbformat_minor": 2
}
