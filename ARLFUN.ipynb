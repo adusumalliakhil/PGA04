{
 "cells": [
  {
   "cell_type": "code",
   "execution_count": 2,
   "metadata": {},
   "outputs": [],
   "source": [
    "# Libraries:\n",
    "library(dplyr)\n",
    "\n",
    "# Function 1:\n",
    "function1 <- function(m,n,x,H,ref_samp) {\n",
    "  N=m+n\n",
    "  \n",
    "  test <- data.frame(round(rnorm(n,mean = x),2),1)\n",
    "  colnames(test) <- c(\"dat\",\"z_k\") \n",
    "  \n",
    "  single <- rbind(ref_samp,test)\n",
    "  single <- single[order(single$dat),]\n",
    "  single %>% mutate(\n",
    "    k = 1:nrow(single),\n",
    "    t_1 = k*z_k,\n",
    "    t_2 = abs(k - .5*(N+1))*z_k) -> single\n",
    "  \n",
    "  metrics <- data.frame(sum(single$t_1))\n",
    "  colnames(metrics) <- \"T_1\"\n",
    "  metrics$T_2 <- sum(single$t_2)\n",
    "  metrics$sigma_1_sqrd <- (1/12)*m*n*(N+1)\n",
    "  metrics$mu_1 <- .5*n*(N+1)\n",
    "  \n",
    "  if((N %% 2) == 0) {\n",
    "    # even\n",
    "    metrics$simga_2_sqrd <- (1/48)*m*n*((N^2-4)/(N-1))\n",
    "    metrics$mu_2 <- (n*N)/4\n",
    "  } else {\n",
    "    # odd\n",
    "    metrics$sigma_2_sqrd <- (1/48)*(m*n*(N+1)*(N^2+3))/(N^2)\n",
    "    metrics$mu_2 <- (n*(N^2-1))/(4*N)\n",
    "  }\n",
    "  \n",
    "  metrics %>% mutate(\n",
    "    S_1 = (T_1 - mu_1)/sqrt(sigma_1_sqrd),\n",
    "    S_2 = (T_2 - mu_2)/sqrt(sigma_2_sqrd),\n",
    "    Lapage = S_1^2 + S_2^2) -> metrics\n",
    "  \n",
    "  if (metrics$Lapage < H) {\n",
    "    metrics$process <- \"IC\"\n",
    "  } else {\n",
    "    metrics$process <- \"OOC\"\n",
    "  }\n",
    "  return(metrics)\n",
    "  \n",
    "}"
   ]
  },
  {
   "cell_type": "code",
   "execution_count": 3,
   "metadata": {},
   "outputs": [],
   "source": [
    "# Function 2:\n",
    "function2 <- function(m,n,x,H) {\n",
    "  ref <- data.frame(round(rnorm(m,mean = 0.5),2),0)\n",
    "  colnames(ref) <- c(\"dat\",\"z_k\")\n",
    "  \n",
    "  set <- replicate(1000, function1(m,n,x,H,ref), simplify=FALSE)\n",
    "  set <- do.call(rbind,set)\n",
    "  #print(table(set$process))\n",
    "  return(set)\n",
    "}"
   ]
  },
  {
   "cell_type": "code",
   "execution_count": 4,
   "metadata": {},
   "outputs": [],
   "source": [
    "# Function 3:\n",
    "function3 <- function(m,n,x,H,w) {\n",
    "  full_set <- replicate(w,function2(m,n,x,H),simplify=FALSE)\n",
    "  return(full_set)\n",
    "}"
   ]
  },
  {
   "cell_type": "code",
   "execution_count": 6,
   "metadata": {},
   "outputs": [],
   "source": [
    "# Inputs for function 3:\n",
    "m=30\n",
    "n=11\n",
    "H = 9.24\n",
    "w=30\n",
    "x=0.5\n",
    "test1 <- function3(m,n,x,H,w)"
   ]
  },
  {
   "cell_type": "code",
   "execution_count": 7,
   "metadata": {},
   "outputs": [
    {
     "name": "stdout",
     "output_type": "stream",
     "text": [
      "[1] \"2: 1\"\n",
      "[1] \"2: 2\"\n",
      "[1] \"2: 3\"\n",
      "[1] \"2: 4\"\n",
      "[1] \"2: 5\"\n",
      "[1] \"2: 6\"\n",
      "[1] \"2: 7\"\n",
      "[1] \"2: 8\"\n",
      "[1] \"2: 12\"\n",
      "[1] \"2: 13\"\n",
      "[1] \"2: 15\"\n",
      "[1] \"2: 16\"\n",
      "[1] \"2: 17\"\n",
      "[1] \"2: 18\"\n",
      "[1] \"2: 19\"\n",
      "[1] \"2: 20\"\n",
      "[1] \"2: 21\"\n",
      "[1] \"2: 22\"\n",
      "[1] \"2: 23\"\n",
      "[1] \"2: 24\"\n",
      "[1] \"2: 25\"\n",
      "[1] \"2: 26\"\n",
      "[1] \"2: 27\"\n",
      "[1] \"2: 28\"\n",
      "[1] \"2: 29\"\n",
      "[1] \"2: 30\"\n",
      "[1] 13723.18\n",
      "[1] 2\n",
      "[1] 1618.167\n",
      "[1] 26\n"
     ]
    }
   ],
   "source": [
    "# Calculate ARL\n",
    "total_RL = 0\n",
    "n_errors = 0\n",
    "total_RL.2 = 0\n",
    "n_errors.2 = 0\n",
    "for (i in 1:w) {\n",
    "  set <- test1[[i]]\n",
    "  RL_i <- as.numeric(which(set$process == \"OOC\", arr.ind=TRUE))\n",
    "  \n",
    "  if (length(RL_i)==0) {\n",
    "    n_errors <- n_errors + 1\n",
    "    #print(i)\n",
    "    \n",
    "  } else{\n",
    "    total_RL <- total_RL + mean(RL_i)\n",
    "    \n",
    "    \n",
    "  }\n",
    "  \n",
    "  # 2/3 rule\n",
    "  for (k in 1:(nrow(set)-2)) {\n",
    "    vec <- set[k:(k+2),\"process\"]\n",
    "    #se <- names(table(vec))[as.vector(table(vec))==max(table(vec))]\n",
    "    #print(se)\n",
    "    \n",
    "    set$process.2out3[k] <- names(table(vec))[as.vector(table(vec))==max(table(vec))]\n",
    "    #print(set$process.2out3[1:20])\n",
    "  }\n",
    "  RL_i.2 <- as.numeric(which(set$process.2out3 == \"OOC\", arr.ind=TRUE))\n",
    "  #print(RL_i.2)\n",
    "  #print(length(RL_i.2))\n",
    "  if (length(RL_i.2)==0) {\n",
    "    n_errors.2 <- n_errors.2 + 1\n",
    "    #print(n_errors.2)\n",
    "    \n",
    "    print(paste(\"2:\",i))\n",
    "  } else{\n",
    "    total_RL.2 <- total_RL.2 + mean(RL_i.2)\n",
    "    #print(total_RL.2)\n",
    "  }\n",
    "}\n",
    "print(total_RL)\n",
    "print(n_errors)\n",
    "print(total_RL.2)\n",
    "print(n_errors.2)\n",
    "ARL = (total_RL)/(w-n_errors)\n",
    "ARL.2 = (total_RL.2)/(w-n_errors.2)"
   ]
  },
  {
   "cell_type": "code",
   "execution_count": 8,
   "metadata": {},
   "outputs": [
    {
     "name": "stdout",
     "output_type": "stream",
     "text": [
      "[1] 490.1134\n",
      "[1] 404.5417\n"
     ]
    }
   ],
   "source": [
    "print(ARL)\n",
    "print(ARL.2)"
   ]
  },
  {
   "cell_type": "code",
   "execution_count": 15,
   "metadata": {},
   "outputs": [],
   "source": [
    "# Inputs for function 3:\n",
    "m=30\n",
    "n=11\n",
    "H =8\n",
    "w=30\n",
    "x=1\n",
    "test1 <- function3(m,n,x,H,w)"
   ]
  },
  {
   "cell_type": "code",
   "execution_count": 16,
   "metadata": {},
   "outputs": [
    {
     "name": "stdout",
     "output_type": "stream",
     "text": [
      "[1] \"2: 6\"\n",
      "[1] \"2: 9\"\n",
      "[1] \"2: 10\"\n",
      "[1] \"2: 12\"\n",
      "[1] \"2: 13\"\n",
      "[1] \"2: 14\"\n",
      "[1] \"2: 23\"\n",
      "[1] \"2: 29\"\n",
      "[1] \"2: 30\"\n",
      "[1] 14363.49\n",
      "[1] 0\n",
      "[1] 9663.387\n",
      "[1] 9\n",
      "[1] 478.7829\n",
      "[1] 460.1613\n"
     ]
    }
   ],
   "source": [
    "# Calculate ARL\n",
    "total_RL = 0\n",
    "n_errors = 0\n",
    "total_RL.2 = 0\n",
    "n_errors.2 = 0\n",
    "for (i in 1:w) {\n",
    "  set <- test1[[i]]\n",
    "  RL_i <- as.numeric(which(set$process == \"OOC\", arr.ind=TRUE))\n",
    "  \n",
    "  if (length(RL_i)==0) {\n",
    "    n_errors <- n_errors + 1\n",
    "    #print(i)\n",
    "    \n",
    "  } else{\n",
    "    total_RL <- total_RL + mean(RL_i)\n",
    "    \n",
    "    \n",
    "  }\n",
    "  \n",
    "  # 2/3 rule\n",
    "  for (k in 1:(nrow(set)-2)) {\n",
    "    vec <- set[k:(k+2),\"process\"]\n",
    "    #se <- names(table(vec))[as.vector(table(vec))==max(table(vec))]\n",
    "    #print(se)\n",
    "    \n",
    "    set$process.2out3[k] <- names(table(vec))[as.vector(table(vec))==max(table(vec))]\n",
    "    #print(set$process.2out3[1:20])\n",
    "  }\n",
    "  RL_i.2 <- as.numeric(which(set$process.2out3 == \"OOC\", arr.ind=TRUE))\n",
    "  #print(RL_i.2)\n",
    "  #print(length(RL_i.2))\n",
    "  if (length(RL_i.2)==0) {\n",
    "    n_errors.2 <- n_errors.2 + 1\n",
    "    #print(n_errors.2)\n",
    "    \n",
    "    print(paste(\"2:\",i))\n",
    "  } else{\n",
    "    total_RL.2 <- total_RL.2 + mean(RL_i.2)\n",
    "    #print(total_RL.2)\n",
    "  }\n",
    "}\n",
    "print(total_RL)\n",
    "print(n_errors)\n",
    "print(total_RL.2)\n",
    "print(n_errors.2)\n",
    "ARL = (total_RL)/(w-n_errors)\n",
    "ARL.2 = (total_RL.2)/(w-n_errors.2)\n",
    "print(ARL)\n",
    "print(ARL.2)"
   ]
  },
  {
   "cell_type": "code",
   "execution_count": 17,
   "metadata": {},
   "outputs": [
    {
     "name": "stdout",
     "output_type": "stream",
     "text": [
      "[1] 478.7829\n",
      "[1] 460.1613\n"
     ]
    }
   ],
   "source": [
    "print(ARL)\n",
    "print(ARL.2)"
   ]
  },
  {
   "cell_type": "code",
   "execution_count": 24,
   "metadata": {},
   "outputs": [],
   "source": [
    "# Inputs for function 3:\n",
    "m=30\n",
    "n=11\n",
    "H =10\n",
    "w=30\n",
    "x=1.5\n",
    "test1 <- function3(m,n,x,H,w)"
   ]
  },
  {
   "cell_type": "code",
   "execution_count": 25,
   "metadata": {},
   "outputs": [
    {
     "name": "stdout",
     "output_type": "stream",
     "text": [
      "[1] 14924.72\n",
      "[1] 0\n",
      "[1] 15137.09\n",
      "[1] 0\n",
      "[1] 497.4906\n",
      "[1] 504.5698\n"
     ]
    }
   ],
   "source": [
    "# Calculate ARL\n",
    "total_RL = 0\n",
    "n_errors = 0\n",
    "total_RL.2 = 0\n",
    "n_errors.2 = 0\n",
    "for (i in 1:w) {\n",
    "  set <- test1[[i]]\n",
    "  RL_i <- as.numeric(which(set$process == \"OOC\", arr.ind=TRUE))\n",
    "  \n",
    "  if (length(RL_i)==0) {\n",
    "    n_errors <- n_errors + 1\n",
    "    #print(i)\n",
    "    \n",
    "  } else{\n",
    "    total_RL <- total_RL + mean(RL_i)\n",
    "    \n",
    "    \n",
    "  }\n",
    "  \n",
    "  # 2/3 rule\n",
    "  for (k in 1:(nrow(set)-2)) {\n",
    "    vec <- set[k:(k+2),\"process\"]\n",
    "    #se <- names(table(vec))[as.vector(table(vec))==max(table(vec))]\n",
    "    #print(se)\n",
    "    \n",
    "    set$process.2out3[k] <- names(table(vec))[as.vector(table(vec))==max(table(vec))]\n",
    "    #print(set$process.2out3[1:20])\n",
    "  }\n",
    "  RL_i.2 <- as.numeric(which(set$process.2out3 == \"OOC\", arr.ind=TRUE))\n",
    "  #print(RL_i.2)\n",
    "  #print(length(RL_i.2))\n",
    "  if (length(RL_i.2)==0) {\n",
    "    n_errors.2 <- n_errors.2 + 1\n",
    "    #print(n_errors.2)\n",
    "    \n",
    "    print(paste(\"2:\",i))\n",
    "  } else{\n",
    "    total_RL.2 <- total_RL.2 + mean(RL_i.2)\n",
    "    #print(total_RL.2)\n",
    "  }\n",
    "}\n",
    "print(total_RL)\n",
    "print(n_errors)\n",
    "print(total_RL.2)\n",
    "print(n_errors.2)\n",
    "ARL = (total_RL)/(w-n_errors)\n",
    "ARL.2 = (total_RL.2)/(w-n_errors.2)\n",
    "print(ARL)\n",
    "print(ARL.2)"
   ]
  },
  {
   "cell_type": "code",
   "execution_count": null,
   "metadata": {},
   "outputs": [],
   "source": []
  }
 ],
 "metadata": {
  "kernelspec": {
   "display_name": "R",
   "language": "R",
   "name": "ir"
  },
  "language_info": {
   "codemirror_mode": "r",
   "file_extension": ".r",
   "mimetype": "text/x-r-source",
   "name": "R",
   "pygments_lexer": "r",
   "version": "3.5.1"
  }
 },
 "nbformat": 4,
 "nbformat_minor": 2
}
