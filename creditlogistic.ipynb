{
 "cells": [
  {
   "cell_type": "code",
   "execution_count": 141,
   "metadata": {},
   "outputs": [
    {
     "data": {
      "text/html": [
       "<table>\n",
       "<thead><tr><th scope=col>X</th><th scope=col>Time</th><th scope=col>V1</th><th scope=col>V2</th><th scope=col>V3</th><th scope=col>V4</th><th scope=col>V5</th><th scope=col>V6</th><th scope=col>V7</th><th scope=col>V8</th><th scope=col>...</th><th scope=col>V21</th><th scope=col>V22</th><th scope=col>V23</th><th scope=col>V24</th><th scope=col>V25</th><th scope=col>V26</th><th scope=col>V27</th><th scope=col>V28</th><th scope=col>Amount</th><th scope=col>Class</th></tr></thead>\n",
       "<tbody>\n",
       "\t<tr><td>193397      </td><td>130284      </td><td> 1.7911585  </td><td>-0.2954602  </td><td>-3.02937478 </td><td> 0.4569578  </td><td> 1.0719955  </td><td>-0.809659697</td><td> 0.9591775  </td><td>-0.46021265 </td><td>...         </td><td> 0.1055030  </td><td> 0.07119964 </td><td>-0.26482732 </td><td> 0.02048951 </td><td> 0.4111050  </td><td> 0.70559029 </td><td>-0.136621906</td><td>-0.02591442 </td><td>193.50      </td><td>0           </td></tr>\n",
       "\t<tr><td>205683      </td><td>136053      </td><td>-1.9663052  </td><td>-1.5410305  </td><td> 0.11053521 </td><td> 0.2319662  </td><td>-0.4389271  </td><td> 0.286191552</td><td> 0.8906324  </td><td>-0.06281579 </td><td>...         </td><td>-0.1161871  </td><td>-0.02100650 </td><td>-0.07543594 </td><td> 0.75459464 </td><td>-1.3862034  </td><td>-1.09621605 </td><td>-0.166307955</td><td>-0.33892683 </td><td>341.00      </td><td>0           </td></tr>\n",
       "\t<tr><td>255496      </td><td>157481      </td><td> 1.9264039  </td><td>-0.8335681  </td><td>-1.69719218 </td><td>-0.6191259  </td><td> 1.6427545  </td><td> 3.934753742</td><td>-1.2740883  </td><td> 1.05279683 </td><td>...         </td><td> 0.1741972  </td><td> 0.55212921 </td><td> 0.18244616 </td><td> 0.76096536 </td><td>-0.2536761  </td><td> 0.58669942 </td><td>-0.004569944</td><td>-0.04897061 </td><td> 34.35      </td><td>0           </td></tr>\n",
       "\t<tr><td> 23295      </td><td> 32729      </td><td>-0.3512252  </td><td> 0.2585861  </td><td>-0.05554136 </td><td>-0.9137599  </td><td>-0.1188882  </td><td>-0.464583317</td><td> 1.3054781  </td><td>-0.71206221 </td><td>...         </td><td> 0.1540459  </td><td> 0.74407836 </td><td>-0.45143825 </td><td>-0.44820801 </td><td>-0.1123134  </td><td>-0.04237056 </td><td>-0.098132955</td><td>-0.15617994 </td><td>189.00      </td><td>0           </td></tr>\n",
       "\t<tr><td>   350      </td><td>103808      </td><td>-4.5173438  </td><td> 2.5002239  </td><td>-4.01392754 </td><td> 1.1894516  </td><td>-2.4868606  </td><td>-1.413475533</td><td>-4.2457066  </td><td> 1.26508695 </td><td>...         </td><td> 1.3269442  </td><td> 0.10299896 </td><td> 0.50816690 </td><td>-0.27801754 </td><td> 0.1397211  </td><td> 0.06461002 </td><td>-0.972358289</td><td> 0.35135956 </td><td>  2.27      </td><td>1           </td></tr>\n",
       "\t<tr><td> 68065      </td><td> 52892      </td><td>-1.0178826  </td><td> 0.2543384  </td><td> 2.16548829 </td><td> 2.6476996  </td><td> 1.0960378  </td><td> 0.004497289</td><td>-0.2944494  </td><td> 0.34596524 </td><td>...         </td><td> 0.1782814  </td><td> 0.29841126 </td><td> 0.23910510 </td><td> 0.07174718 </td><td>-0.7132739  </td><td>-0.02904549 </td><td> 0.162121210</td><td> 0.17847228 </td><td>  0.77      </td><td>0           </td></tr>\n",
       "</tbody>\n",
       "</table>\n"
      ],
      "text/latex": [
       "\\begin{tabular}{r|llllllllllllllllllllllllllllllll}\n",
       " X & Time & V1 & V2 & V3 & V4 & V5 & V6 & V7 & V8 & ... & V21 & V22 & V23 & V24 & V25 & V26 & V27 & V28 & Amount & Class\\\\\n",
       "\\hline\n",
       "\t 193397       & 130284       &  1.7911585   & -0.2954602   & -3.02937478  &  0.4569578   &  1.0719955   & -0.809659697 &  0.9591775   & -0.46021265  & ...          &  0.1055030   &  0.07119964  & -0.26482732  &  0.02048951  &  0.4111050   &  0.70559029  & -0.136621906 & -0.02591442  & 193.50       & 0           \\\\\n",
       "\t 205683       & 136053       & -1.9663052   & -1.5410305   &  0.11053521  &  0.2319662   & -0.4389271   &  0.286191552 &  0.8906324   & -0.06281579  & ...          & -0.1161871   & -0.02100650  & -0.07543594  &  0.75459464  & -1.3862034   & -1.09621605  & -0.166307955 & -0.33892683  & 341.00       & 0           \\\\\n",
       "\t 255496       & 157481       &  1.9264039   & -0.8335681   & -1.69719218  & -0.6191259   &  1.6427545   &  3.934753742 & -1.2740883   &  1.05279683  & ...          &  0.1741972   &  0.55212921  &  0.18244616  &  0.76096536  & -0.2536761   &  0.58669942  & -0.004569944 & -0.04897061  &  34.35       & 0           \\\\\n",
       "\t  23295       &  32729       & -0.3512252   &  0.2585861   & -0.05554136  & -0.9137599   & -0.1188882   & -0.464583317 &  1.3054781   & -0.71206221  & ...          &  0.1540459   &  0.74407836  & -0.45143825  & -0.44820801  & -0.1123134   & -0.04237056  & -0.098132955 & -0.15617994  & 189.00       & 0           \\\\\n",
       "\t    350       & 103808       & -4.5173438   &  2.5002239   & -4.01392754  &  1.1894516   & -2.4868606   & -1.413475533 & -4.2457066   &  1.26508695  & ...          &  1.3269442   &  0.10299896  &  0.50816690  & -0.27801754  &  0.1397211   &  0.06461002  & -0.972358289 &  0.35135956  &   2.27       & 1           \\\\\n",
       "\t  68065       &  52892       & -1.0178826   &  0.2543384   &  2.16548829  &  2.6476996   &  1.0960378   &  0.004497289 & -0.2944494   &  0.34596524  & ...          &  0.1782814   &  0.29841126  &  0.23910510  &  0.07174718  & -0.7132739   & -0.02904549  &  0.162121210 &  0.17847228  &   0.77       & 0           \\\\\n",
       "\\end{tabular}\n"
      ],
      "text/markdown": [
       "\n",
       "X | Time | V1 | V2 | V3 | V4 | V5 | V6 | V7 | V8 | ... | V21 | V22 | V23 | V24 | V25 | V26 | V27 | V28 | Amount | Class | \n",
       "|---|---|---|---|---|---|\n",
       "| 193397       | 130284       |  1.7911585   | -0.2954602   | -3.02937478  |  0.4569578   |  1.0719955   | -0.809659697 |  0.9591775   | -0.46021265  | ...          |  0.1055030   |  0.07119964  | -0.26482732  |  0.02048951  |  0.4111050   |  0.70559029  | -0.136621906 | -0.02591442  | 193.50       | 0            | \n",
       "| 205683       | 136053       | -1.9663052   | -1.5410305   |  0.11053521  |  0.2319662   | -0.4389271   |  0.286191552 |  0.8906324   | -0.06281579  | ...          | -0.1161871   | -0.02100650  | -0.07543594  |  0.75459464  | -1.3862034   | -1.09621605  | -0.166307955 | -0.33892683  | 341.00       | 0            | \n",
       "| 255496       | 157481       |  1.9264039   | -0.8335681   | -1.69719218  | -0.6191259   |  1.6427545   |  3.934753742 | -1.2740883   |  1.05279683  | ...          |  0.1741972   |  0.55212921  |  0.18244616  |  0.76096536  | -0.2536761   |  0.58669942  | -0.004569944 | -0.04897061  |  34.35       | 0            | \n",
       "|  23295       |  32729       | -0.3512252   |  0.2585861   | -0.05554136  | -0.9137599   | -0.1188882   | -0.464583317 |  1.3054781   | -0.71206221  | ...          |  0.1540459   |  0.74407836  | -0.45143825  | -0.44820801  | -0.1123134   | -0.04237056  | -0.098132955 | -0.15617994  | 189.00       | 0            | \n",
       "|    350       | 103808       | -4.5173438   |  2.5002239   | -4.01392754  |  1.1894516   | -2.4868606   | -1.413475533 | -4.2457066   |  1.26508695  | ...          |  1.3269442   |  0.10299896  |  0.50816690  | -0.27801754  |  0.1397211   |  0.06461002  | -0.972358289 |  0.35135956  |   2.27       | 1            | \n",
       "|  68065       |  52892       | -1.0178826   |  0.2543384   |  2.16548829  |  2.6476996   |  1.0960378   |  0.004497289 | -0.2944494   |  0.34596524  | ...          |  0.1782814   |  0.29841126  |  0.23910510  |  0.07174718  | -0.7132739   | -0.02904549  |  0.162121210 |  0.17847228  |   0.77       | 0            | \n",
       "\n",
       "\n"
      ],
      "text/plain": [
       "  X      Time   V1         V2         V3          V4         V5        \n",
       "1 193397 130284  1.7911585 -0.2954602 -3.02937478  0.4569578  1.0719955\n",
       "2 205683 136053 -1.9663052 -1.5410305  0.11053521  0.2319662 -0.4389271\n",
       "3 255496 157481  1.9264039 -0.8335681 -1.69719218 -0.6191259  1.6427545\n",
       "4  23295  32729 -0.3512252  0.2585861 -0.05554136 -0.9137599 -0.1188882\n",
       "5    350 103808 -4.5173438  2.5002239 -4.01392754  1.1894516 -2.4868606\n",
       "6  68065  52892 -1.0178826  0.2543384  2.16548829  2.6476996  1.0960378\n",
       "  V6           V7         V8          ... V21        V22         V23        \n",
       "1 -0.809659697  0.9591775 -0.46021265 ...  0.1055030  0.07119964 -0.26482732\n",
       "2  0.286191552  0.8906324 -0.06281579 ... -0.1161871 -0.02100650 -0.07543594\n",
       "3  3.934753742 -1.2740883  1.05279683 ...  0.1741972  0.55212921  0.18244616\n",
       "4 -0.464583317  1.3054781 -0.71206221 ...  0.1540459  0.74407836 -0.45143825\n",
       "5 -1.413475533 -4.2457066  1.26508695 ...  1.3269442  0.10299896  0.50816690\n",
       "6  0.004497289 -0.2944494  0.34596524 ...  0.1782814  0.29841126  0.23910510\n",
       "  V24         V25        V26         V27          V28         Amount Class\n",
       "1  0.02048951  0.4111050  0.70559029 -0.136621906 -0.02591442 193.50 0    \n",
       "2  0.75459464 -1.3862034 -1.09621605 -0.166307955 -0.33892683 341.00 0    \n",
       "3  0.76096536 -0.2536761  0.58669942 -0.004569944 -0.04897061  34.35 0    \n",
       "4 -0.44820801 -0.1123134 -0.04237056 -0.098132955 -0.15617994 189.00 0    \n",
       "5 -0.27801754  0.1397211  0.06461002 -0.972358289  0.35135956   2.27 1    \n",
       "6  0.07174718 -0.7132739 -0.02904549  0.162121210  0.17847228   0.77 0    "
      ]
     },
     "metadata": {},
     "output_type": "display_data"
    }
   ],
   "source": [
    "da1 <- read.csv(\"D:\\\\projectR\\\\datafiles\\\\sampledata.csv\", header = TRUE,\n",
    "                 stringsAsFactors = FALSE,\n",
    "                 strip.white = TRUE ,\n",
    "                 sep = ',')\n",
    "head(da1)"
   ]
  },
  {
   "cell_type": "code",
   "execution_count": 142,
   "metadata": {},
   "outputs": [
    {
     "data": {
      "text/html": [
       "<table>\n",
       "<thead><tr><th scope=col>Time</th><th scope=col>V1</th><th scope=col>V2</th><th scope=col>V3</th><th scope=col>V4</th><th scope=col>V5</th><th scope=col>V6</th><th scope=col>V7</th><th scope=col>V8</th><th scope=col>V9</th><th scope=col>...</th><th scope=col>V21</th><th scope=col>V22</th><th scope=col>V23</th><th scope=col>V24</th><th scope=col>V25</th><th scope=col>V26</th><th scope=col>V27</th><th scope=col>V28</th><th scope=col>Amount</th><th scope=col>Class</th></tr></thead>\n",
       "<tbody>\n",
       "\t<tr><td>130284       </td><td> 0.68929457  </td><td>-0.4206078   </td><td>-0.26109873  </td><td>-0.2558355   </td><td> 0.5682744   </td><td>-0.29216727  </td><td> 0.52362315  </td><td>-0.17207756  </td><td> 0.3745895   </td><td>...          </td><td>-0.0341924488</td><td> 0.07917442  </td><td>-0.26425893  </td><td> 0.0784486   </td><td> 0.6522191   </td><td> 1.39432039  </td><td>-0.21647704  </td><td>-0.08949951  </td><td>193.50       </td><td>0            </td></tr>\n",
       "\t<tr><td>136053       </td><td>-0.18287808  </td><td>-0.8420131   </td><td> 0.38834531  </td><td>-0.3390009   </td><td> 0.1011762   </td><td> 0.38724296  </td><td> 0.50819058  </td><td>-0.05876935  </td><td> 0.7425555   </td><td>...          </td><td>-0.1423543041</td><td>-0.01608998  </td><td>-0.06417847  </td><td> 1.3426745   </td><td>-2.3546742   </td><td>-2.29456728  </td><td>-0.25398065  </td><td>-0.72828446  </td><td>341.00       </td><td>0            </td></tr>\n",
       "\t<tr><td>157481       </td><td> 0.72068738  </td><td>-0.6026622   </td><td> 0.01444358  </td><td>-0.6535969   </td><td> 0.7447232   </td><td> 2.64929313  </td><td> 0.02081526  </td><td> 0.25932092  </td><td> 0.8953992   </td><td>...          </td><td>-0.0006768047</td><td> 0.57605526  </td><td> 0.20825827  </td><td> 1.3536457   </td><td>-0.4599584   </td><td> 1.15091185  </td><td>-0.04965036  </td><td>-0.13655178  </td><td> 34.35       </td><td>0            </td></tr>\n",
       "\t<tr><td> 32729       </td><td> 0.19201008  </td><td>-0.2331611   </td><td> 0.35399482  </td><td>-0.7625048   </td><td> 0.2001154   </td><td>-0.07822544  </td><td> 0.60159087  </td><td>-0.24388644  </td><td>-0.4095070   </td><td>...          </td><td>-0.0105085690</td><td> 0.77437090  </td><td>-0.46140200  </td><td>-0.7287104   </td><td>-0.2234589   </td><td>-0.13700041  </td><td>-0.16785236  </td><td>-0.35534090  </td><td>189.00       </td><td>0            </td></tr>\n",
       "\t<tr><td>103808       </td><td>-0.77501849  </td><td> 0.5252368   </td><td>-0.46473893  </td><td> 0.0149221   </td><td>-0.5319377   </td><td>-0.66652343  </td><td>-0.64822875  </td><td> 0.31985037  </td><td> 0.9270283   </td><td>...          </td><td> 0.5617446134</td><td> 0.11202845  </td><td> 0.55236239  </td><td>-0.4356199   </td><td> 0.1981944   </td><td> 0.08202387  </td><td>-1.27229721  </td><td> 0.68042825  </td><td>  2.27       </td><td>1            </td></tr>\n",
       "\t<tr><td> 52892       </td><td> 0.03726729  </td><td>-0.2345982   </td><td> 0.81338202  </td><td> 0.5539459   </td><td> 0.5757070   </td><td> 0.21259703  </td><td> 0.24137574  </td><td> 0.05778479  </td><td>-0.3465667   </td><td>...          </td><td> 0.0013158520</td><td> 0.31392210  </td><td> 0.26811498  </td><td> 0.1667211   </td><td>-1.2288645   </td><td>-0.10971963  </td><td> 0.16093743  </td><td> 0.32760584  </td><td>  0.77       </td><td>0            </td></tr>\n",
       "</tbody>\n",
       "</table>\n"
      ],
      "text/latex": [
       "\\begin{tabular}{r|lllllllllllllllllllllllllllllll}\n",
       " Time & V1 & V2 & V3 & V4 & V5 & V6 & V7 & V8 & V9 & ... & V21 & V22 & V23 & V24 & V25 & V26 & V27 & V28 & Amount & Class\\\\\n",
       "\\hline\n",
       "\t 130284        &  0.68929457   & -0.4206078    & -0.26109873   & -0.2558355    &  0.5682744    & -0.29216727   &  0.52362315   & -0.17207756   &  0.3745895    & ...           & -0.0341924488 &  0.07917442   & -0.26425893   &  0.0784486    &  0.6522191    &  1.39432039   & -0.21647704   & -0.08949951   & 193.50        & 0            \\\\\n",
       "\t 136053        & -0.18287808   & -0.8420131    &  0.38834531   & -0.3390009    &  0.1011762    &  0.38724296   &  0.50819058   & -0.05876935   &  0.7425555    & ...           & -0.1423543041 & -0.01608998   & -0.06417847   &  1.3426745    & -2.3546742    & -2.29456728   & -0.25398065   & -0.72828446   & 341.00        & 0            \\\\\n",
       "\t 157481        &  0.72068738   & -0.6026622    &  0.01444358   & -0.6535969    &  0.7447232    &  2.64929313   &  0.02081526   &  0.25932092   &  0.8953992    & ...           & -0.0006768047 &  0.57605526   &  0.20825827   &  1.3536457    & -0.4599584    &  1.15091185   & -0.04965036   & -0.13655178   &  34.35        & 0            \\\\\n",
       "\t  32729        &  0.19201008   & -0.2331611    &  0.35399482   & -0.7625048    &  0.2001154    & -0.07822544   &  0.60159087   & -0.24388644   & -0.4095070    & ...           & -0.0105085690 &  0.77437090   & -0.46140200   & -0.7287104    & -0.2234589    & -0.13700041   & -0.16785236   & -0.35534090   & 189.00        & 0            \\\\\n",
       "\t 103808        & -0.77501849   &  0.5252368    & -0.46473893   &  0.0149221    & -0.5319377    & -0.66652343   & -0.64822875   &  0.31985037   &  0.9270283    & ...           &  0.5617446134 &  0.11202845   &  0.55236239   & -0.4356199    &  0.1981944    &  0.08202387   & -1.27229721   &  0.68042825   &   2.27        & 1            \\\\\n",
       "\t  52892        &  0.03726729   & -0.2345982    &  0.81338202   &  0.5539459    &  0.5757070    &  0.21259703   &  0.24137574   &  0.05778479   & -0.3465667    & ...           &  0.0013158520 &  0.31392210   &  0.26811498   &  0.1667211    & -1.2288645    & -0.10971963   &  0.16093743   &  0.32760584   &   0.77        & 0            \\\\\n",
       "\\end{tabular}\n"
      ],
      "text/markdown": [
       "\n",
       "Time | V1 | V2 | V3 | V4 | V5 | V6 | V7 | V8 | V9 | ... | V21 | V22 | V23 | V24 | V25 | V26 | V27 | V28 | Amount | Class | \n",
       "|---|---|---|---|---|---|\n",
       "| 130284        |  0.68929457   | -0.4206078    | -0.26109873   | -0.2558355    |  0.5682744    | -0.29216727   |  0.52362315   | -0.17207756   |  0.3745895    | ...           | -0.0341924488 |  0.07917442   | -0.26425893   |  0.0784486    |  0.6522191    |  1.39432039   | -0.21647704   | -0.08949951   | 193.50        | 0             | \n",
       "| 136053        | -0.18287808   | -0.8420131    |  0.38834531   | -0.3390009    |  0.1011762    |  0.38724296   |  0.50819058   | -0.05876935   |  0.7425555    | ...           | -0.1423543041 | -0.01608998   | -0.06417847   |  1.3426745    | -2.3546742    | -2.29456728   | -0.25398065   | -0.72828446   | 341.00        | 0             | \n",
       "| 157481        |  0.72068738   | -0.6026622    |  0.01444358   | -0.6535969    |  0.7447232    |  2.64929313   |  0.02081526   |  0.25932092   |  0.8953992    | ...           | -0.0006768047 |  0.57605526   |  0.20825827   |  1.3536457    | -0.4599584    |  1.15091185   | -0.04965036   | -0.13655178   |  34.35        | 0             | \n",
       "|  32729        |  0.19201008   | -0.2331611    |  0.35399482   | -0.7625048    |  0.2001154    | -0.07822544   |  0.60159087   | -0.24388644   | -0.4095070    | ...           | -0.0105085690 |  0.77437090   | -0.46140200   | -0.7287104    | -0.2234589    | -0.13700041   | -0.16785236   | -0.35534090   | 189.00        | 0             | \n",
       "| 103808        | -0.77501849   |  0.5252368    | -0.46473893   |  0.0149221    | -0.5319377    | -0.66652343   | -0.64822875   |  0.31985037   |  0.9270283    | ...           |  0.5617446134 |  0.11202845   |  0.55236239   | -0.4356199    |  0.1981944    |  0.08202387   | -1.27229721   |  0.68042825   |   2.27        | 1             | \n",
       "|  52892        |  0.03726729   | -0.2345982    |  0.81338202   |  0.5539459    |  0.5757070    |  0.21259703   |  0.24137574   |  0.05778479   | -0.3465667    | ...           |  0.0013158520 |  0.31392210   |  0.26811498   |  0.1667211    | -1.2288645    | -0.10971963   |  0.16093743   |  0.32760584   |   0.77        | 0             | \n",
       "\n",
       "\n"
      ],
      "text/plain": [
       "  Time   V1          V2         V3          V4         V5         V6         \n",
       "1 130284  0.68929457 -0.4206078 -0.26109873 -0.2558355  0.5682744 -0.29216727\n",
       "2 136053 -0.18287808 -0.8420131  0.38834531 -0.3390009  0.1011762  0.38724296\n",
       "3 157481  0.72068738 -0.6026622  0.01444358 -0.6535969  0.7447232  2.64929313\n",
       "4  32729  0.19201008 -0.2331611  0.35399482 -0.7625048  0.2001154 -0.07822544\n",
       "5 103808 -0.77501849  0.5252368 -0.46473893  0.0149221 -0.5319377 -0.66652343\n",
       "6  52892  0.03726729 -0.2345982  0.81338202  0.5539459  0.5757070  0.21259703\n",
       "  V7          V8          V9         ... V21           V22         V23        \n",
       "1  0.52362315 -0.17207756  0.3745895 ... -0.0341924488  0.07917442 -0.26425893\n",
       "2  0.50819058 -0.05876935  0.7425555 ... -0.1423543041 -0.01608998 -0.06417847\n",
       "3  0.02081526  0.25932092  0.8953992 ... -0.0006768047  0.57605526  0.20825827\n",
       "4  0.60159087 -0.24388644 -0.4095070 ... -0.0105085690  0.77437090 -0.46140200\n",
       "5 -0.64822875  0.31985037  0.9270283 ...  0.5617446134  0.11202845  0.55236239\n",
       "6  0.24137574  0.05778479 -0.3465667 ...  0.0013158520  0.31392210  0.26811498\n",
       "  V24        V25        V26         V27         V28         Amount Class\n",
       "1  0.0784486  0.6522191  1.39432039 -0.21647704 -0.08949951 193.50 0    \n",
       "2  1.3426745 -2.3546742 -2.29456728 -0.25398065 -0.72828446 341.00 0    \n",
       "3  1.3536457 -0.4599584  1.15091185 -0.04965036 -0.13655178  34.35 0    \n",
       "4 -0.7287104 -0.2234589 -0.13700041 -0.16785236 -0.35534090 189.00 0    \n",
       "5 -0.4356199  0.1981944  0.08202387 -1.27229721  0.68042825   2.27 1    \n",
       "6  0.1667211 -1.2288645 -0.10971963  0.16093743  0.32760584   0.77 0    "
      ]
     },
     "metadata": {},
     "output_type": "display_data"
    }
   ],
   "source": [
    "da3 <- da1[c(3:30)]\n",
    "da3 <- scale(da3)\n",
    "da4 <- da1[c(2)]\n",
    "da5 <- da1[c(31,32)]\n",
    "da1 <- cbind(da4,da3,da5)\n",
    "head(da1)"
   ]
  },
  {
   "cell_type": "code",
   "execution_count": 143,
   "metadata": {},
   "outputs": [
    {
     "name": "stderr",
     "output_type": "stream",
     "text": [
      "Warning message:\n",
      "\"glm.fit: fitted probabilities numerically 0 or 1 occurred\""
     ]
    },
    {
     "data": {
      "text/plain": [
       "\n",
       "Call:\n",
       "glm(formula = Class ~ V4 + V6 + V8 + V10 + V13 + V14, family = binomial, \n",
       "    data = da1)\n",
       "\n",
       "Deviance Residuals: \n",
       "     Min        1Q    Median        3Q       Max  \n",
       "-2.42247  -0.23514  -0.11688  -0.00048   3.02959  \n",
       "\n",
       "Coefficients:\n",
       "            Estimate Std. Error z value Pr(>|z|)    \n",
       "(Intercept)  -0.8195     0.1746  -4.694 2.68e-06 ***\n",
       "V4            2.8387     0.2974   9.544  < 2e-16 ***\n",
       "V6           -0.5517     0.1667  -3.309 0.000936 ***\n",
       "V8           -1.5834     0.2955  -5.358 8.43e-08 ***\n",
       "V10          -2.9095     0.4936  -5.895 3.76e-09 ***\n",
       "V13          -0.5332     0.1390  -3.837 0.000124 ***\n",
       "V14          -2.5512     0.4039  -6.317 2.67e-10 ***\n",
       "---\n",
       "Signif. codes:  0 '***' 0.001 '**' 0.01 '*' 0.05 '.' 0.1 ' ' 1\n",
       "\n",
       "(Dispersion parameter for binomial family taken to be 1)\n",
       "\n",
       "    Null deviance: 2213.4  on 1967  degrees of freedom\n",
       "Residual deviance:  446.0  on 1961  degrees of freedom\n",
       "AIC: 460\n",
       "\n",
       "Number of Fisher Scoring iterations: 9\n"
      ]
     },
     "metadata": {},
     "output_type": "display_data"
    }
   ],
   "source": [
    "\n",
    "\n",
    "fit = glm(Class ~ V4+V6+V8+V10+V13+V14, data=da1, family=binomial)\n",
    "summary(fit)\n"
   ]
  },
  {
   "cell_type": "code",
   "execution_count": 144,
   "metadata": {},
   "outputs": [
    {
     "data": {
      "image/png": "[encoded data removed]",
      "text/plain": [
       "plot without title"
      ]
     },
     "metadata": {},
     "output_type": "display_data"
    }
   ],
   "source": [
    "library(InformationValue)\n",
    "predicted <- predict(fit, da1, type=\"response\")  # predicted scores\n",
    "#predicted\n",
    "plotROC(da1, predicted)"
   ]
  },
  {
   "cell_type": "code",
   "execution_count": 145,
   "metadata": {},
   "outputs": [
    {
     "data": {
      "text/html": [
       "0.886178861788618"
      ],
      "text/latex": [
       "0.886178861788618"
      ],
      "text/markdown": [
       "0.886178861788618"
      ],
      "text/plain": [
       "[1] 0.8861789"
      ]
     },
     "metadata": {},
     "output_type": "display_data"
    },
    {
     "data": {
      "text/html": [
       "0.991192411924119"
      ],
      "text/latex": [
       "0.991192411924119"
      ],
      "text/markdown": [
       "0.991192411924119"
      ],
      "text/plain": [
       "[1] 0.9911924"
      ]
     },
     "metadata": {},
     "output_type": "display_data"
    },
    {
     "data": {
      "text/html": [
       "<table>\n",
       "<thead><tr><th></th><th scope=col>0</th><th scope=col>1</th></tr></thead>\n",
       "<tbody>\n",
       "\t<tr><th scope=row>0</th><td>1463</td><td> 56 </td></tr>\n",
       "\t<tr><th scope=row>1</th><td>  13</td><td>436 </td></tr>\n",
       "</tbody>\n",
       "</table>\n"
      ],
      "text/latex": [
       "\\begin{tabular}{r|ll}\n",
       "  & 0 & 1\\\\\n",
       "\\hline\n",
       "\t0 & 1463 &  56 \\\\\n",
       "\t1 &   13 & 436 \\\\\n",
       "\\end{tabular}\n"
      ],
      "text/markdown": [
       "\n",
       "| <!--/--> | 0 | 1 | \n",
       "|---|---|\n",
       "| 0 | 1463 |  56  | \n",
       "| 1 |   13 | 436  | \n",
       "\n",
       "\n"
      ],
      "text/plain": [
       "  0    1  \n",
       "0 1463  56\n",
       "1   13 436"
      ]
     },
     "metadata": {},
     "output_type": "display_data"
    }
   ],
   "source": [
    "sensitivity(da1$Class, predicted, threshold = 0.5)\n",
    "\n",
    "specificity(da1$Class, predicted, threshold = 0.5)\n",
    "\n",
    "\n",
    "confusionMatrix(da1$Class, predicted > 0.5)"
   ]
  },
  {
   "cell_type": "code",
   "execution_count": 146,
   "metadata": {},
   "outputs": [
    {
     "data": {
      "text/html": [
       "<table>\n",
       "<thead><tr><th></th><th scope=col>0</th><th scope=col>1</th></tr></thead>\n",
       "<tbody>\n",
       "\t<tr><th scope=row>0</th><td>1463</td><td> 56 </td></tr>\n",
       "\t<tr><th scope=row>1</th><td>  13</td><td>436 </td></tr>\n",
       "</tbody>\n",
       "</table>\n"
      ],
      "text/latex": [
       "\\begin{tabular}{r|ll}\n",
       "  & 0 & 1\\\\\n",
       "\\hline\n",
       "\t0 & 1463 &  56 \\\\\n",
       "\t1 &   13 & 436 \\\\\n",
       "\\end{tabular}\n"
      ],
      "text/markdown": [
       "\n",
       "| <!--/--> | 0 | 1 | \n",
       "|---|---|\n",
       "| 0 | 1463 |  56  | \n",
       "| 1 |   13 | 436  | \n",
       "\n",
       "\n"
      ],
      "text/plain": [
       "  0    1  \n",
       "0 1463  56\n",
       "1   13 436"
      ]
     },
     "metadata": {},
     "output_type": "display_data"
    }
   ],
   "source": [
    "confusionMatrix(da1$Class, predicted > 0.5)"
   ]
  },
  {
   "cell_type": "code",
   "execution_count": 147,
   "metadata": {},
   "outputs": [
    {
     "data": {
      "text/html": [
       "<dl class=dl-horizontal>\n",
       "\t<dt>V4</dt>\n",
       "\t\t<dd>1.66387353105788</dd>\n",
       "\t<dt>V6</dt>\n",
       "\t\t<dd>1.12084788617521</dd>\n",
       "\t<dt>V8</dt>\n",
       "\t\t<dd>1.16102945744948</dd>\n",
       "\t<dt>V10</dt>\n",
       "\t\t<dd>1.94273238025468</dd>\n",
       "\t<dt>V13</dt>\n",
       "\t\t<dd>1.109692232665</dd>\n",
       "\t<dt>V14</dt>\n",
       "\t\t<dd>1.48653117886269</dd>\n",
       "</dl>\n"
      ],
      "text/latex": [
       "\\begin{description*}\n",
       "\\item[V4] 1.66387353105788\n",
       "\\item[V6] 1.12084788617521\n",
       "\\item[V8] 1.16102945744948\n",
       "\\item[V10] 1.94273238025468\n",
       "\\item[V13] 1.109692232665\n",
       "\\item[V14] 1.48653117886269\n",
       "\\end{description*}\n"
      ],
      "text/markdown": [
       "V4\n",
       ":   1.66387353105788V6\n",
       ":   1.12084788617521V8\n",
       ":   1.16102945744948V10\n",
       ":   1.94273238025468V13\n",
       ":   1.109692232665V14\n",
       ":   1.48653117886269\n",
       "\n"
      ],
      "text/plain": [
       "      V4       V6       V8      V10      V13      V14 \n",
       "1.663874 1.120848 1.161029 1.942732 1.109692 1.486531 "
      ]
     },
     "metadata": {},
     "output_type": "display_data"
    }
   ],
   "source": [
    "library(car)\n",
    "car::vif(fit)"
   ]
  },
  {
   "cell_type": "code",
   "execution_count": 148,
   "metadata": {},
   "outputs": [
    {
     "data": {
      "text/html": [
       "<table>\n",
       "<thead><tr><th scope=col>Time</th><th scope=col>V1</th><th scope=col>V2</th><th scope=col>V3</th><th scope=col>V4</th><th scope=col>V5</th><th scope=col>V6</th><th scope=col>V7</th><th scope=col>V8</th><th scope=col>V9</th><th scope=col>...</th><th scope=col>V21</th><th scope=col>V22</th><th scope=col>V23</th><th scope=col>V24</th><th scope=col>V25</th><th scope=col>V26</th><th scope=col>V27</th><th scope=col>V28</th><th scope=col>Amount</th><th scope=col>Class</th></tr></thead>\n",
       "<tbody>\n",
       "\t<tr><td>130284       </td><td> 0.68929457  </td><td>-0.4206078   </td><td>-0.26109873  </td><td>-0.2558355   </td><td> 0.5682744   </td><td>-0.29216727  </td><td> 0.52362315  </td><td>-0.17207756  </td><td> 0.3745895   </td><td>...          </td><td>-0.0341924488</td><td> 0.07917442  </td><td>-0.26425893  </td><td> 0.0784486   </td><td> 0.6522191   </td><td> 1.39432039  </td><td>-0.21647704  </td><td>-0.08949951  </td><td>193.50       </td><td>0            </td></tr>\n",
       "\t<tr><td>136053       </td><td>-0.18287808  </td><td>-0.8420131   </td><td> 0.38834531  </td><td>-0.3390009   </td><td> 0.1011762   </td><td> 0.38724296  </td><td> 0.50819058  </td><td>-0.05876935  </td><td> 0.7425555   </td><td>...          </td><td>-0.1423543041</td><td>-0.01608998  </td><td>-0.06417847  </td><td> 1.3426745   </td><td>-2.3546742   </td><td>-2.29456728  </td><td>-0.25398065  </td><td>-0.72828446  </td><td>341.00       </td><td>0            </td></tr>\n",
       "\t<tr><td>157481       </td><td> 0.72068738  </td><td>-0.6026622   </td><td> 0.01444358  </td><td>-0.6535969   </td><td> 0.7447232   </td><td> 2.64929313  </td><td> 0.02081526  </td><td> 0.25932092  </td><td> 0.8953992   </td><td>...          </td><td>-0.0006768047</td><td> 0.57605526  </td><td> 0.20825827  </td><td> 1.3536457   </td><td>-0.4599584   </td><td> 1.15091185  </td><td>-0.04965036  </td><td>-0.13655178  </td><td> 34.35       </td><td>0            </td></tr>\n",
       "\t<tr><td> 32729       </td><td> 0.19201008  </td><td>-0.2331611   </td><td> 0.35399482  </td><td>-0.7625048   </td><td> 0.2001154   </td><td>-0.07822544  </td><td> 0.60159087  </td><td>-0.24388644  </td><td>-0.4095070   </td><td>...          </td><td>-0.0105085690</td><td> 0.77437090  </td><td>-0.46140200  </td><td>-0.7287104   </td><td>-0.2234589   </td><td>-0.13700041  </td><td>-0.16785236  </td><td>-0.35534090  </td><td>189.00       </td><td>0            </td></tr>\n",
       "\t<tr><td>103808       </td><td>-0.77501849  </td><td> 0.5252368   </td><td>-0.46473893  </td><td> 0.0149221   </td><td>-0.5319377   </td><td>-0.66652343  </td><td>-0.64822875  </td><td> 0.31985037  </td><td> 0.9270283   </td><td>...          </td><td> 0.5617446134</td><td> 0.11202845  </td><td> 0.55236239  </td><td>-0.4356199   </td><td> 0.1981944   </td><td> 0.08202387  </td><td>-1.27229721  </td><td> 0.68042825  </td><td>  2.27       </td><td>1            </td></tr>\n",
       "\t<tr><td> 52892       </td><td> 0.03726729  </td><td>-0.2345982   </td><td> 0.81338202  </td><td> 0.5539459   </td><td> 0.5757070   </td><td> 0.21259703  </td><td> 0.24137574  </td><td> 0.05778479  </td><td>-0.3465667   </td><td>...          </td><td> 0.0013158520</td><td> 0.31392210  </td><td> 0.26811498  </td><td> 0.1667211   </td><td>-1.2288645   </td><td>-0.10971963  </td><td> 0.16093743  </td><td> 0.32760584  </td><td>  0.77       </td><td>0            </td></tr>\n",
       "</tbody>\n",
       "</table>\n"
      ],
      "text/latex": [
       "\\begin{tabular}{r|lllllllllllllllllllllllllllllll}\n",
       " Time & V1 & V2 & V3 & V4 & V5 & V6 & V7 & V8 & V9 & ... & V21 & V22 & V23 & V24 & V25 & V26 & V27 & V28 & Amount & Class\\\\\n",
       "\\hline\n",
       "\t 130284        &  0.68929457   & -0.4206078    & -0.26109873   & -0.2558355    &  0.5682744    & -0.29216727   &  0.52362315   & -0.17207756   &  0.3745895    & ...           & -0.0341924488 &  0.07917442   & -0.26425893   &  0.0784486    &  0.6522191    &  1.39432039   & -0.21647704   & -0.08949951   & 193.50        & 0            \\\\\n",
       "\t 136053        & -0.18287808   & -0.8420131    &  0.38834531   & -0.3390009    &  0.1011762    &  0.38724296   &  0.50819058   & -0.05876935   &  0.7425555    & ...           & -0.1423543041 & -0.01608998   & -0.06417847   &  1.3426745    & -2.3546742    & -2.29456728   & -0.25398065   & -0.72828446   & 341.00        & 0            \\\\\n",
       "\t 157481        &  0.72068738   & -0.6026622    &  0.01444358   & -0.6535969    &  0.7447232    &  2.64929313   &  0.02081526   &  0.25932092   &  0.8953992    & ...           & -0.0006768047 &  0.57605526   &  0.20825827   &  1.3536457    & -0.4599584    &  1.15091185   & -0.04965036   & -0.13655178   &  34.35        & 0            \\\\\n",
       "\t  32729        &  0.19201008   & -0.2331611    &  0.35399482   & -0.7625048    &  0.2001154    & -0.07822544   &  0.60159087   & -0.24388644   & -0.4095070    & ...           & -0.0105085690 &  0.77437090   & -0.46140200   & -0.7287104    & -0.2234589    & -0.13700041   & -0.16785236   & -0.35534090   & 189.00        & 0            \\\\\n",
       "\t 103808        & -0.77501849   &  0.5252368    & -0.46473893   &  0.0149221    & -0.5319377    & -0.66652343   & -0.64822875   &  0.31985037   &  0.9270283    & ...           &  0.5617446134 &  0.11202845   &  0.55236239   & -0.4356199    &  0.1981944    &  0.08202387   & -1.27229721   &  0.68042825   &   2.27        & 1            \\\\\n",
       "\t  52892        &  0.03726729   & -0.2345982    &  0.81338202   &  0.5539459    &  0.5757070    &  0.21259703   &  0.24137574   &  0.05778479   & -0.3465667    & ...           &  0.0013158520 &  0.31392210   &  0.26811498   &  0.1667211    & -1.2288645    & -0.10971963   &  0.16093743   &  0.32760584   &   0.77        & 0            \\\\\n",
       "\\end{tabular}\n"
      ],
      "text/markdown": [
       "\n",
       "Time | V1 | V2 | V3 | V4 | V5 | V6 | V7 | V8 | V9 | ... | V21 | V22 | V23 | V24 | V25 | V26 | V27 | V28 | Amount | Class | \n",
       "|---|---|---|---|---|---|\n",
       "| 130284        |  0.68929457   | -0.4206078    | -0.26109873   | -0.2558355    |  0.5682744    | -0.29216727   |  0.52362315   | -0.17207756   |  0.3745895    | ...           | -0.0341924488 |  0.07917442   | -0.26425893   |  0.0784486    |  0.6522191    |  1.39432039   | -0.21647704   | -0.08949951   | 193.50        | 0             | \n",
       "| 136053        | -0.18287808   | -0.8420131    |  0.38834531   | -0.3390009    |  0.1011762    |  0.38724296   |  0.50819058   | -0.05876935   |  0.7425555    | ...           | -0.1423543041 | -0.01608998   | -0.06417847   |  1.3426745    | -2.3546742    | -2.29456728   | -0.25398065   | -0.72828446   | 341.00        | 0             | \n",
       "| 157481        |  0.72068738   | -0.6026622    |  0.01444358   | -0.6535969    |  0.7447232    |  2.64929313   |  0.02081526   |  0.25932092   |  0.8953992    | ...           | -0.0006768047 |  0.57605526   |  0.20825827   |  1.3536457    | -0.4599584    |  1.15091185   | -0.04965036   | -0.13655178   |  34.35        | 0             | \n",
       "|  32729        |  0.19201008   | -0.2331611    |  0.35399482   | -0.7625048    |  0.2001154    | -0.07822544   |  0.60159087   | -0.24388644   | -0.4095070    | ...           | -0.0105085690 |  0.77437090   | -0.46140200   | -0.7287104    | -0.2234589    | -0.13700041   | -0.16785236   | -0.35534090   | 189.00        | 0             | \n",
       "| 103808        | -0.77501849   |  0.5252368    | -0.46473893   |  0.0149221    | -0.5319377    | -0.66652343   | -0.64822875   |  0.31985037   |  0.9270283    | ...           |  0.5617446134 |  0.11202845   |  0.55236239   | -0.4356199    |  0.1981944    |  0.08202387   | -1.27229721   |  0.68042825   |   2.27        | 1             | \n",
       "|  52892        |  0.03726729   | -0.2345982    |  0.81338202   |  0.5539459    |  0.5757070    |  0.21259703   |  0.24137574   |  0.05778479   | -0.3465667    | ...           |  0.0013158520 |  0.31392210   |  0.26811498   |  0.1667211    | -1.2288645    | -0.10971963   |  0.16093743   |  0.32760584   |   0.77        | 0             | \n",
       "\n",
       "\n"
      ],
      "text/plain": [
       "  Time   V1          V2         V3          V4         V5         V6         \n",
       "1 130284  0.68929457 -0.4206078 -0.26109873 -0.2558355  0.5682744 -0.29216727\n",
       "2 136053 -0.18287808 -0.8420131  0.38834531 -0.3390009  0.1011762  0.38724296\n",
       "3 157481  0.72068738 -0.6026622  0.01444358 -0.6535969  0.7447232  2.64929313\n",
       "4  32729  0.19201008 -0.2331611  0.35399482 -0.7625048  0.2001154 -0.07822544\n",
       "5 103808 -0.77501849  0.5252368 -0.46473893  0.0149221 -0.5319377 -0.66652343\n",
       "6  52892  0.03726729 -0.2345982  0.81338202  0.5539459  0.5757070  0.21259703\n",
       "  V7          V8          V9         ... V21           V22         V23        \n",
       "1  0.52362315 -0.17207756  0.3745895 ... -0.0341924488  0.07917442 -0.26425893\n",
       "2  0.50819058 -0.05876935  0.7425555 ... -0.1423543041 -0.01608998 -0.06417847\n",
       "3  0.02081526  0.25932092  0.8953992 ... -0.0006768047  0.57605526  0.20825827\n",
       "4  0.60159087 -0.24388644 -0.4095070 ... -0.0105085690  0.77437090 -0.46140200\n",
       "5 -0.64822875  0.31985037  0.9270283 ...  0.5617446134  0.11202845  0.55236239\n",
       "6  0.24137574  0.05778479 -0.3465667 ...  0.0013158520  0.31392210  0.26811498\n",
       "  V24        V25        V26         V27         V28         Amount Class\n",
       "1  0.0784486  0.6522191  1.39432039 -0.21647704 -0.08949951 193.50 0    \n",
       "2  1.3426745 -2.3546742 -2.29456728 -0.25398065 -0.72828446 341.00 0    \n",
       "3  1.3536457 -0.4599584  1.15091185 -0.04965036 -0.13655178  34.35 0    \n",
       "4 -0.7287104 -0.2234589 -0.13700041 -0.16785236 -0.35534090 189.00 0    \n",
       "5 -0.4356199  0.1981944  0.08202387 -1.27229721  0.68042825   2.27 1    \n",
       "6  0.1667211 -1.2288645 -0.10971963  0.16093743  0.32760584   0.77 0    "
      ]
     },
     "metadata": {},
     "output_type": "display_data"
    }
   ],
   "source": [
    "head(da1)"
   ]
  },
  {
   "cell_type": "code",
   "execution_count": 149,
   "metadata": {},
   "outputs": [
    {
     "data": {
      "text/html": [
       "<table>\n",
       "<thead><tr><th scope=col>Time</th><th scope=col>V1</th><th scope=col>V2</th><th scope=col>V3</th><th scope=col>V4</th><th scope=col>V5</th><th scope=col>V6</th><th scope=col>V7</th><th scope=col>V8</th><th scope=col>V9</th><th scope=col>...</th><th scope=col>V21</th><th scope=col>V22</th><th scope=col>V23</th><th scope=col>V24</th><th scope=col>V25</th><th scope=col>V26</th><th scope=col>V27</th><th scope=col>V28</th><th scope=col>Amount</th><th scope=col>Class</th></tr></thead>\n",
       "<tbody>\n",
       "\t<tr><td>0           </td><td>-1.3598071  </td><td>-0.07278117 </td><td>2.5363467   </td><td> 1.3781552  </td><td>-0.33832077 </td><td> 0.46238778 </td><td> 0.23959855 </td><td> 0.09869790 </td><td> 0.3637870  </td><td>...         </td><td>-0.018306778</td><td> 0.277837576</td><td>-0.11047391 </td><td> 0.06692807 </td><td> 0.1285394  </td><td>-0.1891148  </td><td> 0.133558377</td><td>-0.02105305 </td><td>149.62      </td><td>0           </td></tr>\n",
       "\t<tr><td>0           </td><td> 1.1918571  </td><td> 0.26615071 </td><td>0.1664801   </td><td> 0.4481541  </td><td> 0.06001765 </td><td>-0.08236081 </td><td>-0.07880298 </td><td> 0.08510165 </td><td>-0.2554251  </td><td>...         </td><td>-0.225775248</td><td>-0.638671953</td><td> 0.10128802 </td><td>-0.33984648 </td><td> 0.1671704  </td><td> 0.1258945  </td><td>-0.008983099</td><td> 0.01472417 </td><td>  2.69      </td><td>0           </td></tr>\n",
       "\t<tr><td>1           </td><td>-1.3583541  </td><td>-1.34016307 </td><td>1.7732093   </td><td> 0.3797796  </td><td>-0.50319813 </td><td> 1.80049938 </td><td> 0.79146096 </td><td> 0.24767579 </td><td>-1.5146543  </td><td>...         </td><td> 0.247998153</td><td> 0.771679402</td><td> 0.90941226 </td><td>-0.68928096 </td><td>-0.3276418  </td><td>-0.1390966  </td><td>-0.055352794</td><td>-0.05975184 </td><td>378.66      </td><td>0           </td></tr>\n",
       "\t<tr><td>1           </td><td>-0.9662717  </td><td>-0.18522601 </td><td>1.7929933   </td><td>-0.8632913  </td><td>-0.01030888 </td><td> 1.24720317 </td><td> 0.23760894 </td><td> 0.37743587 </td><td>-1.3870241  </td><td>...         </td><td>-0.108300452</td><td> 0.005273597</td><td>-0.19032052 </td><td>-1.17557533 </td><td> 0.6473760  </td><td>-0.2219288  </td><td> 0.062722849</td><td> 0.06145763 </td><td>123.50      </td><td>0           </td></tr>\n",
       "\t<tr><td>2           </td><td>-1.1582331  </td><td> 0.87773675 </td><td>1.5487178   </td><td> 0.4030339  </td><td>-0.40719338 </td><td> 0.09592146 </td><td> 0.59294075 </td><td>-0.27053268 </td><td> 0.8177393  </td><td>...         </td><td>-0.009430697</td><td> 0.798278495</td><td>-0.13745808 </td><td> 0.14126698 </td><td>-0.2060096  </td><td> 0.5022922  </td><td> 0.219422230</td><td> 0.21515315 </td><td> 69.99      </td><td>0           </td></tr>\n",
       "\t<tr><td>2           </td><td>-0.4259659  </td><td> 0.96052304 </td><td>1.1411093   </td><td>-0.1682521  </td><td> 0.42098688 </td><td>-0.02972755 </td><td> 0.47620095 </td><td> 0.26031433 </td><td>-0.5686714  </td><td>...         </td><td>-0.208253515</td><td>-0.559824796</td><td>-0.02639767 </td><td>-0.37142658 </td><td>-0.2327938  </td><td> 0.1059148  </td><td> 0.253844225</td><td> 0.08108026 </td><td>  3.67      </td><td>0           </td></tr>\n",
       "</tbody>\n",
       "</table>\n"
      ],
      "text/latex": [
       "\\begin{tabular}{r|lllllllllllllllllllllllllllllll}\n",
       " Time & V1 & V2 & V3 & V4 & V5 & V6 & V7 & V8 & V9 & ... & V21 & V22 & V23 & V24 & V25 & V26 & V27 & V28 & Amount & Class\\\\\n",
       "\\hline\n",
       "\t 0            & -1.3598071   & -0.07278117  & 2.5363467    &  1.3781552   & -0.33832077  &  0.46238778  &  0.23959855  &  0.09869790  &  0.3637870   & ...          & -0.018306778 &  0.277837576 & -0.11047391  &  0.06692807  &  0.1285394   & -0.1891148   &  0.133558377 & -0.02105305  & 149.62       & 0           \\\\\n",
       "\t 0            &  1.1918571   &  0.26615071  & 0.1664801    &  0.4481541   &  0.06001765  & -0.08236081  & -0.07880298  &  0.08510165  & -0.2554251   & ...          & -0.225775248 & -0.638671953 &  0.10128802  & -0.33984648  &  0.1671704   &  0.1258945   & -0.008983099 &  0.01472417  &   2.69       & 0           \\\\\n",
       "\t 1            & -1.3583541   & -1.34016307  & 1.7732093    &  0.3797796   & -0.50319813  &  1.80049938  &  0.79146096  &  0.24767579  & -1.5146543   & ...          &  0.247998153 &  0.771679402 &  0.90941226  & -0.68928096  & -0.3276418   & -0.1390966   & -0.055352794 & -0.05975184  & 378.66       & 0           \\\\\n",
       "\t 1            & -0.9662717   & -0.18522601  & 1.7929933    & -0.8632913   & -0.01030888  &  1.24720317  &  0.23760894  &  0.37743587  & -1.3870241   & ...          & -0.108300452 &  0.005273597 & -0.19032052  & -1.17557533  &  0.6473760   & -0.2219288   &  0.062722849 &  0.06145763  & 123.50       & 0           \\\\\n",
       "\t 2            & -1.1582331   &  0.87773675  & 1.5487178    &  0.4030339   & -0.40719338  &  0.09592146  &  0.59294075  & -0.27053268  &  0.8177393   & ...          & -0.009430697 &  0.798278495 & -0.13745808  &  0.14126698  & -0.2060096   &  0.5022922   &  0.219422230 &  0.21515315  &  69.99       & 0           \\\\\n",
       "\t 2            & -0.4259659   &  0.96052304  & 1.1411093    & -0.1682521   &  0.42098688  & -0.02972755  &  0.47620095  &  0.26031433  & -0.5686714   & ...          & -0.208253515 & -0.559824796 & -0.02639767  & -0.37142658  & -0.2327938   &  0.1059148   &  0.253844225 &  0.08108026  &   3.67       & 0           \\\\\n",
       "\\end{tabular}\n"
      ],
      "text/markdown": [
       "\n",
       "Time | V1 | V2 | V3 | V4 | V5 | V6 | V7 | V8 | V9 | ... | V21 | V22 | V23 | V24 | V25 | V26 | V27 | V28 | Amount | Class | \n",
       "|---|---|---|---|---|---|\n",
       "| 0            | -1.3598071   | -0.07278117  | 2.5363467    |  1.3781552   | -0.33832077  |  0.46238778  |  0.23959855  |  0.09869790  |  0.3637870   | ...          | -0.018306778 |  0.277837576 | -0.11047391  |  0.06692807  |  0.1285394   | -0.1891148   |  0.133558377 | -0.02105305  | 149.62       | 0            | \n",
       "| 0            |  1.1918571   |  0.26615071  | 0.1664801    |  0.4481541   |  0.06001765  | -0.08236081  | -0.07880298  |  0.08510165  | -0.2554251   | ...          | -0.225775248 | -0.638671953 |  0.10128802  | -0.33984648  |  0.1671704   |  0.1258945   | -0.008983099 |  0.01472417  |   2.69       | 0            | \n",
       "| 1            | -1.3583541   | -1.34016307  | 1.7732093    |  0.3797796   | -0.50319813  |  1.80049938  |  0.79146096  |  0.24767579  | -1.5146543   | ...          |  0.247998153 |  0.771679402 |  0.90941226  | -0.68928096  | -0.3276418   | -0.1390966   | -0.055352794 | -0.05975184  | 378.66       | 0            | \n",
       "| 1            | -0.9662717   | -0.18522601  | 1.7929933    | -0.8632913   | -0.01030888  |  1.24720317  |  0.23760894  |  0.37743587  | -1.3870241   | ...          | -0.108300452 |  0.005273597 | -0.19032052  | -1.17557533  |  0.6473760   | -0.2219288   |  0.062722849 |  0.06145763  | 123.50       | 0            | \n",
       "| 2            | -1.1582331   |  0.87773675  | 1.5487178    |  0.4030339   | -0.40719338  |  0.09592146  |  0.59294075  | -0.27053268  |  0.8177393   | ...          | -0.009430697 |  0.798278495 | -0.13745808  |  0.14126698  | -0.2060096   |  0.5022922   |  0.219422230 |  0.21515315  |  69.99       | 0            | \n",
       "| 2            | -0.4259659   |  0.96052304  | 1.1411093    | -0.1682521   |  0.42098688  | -0.02972755  |  0.47620095  |  0.26031433  | -0.5686714   | ...          | -0.208253515 | -0.559824796 | -0.02639767  | -0.37142658  | -0.2327938   |  0.1059148   |  0.253844225 |  0.08108026  |   3.67       | 0            | \n",
       "\n",
       "\n"
      ],
      "text/plain": [
       "  Time V1         V2          V3        V4         V5          V6         \n",
       "1 0    -1.3598071 -0.07278117 2.5363467  1.3781552 -0.33832077  0.46238778\n",
       "2 0     1.1918571  0.26615071 0.1664801  0.4481541  0.06001765 -0.08236081\n",
       "3 1    -1.3583541 -1.34016307 1.7732093  0.3797796 -0.50319813  1.80049938\n",
       "4 1    -0.9662717 -0.18522601 1.7929933 -0.8632913 -0.01030888  1.24720317\n",
       "5 2    -1.1582331  0.87773675 1.5487178  0.4030339 -0.40719338  0.09592146\n",
       "6 2    -0.4259659  0.96052304 1.1411093 -0.1682521  0.42098688 -0.02972755\n",
       "  V7          V8          V9         ... V21          V22          V23        \n",
       "1  0.23959855  0.09869790  0.3637870 ... -0.018306778  0.277837576 -0.11047391\n",
       "2 -0.07880298  0.08510165 -0.2554251 ... -0.225775248 -0.638671953  0.10128802\n",
       "3  0.79146096  0.24767579 -1.5146543 ...  0.247998153  0.771679402  0.90941226\n",
       "4  0.23760894  0.37743587 -1.3870241 ... -0.108300452  0.005273597 -0.19032052\n",
       "5  0.59294075 -0.27053268  0.8177393 ... -0.009430697  0.798278495 -0.13745808\n",
       "6  0.47620095  0.26031433 -0.5686714 ... -0.208253515 -0.559824796 -0.02639767\n",
       "  V24         V25        V26        V27          V28         Amount Class\n",
       "1  0.06692807  0.1285394 -0.1891148  0.133558377 -0.02105305 149.62 0    \n",
       "2 -0.33984648  0.1671704  0.1258945 -0.008983099  0.01472417   2.69 0    \n",
       "3 -0.68928096 -0.3276418 -0.1390966 -0.055352794 -0.05975184 378.66 0    \n",
       "4 -1.17557533  0.6473760 -0.2219288  0.062722849  0.06145763 123.50 0    \n",
       "5  0.14126698 -0.2060096  0.5022922  0.219422230  0.21515315  69.99 0    \n",
       "6 -0.37142658 -0.2327938  0.1059148  0.253844225  0.08108026   3.67 0    "
      ]
     },
     "metadata": {},
     "output_type": "display_data"
    }
   ],
   "source": [
    "data <- read.csv(\"D:\\\\projectR\\\\datafiles\\\\creditcard.csv\", header = TRUE,\n",
    "                 stringsAsFactors = FALSE,\n",
    "                 strip.white = TRUE ,\n",
    "                 sep = ',')\n",
    "head(data)"
   ]
  },
  {
   "cell_type": "code",
   "execution_count": 150,
   "metadata": {},
   "outputs": [],
   "source": [
    "library(InformationValue)\n",
    "predicted <- predict(fit, data, type=\"response\")"
   ]
  },
  {
   "cell_type": "code",
   "execution_count": 170,
   "metadata": {},
   "outputs": [
    {
     "data": {
      "text/html": [
       "<table>\n",
       "<thead><tr><th></th><th scope=col>0</th><th scope=col>1</th></tr></thead>\n",
       "<tbody>\n",
       "\t<tr><th scope=row>0</th><td>284012</td><td>120   </td></tr>\n",
       "\t<tr><th scope=row>1</th><td>   303</td><td>372   </td></tr>\n",
       "</tbody>\n",
       "</table>\n"
      ],
      "text/latex": [
       "\\begin{tabular}{r|ll}\n",
       "  & 0 & 1\\\\\n",
       "\\hline\n",
       "\t0 & 284012 & 120   \\\\\n",
       "\t1 &    303 & 372   \\\\\n",
       "\\end{tabular}\n"
      ],
      "text/markdown": [
       "\n",
       "| <!--/--> | 0 | 1 | \n",
       "|---|---|\n",
       "| 0 | 284012 | 120    | \n",
       "| 1 |    303 | 372    | \n",
       "\n",
       "\n"
      ],
      "text/plain": [
       "  0      1  \n",
       "0 284012 120\n",
       "1    303 372"
      ]
     },
     "metadata": {},
     "output_type": "display_data"
    }
   ],
   "source": [
    "confusionMatrix(data$Class, predicted > 0.99999999999)"
   ]
  },
  {
   "cell_type": "code",
   "execution_count": 171,
   "metadata": {},
   "outputs": [
    {
     "data": {
      "text/html": [
       "<table>\n",
       "<thead><tr><th></th><th scope=col>0</th><th scope=col>1</th></tr></thead>\n",
       "<tbody>\n",
       "\t<tr><th scope=row>0</th><td>282576</td><td> 70   </td></tr>\n",
       "\t<tr><th scope=row>1</th><td>  1739</td><td>422   </td></tr>\n",
       "</tbody>\n",
       "</table>\n"
      ],
      "text/latex": [
       "\\begin{tabular}{r|ll}\n",
       "  & 0 & 1\\\\\n",
       "\\hline\n",
       "\t0 & 282576 &  70   \\\\\n",
       "\t1 &   1739 & 422   \\\\\n",
       "\\end{tabular}\n"
      ],
      "text/markdown": [
       "\n",
       "| <!--/--> | 0 | 1 | \n",
       "|---|---|\n",
       "| 0 | 282576 |  70    | \n",
       "| 1 |   1739 | 422    | \n",
       "\n",
       "\n"
      ],
      "text/plain": [
       "  0      1  \n",
       "0 282576  70\n",
       "1   1739 422"
      ]
     },
     "metadata": {},
     "output_type": "display_data"
    }
   ],
   "source": [
    "confusionMatrix(data$Class, predicted > 0.9999999)"
   ]
  },
  {
   "cell_type": "code",
   "execution_count": 174,
   "metadata": {},
   "outputs": [
    {
     "data": {
      "text/html": [
       "<table>\n",
       "<thead><tr><th></th><th scope=col>0</th><th scope=col>1</th></tr></thead>\n",
       "<tbody>\n",
       "\t<tr><th scope=row>0</th><td>281505</td><td> 61   </td></tr>\n",
       "\t<tr><th scope=row>1</th><td>  2810</td><td>431   </td></tr>\n",
       "</tbody>\n",
       "</table>\n"
      ],
      "text/latex": [
       "\\begin{tabular}{r|ll}\n",
       "  & 0 & 1\\\\\n",
       "\\hline\n",
       "\t0 & 281505 &  61   \\\\\n",
       "\t1 &   2810 & 431   \\\\\n",
       "\\end{tabular}\n"
      ],
      "text/markdown": [
       "\n",
       "| <!--/--> | 0 | 1 | \n",
       "|---|---|\n",
       "| 0 | 281505 |  61    | \n",
       "| 1 |   2810 | 431    | \n",
       "\n",
       "\n"
      ],
      "text/plain": [
       "  0      1  \n",
       "0 281505  61\n",
       "1   2810 431"
      ]
     },
     "metadata": {},
     "output_type": "display_data"
    }
   ],
   "source": [
    "confusionMatrix(data$Class, predicted > 0.999999)"
   ]
  },
  {
   "cell_type": "code",
   "execution_count": 175,
   "metadata": {},
   "outputs": [
    {
     "data": {
      "text/html": [
       "<table>\n",
       "<thead><tr><th></th><th scope=col>0</th><th scope=col>1</th></tr></thead>\n",
       "<tbody>\n",
       "\t<tr><th scope=row>0</th><td>279799</td><td> 53   </td></tr>\n",
       "\t<tr><th scope=row>1</th><td>  4516</td><td>439   </td></tr>\n",
       "</tbody>\n",
       "</table>\n"
      ],
      "text/latex": [
       "\\begin{tabular}{r|ll}\n",
       "  & 0 & 1\\\\\n",
       "\\hline\n",
       "\t0 & 279799 &  53   \\\\\n",
       "\t1 &   4516 & 439   \\\\\n",
       "\\end{tabular}\n"
      ],
      "text/markdown": [
       "\n",
       "| <!--/--> | 0 | 1 | \n",
       "|---|---|\n",
       "| 0 | 279799 |  53    | \n",
       "| 1 |   4516 | 439    | \n",
       "\n",
       "\n"
      ],
      "text/plain": [
       "  0      1  \n",
       "0 279799  53\n",
       "1   4516 439"
      ]
     },
     "metadata": {},
     "output_type": "display_data"
    }
   ],
   "source": [
    "confusionMatrix(data$Class, predicted > 0.99999)"
   ]
  },
  {
   "cell_type": "code",
   "execution_count": 177,
   "metadata": {},
   "outputs": [
    {
     "data": {
      "text/html": [
       "<table>\n",
       "<thead><tr><th></th><th scope=col>0</th><th scope=col>1</th></tr></thead>\n",
       "<tbody>\n",
       "\t<tr><th scope=row>0</th><td>276778</td><td> 45   </td></tr>\n",
       "\t<tr><th scope=row>1</th><td>  7537</td><td>447   </td></tr>\n",
       "</tbody>\n",
       "</table>\n"
      ],
      "text/latex": [
       "\\begin{tabular}{r|ll}\n",
       "  & 0 & 1\\\\\n",
       "\\hline\n",
       "\t0 & 276778 &  45   \\\\\n",
       "\t1 &   7537 & 447   \\\\\n",
       "\\end{tabular}\n"
      ],
      "text/markdown": [
       "\n",
       "| <!--/--> | 0 | 1 | \n",
       "|---|---|\n",
       "| 0 | 276778 |  45    | \n",
       "| 1 |   7537 | 447    | \n",
       "\n",
       "\n"
      ],
      "text/plain": [
       "  0      1  \n",
       "0 276778  45\n",
       "1   7537 447"
      ]
     },
     "metadata": {},
     "output_type": "display_data"
    }
   ],
   "source": [
    "confusionMatrix(data$Class, predicted > 0.9999)"
   ]
  },
  {
   "cell_type": "code",
   "execution_count": 178,
   "metadata": {},
   "outputs": [
    {
     "data": {
      "text/html": [
       "<table>\n",
       "<thead><tr><th></th><th scope=col>0</th><th scope=col>1</th></tr></thead>\n",
       "<tbody>\n",
       "\t<tr><th scope=row>0</th><td>269416</td><td> 38   </td></tr>\n",
       "\t<tr><th scope=row>1</th><td> 14899</td><td>454   </td></tr>\n",
       "</tbody>\n",
       "</table>\n"
      ],
      "text/latex": [
       "\\begin{tabular}{r|ll}\n",
       "  & 0 & 1\\\\\n",
       "\\hline\n",
       "\t0 & 269416 &  38   \\\\\n",
       "\t1 &  14899 & 454   \\\\\n",
       "\\end{tabular}\n"
      ],
      "text/markdown": [
       "\n",
       "| <!--/--> | 0 | 1 | \n",
       "|---|---|\n",
       "| 0 | 269416 |  38    | \n",
       "| 1 |  14899 | 454    | \n",
       "\n",
       "\n"
      ],
      "text/plain": [
       "  0      1  \n",
       "0 269416  38\n",
       "1  14899 454"
      ]
     },
     "metadata": {},
     "output_type": "display_data"
    }
   ],
   "source": [
    "confusionMatrix(data$Class, predicted > 0.999)"
   ]
  },
  {
   "cell_type": "code",
   "execution_count": 179,
   "metadata": {},
   "outputs": [
    {
     "data": {
      "image/png": "[encoded data removed]",
      "text/plain": [
       "plot without title"
      ]
     },
     "metadata": {},
     "output_type": "display_data"
    }
   ],
   "source": [
    "plotROC(data, predicted)"
   ]
  },
  {
   "cell_type": "code",
   "execution_count": 180,
   "metadata": {},
   "outputs": [
    {
     "data": {
      "text/html": [
       "<table>\n",
       "<thead><tr><th></th><th scope=col>V4</th><th scope=col>V6</th><th scope=col>V8</th><th scope=col>V10</th><th scope=col>V13</th><th scope=col>V14</th></tr></thead>\n",
       "<tbody>\n",
       "\t<tr><th scope=row>V4</th><td> 1.00000000 </td><td>-0.35519585 </td><td> 0.10062810 </td><td>-0.75368374 </td><td> 0.026698160</td><td>-0.766140545</td></tr>\n",
       "\t<tr><th scope=row>V6</th><td>-0.35519585 </td><td> 1.00000000 </td><td>-0.42589630 </td><td> 0.37306980 </td><td>-0.061788546</td><td> 0.453792941</td></tr>\n",
       "\t<tr><th scope=row>V8</th><td> 0.10062810 </td><td>-0.42589630 </td><td> 1.00000000 </td><td>-0.06640002 </td><td> 0.190459506</td><td>-0.175951729</td></tr>\n",
       "\t<tr><th scope=row>V10</th><td>-0.75368374 </td><td> 0.37306980 </td><td>-0.06640002 </td><td> 1.00000000 </td><td>-0.023268606</td><td> 0.764297139</td></tr>\n",
       "\t<tr><th scope=row>V13</th><td> 0.02669816 </td><td>-0.06178855 </td><td> 0.19045951 </td><td>-0.02326861 </td><td> 1.000000000</td><td> 0.004038548</td></tr>\n",
       "\t<tr><th scope=row>V14</th><td>-0.76614054 </td><td> 0.45379294 </td><td>-0.17595173 </td><td> 0.76429714 </td><td> 0.004038548</td><td> 1.000000000</td></tr>\n",
       "</tbody>\n",
       "</table>\n"
      ],
      "text/latex": [
       "\\begin{tabular}{r|llllll}\n",
       "  & V4 & V6 & V8 & V10 & V13 & V14\\\\\n",
       "\\hline\n",
       "\tV4 &  1.00000000  & -0.35519585  &  0.10062810  & -0.75368374  &  0.026698160 & -0.766140545\\\\\n",
       "\tV6 & -0.35519585  &  1.00000000  & -0.42589630  &  0.37306980  & -0.061788546 &  0.453792941\\\\\n",
       "\tV8 &  0.10062810  & -0.42589630  &  1.00000000  & -0.06640002  &  0.190459506 & -0.175951729\\\\\n",
       "\tV10 & -0.75368374  &  0.37306980  & -0.06640002  &  1.00000000  & -0.023268606 &  0.764297139\\\\\n",
       "\tV13 &  0.02669816  & -0.06178855  &  0.19045951  & -0.02326861  &  1.000000000 &  0.004038548\\\\\n",
       "\tV14 & -0.76614054  &  0.45379294  & -0.17595173  &  0.76429714  &  0.004038548 &  1.000000000\\\\\n",
       "\\end{tabular}\n"
      ],
      "text/markdown": [
       "\n",
       "| <!--/--> | V4 | V6 | V8 | V10 | V13 | V14 | \n",
       "|---|---|---|---|---|---|\n",
       "| V4 |  1.00000000  | -0.35519585  |  0.10062810  | -0.75368374  |  0.026698160 | -0.766140545 | \n",
       "| V6 | -0.35519585  |  1.00000000  | -0.42589630  |  0.37306980  | -0.061788546 |  0.453792941 | \n",
       "| V8 |  0.10062810  | -0.42589630  |  1.00000000  | -0.06640002  |  0.190459506 | -0.175951729 | \n",
       "| V10 | -0.75368374  |  0.37306980  | -0.06640002  |  1.00000000  | -0.023268606 |  0.764297139 | \n",
       "| V13 |  0.02669816  | -0.06178855  |  0.19045951  | -0.02326861  |  1.000000000 |  0.004038548 | \n",
       "| V14 | -0.76614054  |  0.45379294  | -0.17595173  |  0.76429714  |  0.004038548 |  1.000000000 | \n",
       "\n",
       "\n"
      ],
      "text/plain": [
       "    V4          V6          V8          V10         V13          V14         \n",
       "V4   1.00000000 -0.35519585  0.10062810 -0.75368374  0.026698160 -0.766140545\n",
       "V6  -0.35519585  1.00000000 -0.42589630  0.37306980 -0.061788546  0.453792941\n",
       "V8   0.10062810 -0.42589630  1.00000000 -0.06640002  0.190459506 -0.175951729\n",
       "V10 -0.75368374  0.37306980 -0.06640002  1.00000000 -0.023268606  0.764297139\n",
       "V13  0.02669816 -0.06178855  0.19045951 -0.02326861  1.000000000  0.004038548\n",
       "V14 -0.76614054  0.45379294 -0.17595173  0.76429714  0.004038548  1.000000000"
      ]
     },
     "metadata": {},
     "output_type": "display_data"
    }
   ],
   "source": [
    "da10 <- da1[c(5,7,9,11,14,15)]\n",
    "cor(da10)"
   ]
  },
  {
   "cell_type": "code",
   "execution_count": 181,
   "metadata": {},
   "outputs": [
    {
     "data": {
      "text/html": [
       "<dl class=dl-horizontal>\n",
       "\t<dt>V4</dt>\n",
       "\t\t<dd>1.66387353105788</dd>\n",
       "\t<dt>V6</dt>\n",
       "\t\t<dd>1.12084788617521</dd>\n",
       "\t<dt>V8</dt>\n",
       "\t\t<dd>1.16102945744948</dd>\n",
       "\t<dt>V10</dt>\n",
       "\t\t<dd>1.94273238025468</dd>\n",
       "\t<dt>V13</dt>\n",
       "\t\t<dd>1.109692232665</dd>\n",
       "\t<dt>V14</dt>\n",
       "\t\t<dd>1.48653117886269</dd>\n",
       "</dl>\n"
      ],
      "text/latex": [
       "\\begin{description*}\n",
       "\\item[V4] 1.66387353105788\n",
       "\\item[V6] 1.12084788617521\n",
       "\\item[V8] 1.16102945744948\n",
       "\\item[V10] 1.94273238025468\n",
       "\\item[V13] 1.109692232665\n",
       "\\item[V14] 1.48653117886269\n",
       "\\end{description*}\n"
      ],
      "text/markdown": [
       "V4\n",
       ":   1.66387353105788V6\n",
       ":   1.12084788617521V8\n",
       ":   1.16102945744948V10\n",
       ":   1.94273238025468V13\n",
       ":   1.109692232665V14\n",
       ":   1.48653117886269\n",
       "\n"
      ],
      "text/plain": [
       "      V4       V6       V8      V10      V13      V14 \n",
       "1.663874 1.120848 1.161029 1.942732 1.109692 1.486531 "
      ]
     },
     "metadata": {},
     "output_type": "display_data"
    }
   ],
   "source": [
    "library(car)\n",
    "car::vif(fit)"
   ]
  },
  {
   "cell_type": "code",
   "execution_count": null,
   "metadata": {},
   "outputs": [],
   "source": [
    "#sir the multicollinearity exit if the correlation is greater than 0.8 or 0.5\n",
    "#but vif is less then 4"
   ]
  }
 ],
 "metadata": {
  "kernelspec": {
   "display_name": "R",
   "language": "R",
   "name": "ir"
  },
  "language_info": {
   "codemirror_mode": "r",
   "file_extension": ".r",
   "mimetype": "text/x-r-source",
   "name": "R",
   "pygments_lexer": "r",
   "version": "3.5.1"
  }
 },
 "nbformat": 4,
 "nbformat_minor": 2
}
