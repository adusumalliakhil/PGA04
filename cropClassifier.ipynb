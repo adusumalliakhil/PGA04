{
 "cells": [
  {
   "cell_type": "code",
   "execution_count": 2,
   "metadata": {},
   "outputs": [],
   "source": [
    "import numpy as np\n",
    "import pandas as pd"
   ]
  },
  {
   "cell_type": "code",
   "execution_count": 3,
   "metadata": {},
   "outputs": [],
   "source": [
    "df = pd.read_csv(\"D:\\\\newproject\\\\New folder\\\\Barley.data.csv\")\n",
    "df1 = pd.read_csv(\"D:\\\\newproject\\\\New folder\\\\Chickpea.data.csv\")\n",
    "df2 = pd.read_csv(\"D:\\\\newproject\\\\New folder\\\\Sorghum.data.csv\")"
   ]
  },
  {
   "cell_type": "code",
   "execution_count": 4,
   "metadata": {},
   "outputs": [
    {
     "data": {
      "text/plain": [
       "False"
      ]
     },
     "execution_count": 4,
     "metadata": {},
     "output_type": "execute_result"
    }
   ],
   "source": [
    "#Na Handling\n",
    "df.isnull().values.any()"
   ]
  },
  {
   "cell_type": "code",
   "execution_count": 5,
   "metadata": {},
   "outputs": [
    {
     "data": {
      "text/plain": [
       "False"
      ]
     },
     "execution_count": 5,
     "metadata": {},
     "output_type": "execute_result"
    }
   ],
   "source": [
    "#Na Handling\n",
    "df1.isnull().values.any()"
   ]
  },
  {
   "cell_type": "code",
   "execution_count": 6,
   "metadata": {},
   "outputs": [
    {
     "data": {
      "text/plain": [
       "True"
      ]
     },
     "execution_count": 6,
     "metadata": {},
     "output_type": "execute_result"
    }
   ],
   "source": [
    "#Na Handling\n",
    "df2.isnull().values.any()"
   ]
  },
  {
   "cell_type": "code",
   "execution_count": 7,
   "metadata": {},
   "outputs": [
    {
     "data": {
      "text/plain": [
       "Predictor    58.333333\n",
       "740          58.333333\n",
       "741          58.333333\n",
       "742          58.333333\n",
       "743          58.333333\n",
       "744          58.333333\n",
       "745          58.333333\n",
       "746          58.333333\n",
       "747          58.333333\n",
       "748          58.333333\n",
       "749          58.333333\n",
       "750          58.333333\n",
       "751          58.333333\n",
       "752          58.333333\n",
       "753          58.333333\n",
       "754          58.333333\n",
       "755          58.333333\n",
       "756          58.333333\n",
       "757          58.333333\n",
       "758          58.333333\n",
       "759          58.333333\n",
       "760          58.333333\n",
       "761          58.333333\n",
       "762          58.333333\n",
       "763          58.333333\n",
       "764          58.333333\n",
       "765          58.333333\n",
       "766          58.333333\n",
       "767          58.333333\n",
       "768          58.333333\n",
       "               ...    \n",
       "1041         58.333333\n",
       "1042         58.333333\n",
       "1043         58.333333\n",
       "1044         58.333333\n",
       "1045         58.333333\n",
       "1046         58.333333\n",
       "1047         58.333333\n",
       "1048         58.333333\n",
       "1049         58.333333\n",
       "1050         58.333333\n",
       "1051         58.333333\n",
       "1052         58.333333\n",
       "1053         58.333333\n",
       "1054         58.333333\n",
       "1055         58.333333\n",
       "1056         58.333333\n",
       "1057         58.333333\n",
       "1058         58.333333\n",
       "1059         58.333333\n",
       "1060         58.333333\n",
       "1061         58.333333\n",
       "1062         58.333333\n",
       "1063         58.333333\n",
       "1064         58.333333\n",
       "1065         58.333333\n",
       "1066         58.333333\n",
       "1067         58.333333\n",
       "1068         58.333333\n",
       "1069         58.333333\n",
       "1070         58.333333\n",
       "Length: 332, dtype: float64"
      ]
     },
     "execution_count": 7,
     "metadata": {},
     "output_type": "execute_result"
    }
   ],
   "source": [
    "df2.isnull().sum()*100/df2.shape[0]"
   ]
  },
  {
   "cell_type": "code",
   "execution_count": 8,
   "metadata": {},
   "outputs": [],
   "source": [
    "df6=df2.dropna()"
   ]
  },
  {
   "cell_type": "code",
   "execution_count": 9,
   "metadata": {},
   "outputs": [
    {
     "data": {
      "text/html": [
       "<div>\n",
       "<style scoped>\n",
       "    .dataframe tbody tr th:only-of-type {\n",
       "        vertical-align: middle;\n",
       "    }\n",
       "\n",
       "    .dataframe tbody tr th {\n",
       "        vertical-align: top;\n",
       "    }\n",
       "\n",
       "    .dataframe thead th {\n",
       "        text-align: right;\n",
       "    }\n",
       "</style>\n",
       "<table border=\"1\" class=\"dataframe\">\n",
       "  <thead>\n",
       "    <tr style=\"text-align: right;\">\n",
       "      <th></th>\n",
       "      <th>Predictor</th>\n",
       "      <th>740</th>\n",
       "      <th>741</th>\n",
       "      <th>742</th>\n",
       "      <th>743</th>\n",
       "      <th>744</th>\n",
       "      <th>745</th>\n",
       "      <th>746</th>\n",
       "      <th>747</th>\n",
       "      <th>748</th>\n",
       "      <th>...</th>\n",
       "      <th>1061</th>\n",
       "      <th>1062</th>\n",
       "      <th>1063</th>\n",
       "      <th>1064</th>\n",
       "      <th>1065</th>\n",
       "      <th>1066</th>\n",
       "      <th>1067</th>\n",
       "      <th>1068</th>\n",
       "      <th>1069</th>\n",
       "      <th>1070</th>\n",
       "    </tr>\n",
       "  </thead>\n",
       "  <tbody>\n",
       "    <tr>\n",
       "      <th>0</th>\n",
       "      <td>Macia</td>\n",
       "      <td>1.578888</td>\n",
       "      <td>1.578605</td>\n",
       "      <td>1.578358</td>\n",
       "      <td>1.578273</td>\n",
       "      <td>1.578407</td>\n",
       "      <td>1.578795</td>\n",
       "      <td>1.579398</td>\n",
       "      <td>1.580190</td>\n",
       "      <td>1.581060</td>\n",
       "      <td>...</td>\n",
       "      <td>1.715564</td>\n",
       "      <td>1.716572</td>\n",
       "      <td>1.715728</td>\n",
       "      <td>1.713750</td>\n",
       "      <td>1.711821</td>\n",
       "      <td>1.709867</td>\n",
       "      <td>1.710382</td>\n",
       "      <td>1.712926</td>\n",
       "      <td>1.716188</td>\n",
       "      <td>1.718157</td>\n",
       "    </tr>\n",
       "    <tr>\n",
       "      <th>1</th>\n",
       "      <td>Macia</td>\n",
       "      <td>1.722123</td>\n",
       "      <td>1.722023</td>\n",
       "      <td>1.721886</td>\n",
       "      <td>1.721859</td>\n",
       "      <td>1.722016</td>\n",
       "      <td>1.722412</td>\n",
       "      <td>1.723012</td>\n",
       "      <td>1.723801</td>\n",
       "      <td>1.724663</td>\n",
       "      <td>...</td>\n",
       "      <td>1.828098</td>\n",
       "      <td>1.829089</td>\n",
       "      <td>1.828116</td>\n",
       "      <td>1.825942</td>\n",
       "      <td>1.823828</td>\n",
       "      <td>1.821694</td>\n",
       "      <td>1.822196</td>\n",
       "      <td>1.824866</td>\n",
       "      <td>1.828305</td>\n",
       "      <td>1.830373</td>\n",
       "    </tr>\n",
       "    <tr>\n",
       "      <th>2</th>\n",
       "      <td>Macia</td>\n",
       "      <td>1.537366</td>\n",
       "      <td>1.537556</td>\n",
       "      <td>1.537712</td>\n",
       "      <td>1.537959</td>\n",
       "      <td>1.538367</td>\n",
       "      <td>1.538979</td>\n",
       "      <td>1.539764</td>\n",
       "      <td>1.540705</td>\n",
       "      <td>1.541703</td>\n",
       "      <td>...</td>\n",
       "      <td>1.701192</td>\n",
       "      <td>1.702250</td>\n",
       "      <td>1.701466</td>\n",
       "      <td>1.699550</td>\n",
       "      <td>1.697678</td>\n",
       "      <td>1.695777</td>\n",
       "      <td>1.696319</td>\n",
       "      <td>1.698871</td>\n",
       "      <td>1.702131</td>\n",
       "      <td>1.704104</td>\n",
       "    </tr>\n",
       "    <tr>\n",
       "      <th>3</th>\n",
       "      <td>Macia</td>\n",
       "      <td>1.670065</td>\n",
       "      <td>1.670187</td>\n",
       "      <td>1.670193</td>\n",
       "      <td>1.670233</td>\n",
       "      <td>1.670407</td>\n",
       "      <td>1.670781</td>\n",
       "      <td>1.671343</td>\n",
       "      <td>1.672091</td>\n",
       "      <td>1.672928</td>\n",
       "      <td>...</td>\n",
       "      <td>1.785619</td>\n",
       "      <td>1.786554</td>\n",
       "      <td>1.785572</td>\n",
       "      <td>1.783420</td>\n",
       "      <td>1.781330</td>\n",
       "      <td>1.779222</td>\n",
       "      <td>1.779691</td>\n",
       "      <td>1.782280</td>\n",
       "      <td>1.785622</td>\n",
       "      <td>1.787627</td>\n",
       "    </tr>\n",
       "    <tr>\n",
       "      <th>4</th>\n",
       "      <td>Macia</td>\n",
       "      <td>1.583988</td>\n",
       "      <td>1.583546</td>\n",
       "      <td>1.583137</td>\n",
       "      <td>1.582894</td>\n",
       "      <td>1.582882</td>\n",
       "      <td>1.583138</td>\n",
       "      <td>1.583625</td>\n",
       "      <td>1.584320</td>\n",
       "      <td>1.585113</td>\n",
       "      <td>...</td>\n",
       "      <td>1.709327</td>\n",
       "      <td>1.710335</td>\n",
       "      <td>1.709498</td>\n",
       "      <td>1.707529</td>\n",
       "      <td>1.705609</td>\n",
       "      <td>1.703663</td>\n",
       "      <td>1.704176</td>\n",
       "      <td>1.706712</td>\n",
       "      <td>1.709962</td>\n",
       "      <td>1.711924</td>\n",
       "    </tr>\n",
       "  </tbody>\n",
       "</table>\n",
       "<p>5 rows × 332 columns</p>\n",
       "</div>"
      ],
      "text/plain": [
       "  Predictor       740       741       742       743       744       745  \\\n",
       "0     Macia  1.578888  1.578605  1.578358  1.578273  1.578407  1.578795   \n",
       "1     Macia  1.722123  1.722023  1.721886  1.721859  1.722016  1.722412   \n",
       "2     Macia  1.537366  1.537556  1.537712  1.537959  1.538367  1.538979   \n",
       "3     Macia  1.670065  1.670187  1.670193  1.670233  1.670407  1.670781   \n",
       "4     Macia  1.583988  1.583546  1.583137  1.582894  1.582882  1.583138   \n",
       "\n",
       "        746       747       748    ...         1061      1062      1063  \\\n",
       "0  1.579398  1.580190  1.581060    ...     1.715564  1.716572  1.715728   \n",
       "1  1.723012  1.723801  1.724663    ...     1.828098  1.829089  1.828116   \n",
       "2  1.539764  1.540705  1.541703    ...     1.701192  1.702250  1.701466   \n",
       "3  1.671343  1.672091  1.672928    ...     1.785619  1.786554  1.785572   \n",
       "4  1.583625  1.584320  1.585113    ...     1.709327  1.710335  1.709498   \n",
       "\n",
       "       1064      1065      1066      1067      1068      1069      1070  \n",
       "0  1.713750  1.711821  1.709867  1.710382  1.712926  1.716188  1.718157  \n",
       "1  1.825942  1.823828  1.821694  1.822196  1.824866  1.828305  1.830373  \n",
       "2  1.699550  1.697678  1.695777  1.696319  1.698871  1.702131  1.704104  \n",
       "3  1.783420  1.781330  1.779222  1.779691  1.782280  1.785622  1.787627  \n",
       "4  1.707529  1.705609  1.703663  1.704176  1.706712  1.709962  1.711924  \n",
       "\n",
       "[5 rows x 332 columns]"
      ]
     },
     "execution_count": 9,
     "metadata": {},
     "output_type": "execute_result"
    }
   ],
   "source": [
    "df6.head()"
   ]
  },
  {
   "cell_type": "code",
   "execution_count": 10,
   "metadata": {},
   "outputs": [],
   "source": [
    "from sklearn.model_selection import train_test_split"
   ]
  },
  {
   "cell_type": "code",
   "execution_count": 11,
   "metadata": {},
   "outputs": [
    {
     "ename": "NameError",
     "evalue": "name 'X' is not defined",
     "output_type": "error",
     "traceback": [
      "\u001b[1;31m---------------------------------------------------------------------------\u001b[0m",
      "\u001b[1;31mNameError\u001b[0m                                 Traceback (most recent call last)",
      "\u001b[1;32m<ipython-input-11-f500f9ce7c8e>\u001b[0m in \u001b[0;36m<module>\u001b[1;34m\u001b[0m\n\u001b[1;32m----> 1\u001b[1;33m X_train, X_test, y_train, y_test = train_test_split(X, y,\n\u001b[0m\u001b[0;32m      2\u001b[0m                                                     \u001b[0mtrain_size\u001b[0m\u001b[1;33m=\u001b[0m\u001b[1;36m0.8\u001b[0m\u001b[1;33m,\u001b[0m\u001b[1;33m\u001b[0m\u001b[1;33m\u001b[0m\u001b[0m\n\u001b[0;32m      3\u001b[0m                                                     random_state=42)\n",
      "\u001b[1;31mNameError\u001b[0m: name 'X' is not defined"
     ]
    }
   ],
   "source": [
    "X_train, X_test, y_train, y_test = train_test_split(X, y,\n",
    "                                                    train_size=0.8,\n",
    "                                                    random_state=42)"
   ]
  },
  {
   "cell_type": "code",
   "execution_count": 12,
   "metadata": {},
   "outputs": [],
   "source": [
    "X = df1.drop(['Predictor'], axis=1)\n",
    "X_col = X.columns"
   ]
  },
  {
   "cell_type": "code",
   "execution_count": 13,
   "metadata": {},
   "outputs": [],
   "source": [
    "y = df1['Predictor']"
   ]
  },
  {
   "cell_type": "code",
   "execution_count": 14,
   "metadata": {},
   "outputs": [],
   "source": [
    "from sklearn import preprocessing"
   ]
  },
  {
   "cell_type": "code",
   "execution_count": 15,
   "metadata": {},
   "outputs": [],
   "source": [
    "normalized_X=preprocessing.scale(X)"
   ]
  },
  {
   "cell_type": "code",
   "execution_count": 16,
   "metadata": {},
   "outputs": [
    {
     "ename": "AttributeError",
     "evalue": "'numpy.ndarray' object has no attribute 'head'",
     "output_type": "error",
     "traceback": [
      "\u001b[1;31m---------------------------------------------------------------------------\u001b[0m",
      "\u001b[1;31mAttributeError\u001b[0m                            Traceback (most recent call last)",
      "\u001b[1;32m<ipython-input-16-25a18939ffb1>\u001b[0m in \u001b[0;36m<module>\u001b[1;34m\u001b[0m\n\u001b[1;32m----> 1\u001b[1;33m \u001b[0mnormalized_X\u001b[0m\u001b[1;33m.\u001b[0m\u001b[0mhead\u001b[0m\u001b[1;33m(\u001b[0m\u001b[1;33m)\u001b[0m\u001b[1;33m\u001b[0m\u001b[1;33m\u001b[0m\u001b[0m\n\u001b[0m",
      "\u001b[1;31mAttributeError\u001b[0m: 'numpy.ndarray' object has no attribute 'head'"
     ]
    }
   ],
   "source": [
    "normalized_X.head()"
   ]
  },
  {
   "cell_type": "code",
   "execution_count": 17,
   "metadata": {},
   "outputs": [],
   "source": [
    "df15 = pd.DataFrame(normalized_X)"
   ]
  },
  {
   "cell_type": "code",
   "execution_count": 18,
   "metadata": {},
   "outputs": [
    {
     "data": {
      "text/html": [
       "<div>\n",
       "<style scoped>\n",
       "    .dataframe tbody tr th:only-of-type {\n",
       "        vertical-align: middle;\n",
       "    }\n",
       "\n",
       "    .dataframe tbody tr th {\n",
       "        vertical-align: top;\n",
       "    }\n",
       "\n",
       "    .dataframe thead th {\n",
       "        text-align: right;\n",
       "    }\n",
       "</style>\n",
       "<table border=\"1\" class=\"dataframe\">\n",
       "  <thead>\n",
       "    <tr style=\"text-align: right;\">\n",
       "      <th></th>\n",
       "      <th>0</th>\n",
       "      <th>1</th>\n",
       "      <th>2</th>\n",
       "      <th>3</th>\n",
       "      <th>4</th>\n",
       "      <th>5</th>\n",
       "      <th>6</th>\n",
       "      <th>7</th>\n",
       "      <th>8</th>\n",
       "      <th>9</th>\n",
       "      <th>...</th>\n",
       "      <th>321</th>\n",
       "      <th>322</th>\n",
       "      <th>323</th>\n",
       "      <th>324</th>\n",
       "      <th>325</th>\n",
       "      <th>326</th>\n",
       "      <th>327</th>\n",
       "      <th>328</th>\n",
       "      <th>329</th>\n",
       "      <th>330</th>\n",
       "    </tr>\n",
       "  </thead>\n",
       "  <tbody>\n",
       "    <tr>\n",
       "      <th>0</th>\n",
       "      <td>-1.529585</td>\n",
       "      <td>-1.526148</td>\n",
       "      <td>-1.521924</td>\n",
       "      <td>-1.517509</td>\n",
       "      <td>-1.513465</td>\n",
       "      <td>-1.510109</td>\n",
       "      <td>-1.507174</td>\n",
       "      <td>-1.504358</td>\n",
       "      <td>-1.501336</td>\n",
       "      <td>-1.497977</td>\n",
       "      <td>...</td>\n",
       "      <td>-0.382078</td>\n",
       "      <td>-0.379679</td>\n",
       "      <td>-0.380273</td>\n",
       "      <td>-0.383554</td>\n",
       "      <td>-0.387627</td>\n",
       "      <td>-0.391440</td>\n",
       "      <td>-0.390992</td>\n",
       "      <td>-0.386959</td>\n",
       "      <td>-0.382195</td>\n",
       "      <td>-0.380483</td>\n",
       "    </tr>\n",
       "    <tr>\n",
       "      <th>1</th>\n",
       "      <td>-2.660799</td>\n",
       "      <td>-2.661449</td>\n",
       "      <td>-2.660632</td>\n",
       "      <td>-2.658754</td>\n",
       "      <td>-2.656397</td>\n",
       "      <td>-2.654002</td>\n",
       "      <td>-2.651626</td>\n",
       "      <td>-2.649281</td>\n",
       "      <td>-2.646905</td>\n",
       "      <td>-2.644502</td>\n",
       "      <td>...</td>\n",
       "      <td>-1.074875</td>\n",
       "      <td>-1.072987</td>\n",
       "      <td>-1.073222</td>\n",
       "      <td>-1.075464</td>\n",
       "      <td>-1.078384</td>\n",
       "      <td>-1.080916</td>\n",
       "      <td>-1.081011</td>\n",
       "      <td>-1.079225</td>\n",
       "      <td>-1.077194</td>\n",
       "      <td>-1.077154</td>\n",
       "    </tr>\n",
       "    <tr>\n",
       "      <th>2</th>\n",
       "      <td>-0.762655</td>\n",
       "      <td>-0.762801</td>\n",
       "      <td>-0.760450</td>\n",
       "      <td>-0.756386</td>\n",
       "      <td>-0.751446</td>\n",
       "      <td>-0.746233</td>\n",
       "      <td>-0.740728</td>\n",
       "      <td>-0.734908</td>\n",
       "      <td>-0.728701</td>\n",
       "      <td>-0.722224</td>\n",
       "      <td>...</td>\n",
       "      <td>0.023355</td>\n",
       "      <td>0.026942</td>\n",
       "      <td>0.026924</td>\n",
       "      <td>0.023722</td>\n",
       "      <td>0.019574</td>\n",
       "      <td>0.015533</td>\n",
       "      <td>0.016761</td>\n",
       "      <td>0.022521</td>\n",
       "      <td>0.029242</td>\n",
       "      <td>0.032227</td>\n",
       "    </tr>\n",
       "    <tr>\n",
       "      <th>3</th>\n",
       "      <td>0.122774</td>\n",
       "      <td>0.127224</td>\n",
       "      <td>0.133051</td>\n",
       "      <td>0.139302</td>\n",
       "      <td>0.145175</td>\n",
       "      <td>0.150189</td>\n",
       "      <td>0.154679</td>\n",
       "      <td>0.159016</td>\n",
       "      <td>0.163600</td>\n",
       "      <td>0.168563</td>\n",
       "      <td>...</td>\n",
       "      <td>1.193054</td>\n",
       "      <td>1.197449</td>\n",
       "      <td>1.196784</td>\n",
       "      <td>1.191792</td>\n",
       "      <td>1.185667</td>\n",
       "      <td>1.179440</td>\n",
       "      <td>1.181563</td>\n",
       "      <td>1.191100</td>\n",
       "      <td>1.202419</td>\n",
       "      <td>1.208214</td>\n",
       "    </tr>\n",
       "    <tr>\n",
       "      <th>4</th>\n",
       "      <td>-3.343334</td>\n",
       "      <td>-3.344181</td>\n",
       "      <td>-3.343445</td>\n",
       "      <td>-3.341459</td>\n",
       "      <td>-3.338784</td>\n",
       "      <td>-3.335860</td>\n",
       "      <td>-3.332839</td>\n",
       "      <td>-3.329809</td>\n",
       "      <td>-3.326772</td>\n",
       "      <td>-3.323749</td>\n",
       "      <td>...</td>\n",
       "      <td>-1.619616</td>\n",
       "      <td>-1.618087</td>\n",
       "      <td>-1.618020</td>\n",
       "      <td>-1.619440</td>\n",
       "      <td>-1.621459</td>\n",
       "      <td>-1.622996</td>\n",
       "      <td>-1.623535</td>\n",
       "      <td>-1.623535</td>\n",
       "      <td>-1.623670</td>\n",
       "      <td>-1.624962</td>\n",
       "    </tr>\n",
       "  </tbody>\n",
       "</table>\n",
       "<p>5 rows × 331 columns</p>\n",
       "</div>"
      ],
      "text/plain": [
       "        0         1         2         3         4         5         6    \\\n",
       "0 -1.529585 -1.526148 -1.521924 -1.517509 -1.513465 -1.510109 -1.507174   \n",
       "1 -2.660799 -2.661449 -2.660632 -2.658754 -2.656397 -2.654002 -2.651626   \n",
       "2 -0.762655 -0.762801 -0.760450 -0.756386 -0.751446 -0.746233 -0.740728   \n",
       "3  0.122774  0.127224  0.133051  0.139302  0.145175  0.150189  0.154679   \n",
       "4 -3.343334 -3.344181 -3.343445 -3.341459 -3.338784 -3.335860 -3.332839   \n",
       "\n",
       "        7         8         9      ...          321       322       323  \\\n",
       "0 -1.504358 -1.501336 -1.497977    ...    -0.382078 -0.379679 -0.380273   \n",
       "1 -2.649281 -2.646905 -2.644502    ...    -1.074875 -1.072987 -1.073222   \n",
       "2 -0.734908 -0.728701 -0.722224    ...     0.023355  0.026942  0.026924   \n",
       "3  0.159016  0.163600  0.168563    ...     1.193054  1.197449  1.196784   \n",
       "4 -3.329809 -3.326772 -3.323749    ...    -1.619616 -1.618087 -1.618020   \n",
       "\n",
       "        324       325       326       327       328       329       330  \n",
       "0 -0.383554 -0.387627 -0.391440 -0.390992 -0.386959 -0.382195 -0.380483  \n",
       "1 -1.075464 -1.078384 -1.080916 -1.081011 -1.079225 -1.077194 -1.077154  \n",
       "2  0.023722  0.019574  0.015533  0.016761  0.022521  0.029242  0.032227  \n",
       "3  1.191792  1.185667  1.179440  1.181563  1.191100  1.202419  1.208214  \n",
       "4 -1.619440 -1.621459 -1.622996 -1.623535 -1.623535 -1.623670 -1.624962  \n",
       "\n",
       "[5 rows x 331 columns]"
      ]
     },
     "execution_count": 18,
     "metadata": {},
     "output_type": "execute_result"
    }
   ],
   "source": [
    "df15.head()"
   ]
  },
  {
   "cell_type": "code",
   "execution_count": 19,
   "metadata": {},
   "outputs": [],
   "source": [
    "from sklearn.model_selection import train_test_split"
   ]
  },
  {
   "cell_type": "code",
   "execution_count": 20,
   "metadata": {},
   "outputs": [
    {
     "name": "stderr",
     "output_type": "stream",
     "text": [
      "C:\\Users\\akhil\\Anaconda3\\lib\\site-packages\\sklearn\\model_selection\\_split.py:2179: FutureWarning: From version 0.21, test_size will always complement train_size unless both are specified.\n",
      "  FutureWarning)\n"
     ]
    }
   ],
   "source": [
    "X_train, X_test, y_train, y_test = train_test_split(normalized_X, y,\n",
    "                                                    train_size=0.8,\n",
    "                                                    random_state=42,stratify = y)"
   ]
  },
  {
   "cell_type": "code",
   "execution_count": 21,
   "metadata": {},
   "outputs": [],
   "source": [
    "from sklearn.model_selection import cross_val_predict, cross_val_score\n",
    "from sklearn.metrics import accuracy_score, classification_report, confusion_matrix"
   ]
  },
  {
   "cell_type": "code",
   "execution_count": 22,
   "metadata": {},
   "outputs": [],
   "source": [
    "from sklearn import svm\n",
    "clf = svm.SVC(kernel=\"linear\")"
   ]
  },
  {
   "cell_type": "code",
   "execution_count": 23,
   "metadata": {},
   "outputs": [
    {
     "name": "stdout",
     "output_type": "stream",
     "text": [
      "0.6684210526315789\n"
     ]
    }
   ],
   "source": [
    "clf.fit(X_train,y_train)\n",
    "print(accuracy_score(y_train, clf.predict(X_train)))\n",
    "#print(accuracy_score(y_test, clf.predict(X_test))"
   ]
  },
  {
   "cell_type": "code",
   "execution_count": 24,
   "metadata": {},
   "outputs": [
    {
     "name": "stderr",
     "output_type": "stream",
     "text": [
      "C:\\Users\\akhil\\Anaconda3\\lib\\site-packages\\sklearn\\ensemble\\forest.py:246: FutureWarning: The default value of n_estimators will change from 10 in version 0.20 to 100 in 0.22.\n",
      "  \"10 in version 0.20 to 100 in 0.22.\", FutureWarning)\n"
     ]
    },
    {
     "data": {
      "text/plain": [
       "RandomForestClassifier(bootstrap=True, class_weight=None, criterion='gini',\n",
       "            max_depth=None, max_features='auto', max_leaf_nodes=None,\n",
       "            min_impurity_decrease=0.0, min_impurity_split=None,\n",
       "            min_samples_leaf=1, min_samples_split=2,\n",
       "            min_weight_fraction_leaf=0.0, n_estimators=10, n_jobs=None,\n",
       "            oob_score=False, random_state=42, verbose=0, warm_start=False)"
      ]
     },
     "execution_count": 24,
     "metadata": {},
     "output_type": "execute_result"
    }
   ],
   "source": [
    "from sklearn.ensemble import RandomForestClassifier\n",
    "clf1 = RandomForestClassifier(random_state=42)\n",
    "clf1.fit(X_train,y_train)"
   ]
  },
  {
   "cell_type": "code",
   "execution_count": 25,
   "metadata": {},
   "outputs": [
    {
     "name": "stdout",
     "output_type": "stream",
     "text": [
      "0.9789473684210527\n"
     ]
    }
   ],
   "source": [
    "print(accuracy_score(y_train, clf1.predict(X_train)))"
   ]
  },
  {
   "cell_type": "code",
   "execution_count": 26,
   "metadata": {},
   "outputs": [],
   "source": [
    "def print_score(clf, X_train, y_train, X_test, y_test, train=True):\n",
    "    if train:\n",
    "        print(\"Train Result:\\n\")\n",
    "        print(\"accuracy score: {0:.4f}\\n\".format(accuracy_score(y_train, clf.predict(X_train))))\n",
    "        print(\"Classification Report: \\n {}\\n\".format(classification_report(y_train, clf.predict(X_train))))\n",
    "        print(\"Confusion Matrix: \\n {}\\n\".format(confusion_matrix(y_train, clf.predict(X_train))))\n",
    "\n",
    "        res = cross_val_score(clf, X_train, y_train, cv=10, scoring='accuracy')\n",
    "        print(\"Average Accuracy: \\t {0:.4f}\".format(np.mean(res)))\n",
    "        print(\"Accuracy SD: \\t\\t {0:.4f}\".format(np.std(res)))\n",
    "        \n",
    "    elif train==False:\n",
    "        print(\"Test Result:\\n\")        \n",
    "        print(\"accuracy score: {0:.4f}\\n\".format(accuracy_score(y_test, clf.predict(X_test))))\n",
    "        print(\"Classification Report: \\n {}\\n\".format(classification_report(y_test, clf.predict(X_test))))\n",
    "        print(\"Confusion Matrix: \\n {}\\n\".format(confusion_matrix(y_test, clf.predict(X_test))))  "
   ]
  },
  {
   "cell_type": "code",
   "execution_count": 27,
   "metadata": {},
   "outputs": [
    {
     "name": "stdout",
     "output_type": "stream",
     "text": [
      "Train Result:\n",
      "\n",
      "accuracy score: 0.9789\n",
      "\n",
      "Classification Report: \n",
      "               precision    recall  f1-score   support\n",
      "\n",
      "  Acos Dubie       1.00      0.97      0.99        40\n",
      "       Akaki       0.97      0.97      0.97        40\n",
      "      Ararti       0.97      0.97      0.97        40\n",
      "       Chefe       1.00      0.95      0.97        40\n",
      "    DZ-10-11       0.98      1.00      0.99        40\n",
      "     DZ-10-4       1.00      0.97      0.99        40\n",
      "      Dalota       1.00      1.00      1.00        40\n",
      "       Dimtu       0.97      0.97      0.97        40\n",
      "       Dubie       0.93      1.00      0.96        40\n",
      "       Ejere       0.97      0.97      0.97        40\n",
      "       Habru       0.98      1.00      0.99        40\n",
      "        Hora       0.93      0.97      0.95        40\n",
      "      Mariye       0.95      1.00      0.98        40\n",
      "      Minjar       1.00      0.90      0.95        40\n",
      "      Natoli       0.97      1.00      0.99        38\n",
      "      Shasho       1.00      0.97      0.99        40\n",
      "        Teji       1.00      1.00      1.00        40\n",
      "    Teketawi       0.98      0.98      0.98        42\n",
      "       Worku       1.00      0.97      0.99        40\n",
      "\n",
      "   micro avg       0.98      0.98      0.98       760\n",
      "   macro avg       0.98      0.98      0.98       760\n",
      "weighted avg       0.98      0.98      0.98       760\n",
      "\n",
      "\n",
      "Confusion Matrix: \n",
      " [[39  0  0  0  0  0  0  0  0  0  0  1  0  0  0  0  0  0  0]\n",
      " [ 0 39  0  0  0  0  0  0  0  0  0  0  0  0  1  0  0  0  0]\n",
      " [ 0  0 39  0  0  0  0  0  0  0  0  1  0  0  0  0  0  0  0]\n",
      " [ 0  0  0 38  0  0  0  0  0  1  0  1  0  0  0  0  0  0  0]\n",
      " [ 0  0  0  0 40  0  0  0  0  0  0  0  0  0  0  0  0  0  0]\n",
      " [ 0  0  0  0  1 39  0  0  0  0  0  0  0  0  0  0  0  0  0]\n",
      " [ 0  0  0  0  0  0 40  0  0  0  0  0  0  0  0  0  0  0  0]\n",
      " [ 0  0  0  0  0  0  0 39  0  0  0  0  0  0  0  0  0  1  0]\n",
      " [ 0  0  0  0  0  0  0  0 40  0  0  0  0  0  0  0  0  0  0]\n",
      " [ 0  0  1  0  0  0  0  0  0 39  0  0  0  0  0  0  0  0  0]\n",
      " [ 0  0  0  0  0  0  0  0  0  0 40  0  0  0  0  0  0  0  0]\n",
      " [ 0  0  0  0  0  0  0  0  1  0  0 39  0  0  0  0  0  0  0]\n",
      " [ 0  0  0  0  0  0  0  0  0  0  0  0 40  0  0  0  0  0  0]\n",
      " [ 0  1  0  0  0  0  0  0  2  0  0  0  1 36  0  0  0  0  0]\n",
      " [ 0  0  0  0  0  0  0  0  0  0  0  0  0  0 38  0  0  0  0]\n",
      " [ 0  0  0  0  0  0  0  0  0  0  1  0  0  0  0 39  0  0  0]\n",
      " [ 0  0  0  0  0  0  0  0  0  0  0  0  0  0  0  0 40  0  0]\n",
      " [ 0  0  0  0  0  0  0  1  0  0  0  0  0  0  0  0  0 41  0]\n",
      " [ 0  0  0  0  0  0  0  0  0  0  0  0  1  0  0  0  0  0 39]]\n",
      "\n",
      "Average Accuracy: \t 0.3685\n",
      "Accuracy SD: \t\t 0.0623\n"
     ]
    }
   ],
   "source": [
    "print_score(clf1, X_train, y_train, X_test, y_test, train=True)"
   ]
  },
  {
   "cell_type": "code",
   "execution_count": 28,
   "metadata": {},
   "outputs": [
    {
     "name": "stdout",
     "output_type": "stream",
     "text": [
      "Test Result:\n",
      "\n",
      "accuracy score: 0.4579\n",
      "\n",
      "Classification Report: \n",
      "               precision    recall  f1-score   support\n",
      "\n",
      "  Acos Dubie       0.53      0.90      0.67        10\n",
      "       Akaki       0.75      0.60      0.67        10\n",
      "      Ararti       0.21      0.40      0.28        10\n",
      "       Chefe       0.36      0.40      0.38        10\n",
      "    DZ-10-11       0.67      0.80      0.73        10\n",
      "     DZ-10-4       0.64      0.70      0.67        10\n",
      "      Dalota       0.62      0.50      0.56        10\n",
      "       Dimtu       0.78      0.70      0.74        10\n",
      "       Dubie       0.55      0.60      0.57        10\n",
      "       Ejere       0.25      0.20      0.22        10\n",
      "       Habru       0.50      0.20      0.29        10\n",
      "        Hora       0.20      0.20      0.20        10\n",
      "      Mariye       0.36      0.50      0.42        10\n",
      "      Minjar       0.60      0.30      0.40        10\n",
      "      Natoli       0.25      0.20      0.22        10\n",
      "      Shasho       0.27      0.30      0.29        10\n",
      "        Teji       0.33      0.10      0.15        10\n",
      "    Teketawi       0.58      0.70      0.64        10\n",
      "       Worku       0.44      0.40      0.42        10\n",
      "\n",
      "   micro avg       0.46      0.46      0.46       190\n",
      "   macro avg       0.47      0.46      0.45       190\n",
      "weighted avg       0.47      0.46      0.45       190\n",
      "\n",
      "\n",
      "Confusion Matrix: \n",
      " [[9 0 1 0 0 0 0 0 0 0 0 0 0 0 0 0 0 0 0]\n",
      " [0 6 0 0 0 0 0 0 0 0 0 0 3 1 0 0 0 0 0]\n",
      " [1 0 4 1 0 0 0 0 0 2 0 1 0 0 0 1 0 0 0]\n",
      " [0 0 1 4 0 2 0 0 0 0 0 2 0 0 0 1 0 0 0]\n",
      " [0 0 0 0 8 0 0 0 1 0 0 0 1 0 0 0 0 0 0]\n",
      " [0 0 1 0 1 7 0 0 1 0 0 0 0 0 0 0 0 0 0]\n",
      " [0 1 0 0 1 0 5 0 0 0 0 0 0 0 0 0 0 0 3]\n",
      " [0 0 0 0 0 0 2 7 0 0 0 0 0 0 1 0 0 0 0]\n",
      " [0 0 0 1 0 1 0 0 6 0 0 0 1 0 0 0 0 1 0]\n",
      " [0 0 3 0 0 0 0 0 0 2 0 3 0 0 0 1 1 0 0]\n",
      " [1 0 0 2 0 0 0 0 0 1 2 0 0 0 0 4 0 0 0]\n",
      " [1 0 0 1 0 1 0 0 0 1 1 2 0 1 0 1 1 0 0]\n",
      " [0 0 0 0 0 0 0 1 1 0 0 0 5 0 2 0 0 1 0]\n",
      " [0 0 2 0 1 0 0 0 1 1 0 1 0 3 0 0 0 0 1]\n",
      " [0 1 1 0 0 0 1 0 0 0 0 0 3 0 2 0 0 1 1]\n",
      " [1 0 4 0 0 0 0 0 0 1 1 0 0 0 0 3 0 0 0]\n",
      " [4 0 2 2 0 0 0 0 0 0 0 1 0 0 0 0 1 0 0]\n",
      " [0 0 0 0 0 0 0 1 0 0 0 0 1 0 1 0 0 7 0]\n",
      " [0 0 0 0 1 0 0 0 1 0 0 0 0 0 2 0 0 2 4]]\n",
      "\n"
     ]
    }
   ],
   "source": [
    "print_score(clf1, X_train, y_train, X_test, y_test, train=False)"
   ]
  },
  {
   "cell_type": "code",
   "execution_count": 29,
   "metadata": {},
   "outputs": [
    {
     "name": "stdout",
     "output_type": "stream",
     "text": [
      "Train Result:\n",
      "\n",
      "accuracy score: 0.6684\n",
      "\n",
      "Classification Report: \n",
      "               precision    recall  f1-score   support\n",
      "\n",
      "  Acos Dubie       0.89      0.85      0.87        40\n",
      "       Akaki       0.60      0.62      0.61        40\n",
      "      Ararti       0.64      0.57      0.61        40\n",
      "       Chefe       0.34      0.47      0.40        40\n",
      "    DZ-10-11       0.93      1.00      0.96        40\n",
      "     DZ-10-4       0.97      0.93      0.95        40\n",
      "      Dalota       1.00      0.95      0.97        40\n",
      "       Dimtu       0.95      0.90      0.92        40\n",
      "       Dubie       0.73      0.80      0.76        40\n",
      "       Ejere       0.47      0.23      0.31        40\n",
      "       Habru       0.58      0.80      0.67        40\n",
      "        Hora       0.43      0.57      0.49        40\n",
      "      Mariye       0.84      0.65      0.73        40\n",
      "      Minjar       0.74      0.72      0.73        40\n",
      "      Natoli       0.61      0.50      0.55        38\n",
      "      Shasho       0.44      0.28      0.34        40\n",
      "        Teji       0.41      0.38      0.39        40\n",
      "    Teketawi       0.61      0.71      0.66        42\n",
      "       Worku       0.64      0.75      0.69        40\n",
      "\n",
      "   micro avg       0.67      0.67      0.67       760\n",
      "   macro avg       0.67      0.67      0.66       760\n",
      "weighted avg       0.67      0.67      0.66       760\n",
      "\n",
      "\n",
      "Confusion Matrix: \n",
      " [[34  0  0  1  0  0  0  0  0  0  1  0  0  0  0  0  4  0  0]\n",
      " [ 0 25  0  0  0  1  0  1  0  0  0  0  2  4  7  0  0  0  0]\n",
      " [ 0  0 23  7  0  0  0  0  0  5  1  3  0  1  0  0  0  0  0]\n",
      " [ 0  0  1 19  0  0  0  0  0  1  5 11  0  0  0  0  3  0  0]\n",
      " [ 0  0  0  0 40  0  0  0  0  0  0  0  0  0  0  0  0  0  0]\n",
      " [ 0  0  0  0  2 37  0  0  0  0  0  0  0  1  0  0  0  0  0]\n",
      " [ 0  0  0  0  0  0 38  0  0  0  0  0  0  0  0  0  0  2  0]\n",
      " [ 0  0  0  0  0  0  0 36  0  0  0  0  3  0  1  0  0  0  0]\n",
      " [ 0  1  0  0  1  0  0  0 32  0  0  0  0  3  0  0  0  0  3]\n",
      " [ 0  0  6  4  0  0  0  0  0  9  3  7  0  0  0  6  5  0  0]\n",
      " [ 0  0  0  2  0  0  0  0  0  1 32  1  0  0  0  3  1  0  0]\n",
      " [ 0  0  0  8  0  0  0  0  0  0  1 23  0  0  0  3  5  0  0]\n",
      " [ 0  8  0  0  0  0  0  1  1  0  0  0 26  0  4  0  0  0  0]\n",
      " [ 0  3  1  0  0  0  0  0  2  0  0  0  0 29  0  0  0  0  5]\n",
      " [ 0  5  0  0  0  0  0  0  0  0  0  0  0  1 19  0  0 12  1]\n",
      " [ 0  0  4  8  0  0  0  0  0  2  6  5  0  0  0 11  4  0  0]\n",
      " [ 4  0  1  7  0  0  0  0  0  1  6  4  0  0  0  2 15  0  0]\n",
      " [ 0  0  0  0  0  0  0  0  4  0  0  0  0  0  0  0  0 30  8]\n",
      " [ 0  0  0  0  0  0  0  0  5  0  0  0  0  0  0  0  0  5 30]]\n",
      "\n",
      "Average Accuracy: \t 0.6200\n",
      "Accuracy SD: \t\t 0.0637\n"
     ]
    }
   ],
   "source": [
    "print_score(clf, X_train, y_train, X_test, y_test, train=True)"
   ]
  },
  {
   "cell_type": "code",
   "execution_count": 30,
   "metadata": {},
   "outputs": [
    {
     "name": "stdout",
     "output_type": "stream",
     "text": [
      "Test Result:\n",
      "\n",
      "accuracy score: 0.6789\n",
      "\n",
      "Classification Report: \n",
      "               precision    recall  f1-score   support\n",
      "\n",
      "  Acos Dubie       0.69      0.90      0.78        10\n",
      "       Akaki       0.70      0.70      0.70        10\n",
      "      Ararti       0.75      0.60      0.67        10\n",
      "       Chefe       0.42      0.50      0.45        10\n",
      "    DZ-10-11       0.91      1.00      0.95        10\n",
      "     DZ-10-4       1.00      0.80      0.89        10\n",
      "      Dalota       1.00      0.90      0.95        10\n",
      "       Dimtu       0.90      0.90      0.90        10\n",
      "       Dubie       0.67      0.80      0.73        10\n",
      "       Ejere       0.67      0.20      0.31        10\n",
      "       Habru       0.80      0.80      0.80        10\n",
      "        Hora       0.38      0.50      0.43        10\n",
      "      Mariye       0.89      0.80      0.84        10\n",
      "      Minjar       0.56      0.50      0.53        10\n",
      "      Natoli       0.62      0.50      0.56        10\n",
      "      Shasho       0.50      0.50      0.50        10\n",
      "        Teji       0.33      0.40      0.36        10\n",
      "    Teketawi       0.64      0.90      0.75        10\n",
      "       Worku       0.78      0.70      0.74        10\n",
      "\n",
      "   micro avg       0.68      0.68      0.68       190\n",
      "   macro avg       0.70      0.68      0.68       190\n",
      "weighted avg       0.70      0.68      0.68       190\n",
      "\n",
      "\n",
      "Confusion Matrix: \n",
      " [[ 9  0  0  0  0  0  0  0  0  0  0  0  0  0  0  0  1  0  0]\n",
      " [ 0  7  0  0  0  0  0  0  0  0  0  0  0  2  1  0  0  0  0]\n",
      " [ 0  0  6  0  0  0  0  0  0  1  0  2  0  0  0  1  0  0  0]\n",
      " [ 0  0  0  5  0  0  0  0  0  0  0  2  0  0  0  0  3  0  0]\n",
      " [ 0  0  0  0 10  0  0  0  0  0  0  0  0  0  0  0  0  0  0]\n",
      " [ 0  0  0  0  1  8  0  0  0  0  0  0  0  1  0  0  0  0  0]\n",
      " [ 0  0  0  0  0  0  9  0  0  0  0  0  0  0  0  0  0  0  1]\n",
      " [ 0  0  0  0  0  0  0  9  0  0  0  0  0  0  1  0  0  0  0]\n",
      " [ 0  0  0  0  0  0  0  0  8  0  0  0  1  0  1  0  0  0  0]\n",
      " [ 0  0  0  2  0  0  0  0  0  2  0  1  0  0  0  3  2  0  0]\n",
      " [ 0  0  0  0  0  0  0  0  0  0  8  2  0  0  0  0  0  0  0]\n",
      " [ 2  0  0  2  0  0  0  0  0  0  0  5  0  0  0  1  0  0  0]\n",
      " [ 0  2  0  0  0  0  0  0  0  0  0  0  8  0  0  0  0  0  0]\n",
      " [ 0  0  2  0  0  0  0  0  3  0  0  0  0  5  0  0  0  0  0]\n",
      " [ 0  1  0  0  0  0  0  1  0  0  0  0  0  1  5  0  0  2  0]\n",
      " [ 0  0  0  1  0  0  0  0  0  0  1  1  0  0  0  5  2  0  0]\n",
      " [ 2  0  0  2  0  0  0  0  1  0  1  0  0  0  0  0  4  0  0]\n",
      " [ 0  0  0  0  0  0  0  0  0  0  0  0  0  0  0  0  0  9  1]\n",
      " [ 0  0  0  0  0  0  0  0  0  0  0  0  0  0  0  0  0  3  7]]\n",
      "\n"
     ]
    }
   ],
   "source": [
    "print_score(clf, X_train, y_train, X_test, y_test, train=False)"
   ]
  },
  {
   "cell_type": "code",
   "execution_count": 31,
   "metadata": {},
   "outputs": [
    {
     "ename": "ModuleNotFoundError",
     "evalue": "No module named 'xgboost'",
     "output_type": "error",
     "traceback": [
      "\u001b[1;31m---------------------------------------------------------------------------\u001b[0m",
      "\u001b[1;31mModuleNotFoundError\u001b[0m                       Traceback (most recent call last)",
      "\u001b[1;32m<ipython-input-31-e528dc1a32ff>\u001b[0m in \u001b[0;36m<module>\u001b[1;34m\u001b[0m\n\u001b[1;32m----> 1\u001b[1;33m \u001b[1;32mimport\u001b[0m \u001b[0mxgboost\u001b[0m\u001b[1;33m\u001b[0m\u001b[1;33m\u001b[0m\u001b[0m\n\u001b[0m",
      "\u001b[1;31mModuleNotFoundError\u001b[0m: No module named 'xgboost'"
     ]
    }
   ],
   "source": [
    "import xgboost"
   ]
  },
  {
   "cell_type": "code",
   "execution_count": 32,
   "metadata": {},
   "outputs": [
    {
     "ename": "ModuleNotFoundError",
     "evalue": "No module named 'xgboost'",
     "output_type": "error",
     "traceback": [
      "\u001b[1;31m---------------------------------------------------------------------------\u001b[0m",
      "\u001b[1;31mModuleNotFoundError\u001b[0m                       Traceback (most recent call last)",
      "\u001b[1;32m<ipython-input-32-ab142531d720>\u001b[0m in \u001b[0;36m<module>\u001b[1;34m\u001b[0m\n\u001b[1;32m----> 1\u001b[1;33m \u001b[1;32mimport\u001b[0m \u001b[0mxgboost\u001b[0m \u001b[1;32mas\u001b[0m \u001b[0mxgb\u001b[0m\u001b[1;33m\u001b[0m\u001b[1;33m\u001b[0m\u001b[0m\n\u001b[0m\u001b[0;32m      2\u001b[0m \u001b[0mclf2\u001b[0m \u001b[1;33m=\u001b[0m \u001b[0mxgb\u001b[0m\u001b[1;33m.\u001b[0m\u001b[0mXGBClassifier\u001b[0m\u001b[1;33m(\u001b[0m\u001b[1;33m)\u001b[0m\u001b[1;33m\u001b[0m\u001b[1;33m\u001b[0m\u001b[0m\n\u001b[0;32m      3\u001b[0m \u001b[0mclf2\u001b[0m\u001b[1;33m.\u001b[0m\u001b[0mfit\u001b[0m\u001b[1;33m(\u001b[0m\u001b[0mnormalized_X\u001b[0m\u001b[1;33m,\u001b[0m \u001b[0my\u001b[0m\u001b[1;33m)\u001b[0m\u001b[1;33m\u001b[0m\u001b[1;33m\u001b[0m\u001b[0m\n",
      "\u001b[1;31mModuleNotFoundError\u001b[0m: No module named 'xgboost'"
     ]
    }
   ],
   "source": [
    "import xgboost as xgb\n",
    "clf2 = xgb.XGBClassifier()\n",
    "clf2.fit(normalized_X, y)"
   ]
  },
  {
   "cell_type": "code",
   "execution_count": 33,
   "metadata": {},
   "outputs": [
    {
     "ename": "NameError",
     "evalue": "name 'clf2' is not defined",
     "output_type": "error",
     "traceback": [
      "\u001b[1;31m---------------------------------------------------------------------------\u001b[0m",
      "\u001b[1;31mNameError\u001b[0m                                 Traceback (most recent call last)",
      "\u001b[1;32m<ipython-input-33-d639c5b65505>\u001b[0m in \u001b[0;36m<module>\u001b[1;34m\u001b[0m\n\u001b[1;32m----> 1\u001b[1;33m \u001b[0mprint\u001b[0m\u001b[1;33m(\u001b[0m\u001b[0maccuracy_score\u001b[0m\u001b[1;33m(\u001b[0m\u001b[0my\u001b[0m\u001b[1;33m,\u001b[0m \u001b[0mclf2\u001b[0m\u001b[1;33m.\u001b[0m\u001b[0mpredict\u001b[0m\u001b[1;33m(\u001b[0m\u001b[0mnormalized_X\u001b[0m\u001b[1;33m)\u001b[0m\u001b[1;33m)\u001b[0m\u001b[1;33m)\u001b[0m\u001b[1;33m\u001b[0m\u001b[1;33m\u001b[0m\u001b[0m\n\u001b[0m",
      "\u001b[1;31mNameError\u001b[0m: name 'clf2' is not defined"
     ]
    }
   ],
   "source": [
    "print(accuracy_score(y, clf2.predict(normalized_X)))"
   ]
  },
  {
   "cell_type": "code",
   "execution_count": 34,
   "metadata": {},
   "outputs": [
    {
     "data": {
      "text/plain": [
       "DecisionTreeClassifier(class_weight=None, criterion='gini', max_depth=None,\n",
       "            max_features=None, max_leaf_nodes=None,\n",
       "            min_impurity_decrease=0.0, min_impurity_split=None,\n",
       "            min_samples_leaf=1, min_samples_split=2,\n",
       "            min_weight_fraction_leaf=0.0, presort=False, random_state=None,\n",
       "            splitter='best')"
      ]
     },
     "execution_count": 34,
     "metadata": {},
     "output_type": "execute_result"
    }
   ],
   "source": [
    "# Importing decision tree classifier from sklearn library\n",
    "from sklearn.tree import DecisionTreeClassifier\n",
    "\n",
    "# Fitting the decision tree with default hyperparameters, apart from\n",
    "# max_depth which is 5 so that we can plot and read the tree.\n",
    "dt_default = DecisionTreeClassifier()\n",
    "dt_default.fit(X_train, y_train)"
   ]
  },
  {
   "cell_type": "code",
   "execution_count": 35,
   "metadata": {},
   "outputs": [
    {
     "name": "stdout",
     "output_type": "stream",
     "text": [
      "Train Result:\n",
      "\n",
      "accuracy score: 1.0000\n",
      "\n",
      "Classification Report: \n",
      "               precision    recall  f1-score   support\n",
      "\n",
      "  Acos Dubie       1.00      1.00      1.00        40\n",
      "       Akaki       1.00      1.00      1.00        40\n",
      "      Ararti       1.00      1.00      1.00        40\n",
      "       Chefe       1.00      1.00      1.00        40\n",
      "    DZ-10-11       1.00      1.00      1.00        40\n",
      "     DZ-10-4       1.00      1.00      1.00        40\n",
      "      Dalota       1.00      1.00      1.00        40\n",
      "       Dimtu       1.00      1.00      1.00        40\n",
      "       Dubie       1.00      1.00      1.00        40\n",
      "       Ejere       1.00      1.00      1.00        40\n",
      "       Habru       1.00      1.00      1.00        40\n",
      "        Hora       1.00      1.00      1.00        40\n",
      "      Mariye       1.00      1.00      1.00        40\n",
      "      Minjar       1.00      1.00      1.00        40\n",
      "      Natoli       1.00      1.00      1.00        38\n",
      "      Shasho       1.00      1.00      1.00        40\n",
      "        Teji       1.00      1.00      1.00        40\n",
      "    Teketawi       1.00      1.00      1.00        42\n",
      "       Worku       1.00      1.00      1.00        40\n",
      "\n",
      "   micro avg       1.00      1.00      1.00       760\n",
      "   macro avg       1.00      1.00      1.00       760\n",
      "weighted avg       1.00      1.00      1.00       760\n",
      "\n",
      "\n",
      "Confusion Matrix: \n",
      " [[40  0  0  0  0  0  0  0  0  0  0  0  0  0  0  0  0  0  0]\n",
      " [ 0 40  0  0  0  0  0  0  0  0  0  0  0  0  0  0  0  0  0]\n",
      " [ 0  0 40  0  0  0  0  0  0  0  0  0  0  0  0  0  0  0  0]\n",
      " [ 0  0  0 40  0  0  0  0  0  0  0  0  0  0  0  0  0  0  0]\n",
      " [ 0  0  0  0 40  0  0  0  0  0  0  0  0  0  0  0  0  0  0]\n",
      " [ 0  0  0  0  0 40  0  0  0  0  0  0  0  0  0  0  0  0  0]\n",
      " [ 0  0  0  0  0  0 40  0  0  0  0  0  0  0  0  0  0  0  0]\n",
      " [ 0  0  0  0  0  0  0 40  0  0  0  0  0  0  0  0  0  0  0]\n",
      " [ 0  0  0  0  0  0  0  0 40  0  0  0  0  0  0  0  0  0  0]\n",
      " [ 0  0  0  0  0  0  0  0  0 40  0  0  0  0  0  0  0  0  0]\n",
      " [ 0  0  0  0  0  0  0  0  0  0 40  0  0  0  0  0  0  0  0]\n",
      " [ 0  0  0  0  0  0  0  0  0  0  0 40  0  0  0  0  0  0  0]\n",
      " [ 0  0  0  0  0  0  0  0  0  0  0  0 40  0  0  0  0  0  0]\n",
      " [ 0  0  0  0  0  0  0  0  0  0  0  0  0 40  0  0  0  0  0]\n",
      " [ 0  0  0  0  0  0  0  0  0  0  0  0  0  0 38  0  0  0  0]\n",
      " [ 0  0  0  0  0  0  0  0  0  0  0  0  0  0  0 40  0  0  0]\n",
      " [ 0  0  0  0  0  0  0  0  0  0  0  0  0  0  0  0 40  0  0]\n",
      " [ 0  0  0  0  0  0  0  0  0  0  0  0  0  0  0  0  0 42  0]\n",
      " [ 0  0  0  0  0  0  0  0  0  0  0  0  0  0  0  0  0  0 40]]\n",
      "\n",
      "Average Accuracy: \t 0.3210\n",
      "Accuracy SD: \t\t 0.0339\n"
     ]
    }
   ],
   "source": [
    "print_score(dt_default, X_train, y_train, X_test, y_test, train=True)"
   ]
  },
  {
   "cell_type": "code",
   "execution_count": 36,
   "metadata": {},
   "outputs": [
    {
     "name": "stdout",
     "output_type": "stream",
     "text": [
      "Test Result:\n",
      "\n",
      "accuracy score: 0.4000\n",
      "\n",
      "Classification Report: \n",
      "               precision    recall  f1-score   support\n",
      "\n",
      "  Acos Dubie       0.57      0.80      0.67        10\n",
      "       Akaki       0.38      0.30      0.33        10\n",
      "      Ararti       0.20      0.20      0.20        10\n",
      "       Chefe       0.20      0.30      0.24        10\n",
      "    DZ-10-11       0.58      0.70      0.64        10\n",
      "     DZ-10-4       0.88      0.70      0.78        10\n",
      "      Dalota       0.50      0.30      0.37        10\n",
      "       Dimtu       0.44      0.70      0.54        10\n",
      "       Dubie       0.43      0.30      0.35        10\n",
      "       Ejere       0.11      0.10      0.11        10\n",
      "       Habru       0.50      0.40      0.44        10\n",
      "        Hora       0.29      0.40      0.33        10\n",
      "      Mariye       0.33      0.30      0.32        10\n",
      "      Minjar       0.67      0.40      0.50        10\n",
      "      Natoli       0.27      0.30      0.29        10\n",
      "      Shasho       0.40      0.20      0.27        10\n",
      "        Teji       0.08      0.10      0.09        10\n",
      "    Teketawi       0.60      0.60      0.60        10\n",
      "       Worku       0.50      0.50      0.50        10\n",
      "\n",
      "   micro avg       0.40      0.40      0.40       190\n",
      "   macro avg       0.42      0.40      0.40       190\n",
      "weighted avg       0.42      0.40      0.40       190\n",
      "\n",
      "\n",
      "Confusion Matrix: \n",
      " [[8 0 0 1 0 0 0 0 0 1 0 0 0 0 0 0 0 0 0]\n",
      " [0 3 0 1 0 0 0 1 0 0 0 0 2 1 1 0 1 0 0]\n",
      " [0 0 2 2 0 0 0 0 0 2 0 2 0 0 0 0 2 0 0]\n",
      " [0 0 1 3 0 1 0 0 0 1 0 2 0 0 0 0 2 0 0]\n",
      " [0 0 0 0 7 0 1 0 0 0 0 0 0 0 1 0 0 0 1]\n",
      " [0 1 0 0 1 7 0 0 1 0 0 0 0 0 0 0 0 0 0]\n",
      " [0 0 0 0 1 0 3 3 0 0 0 0 0 0 0 0 0 1 2]\n",
      " [0 1 0 0 0 0 1 7 0 0 0 0 1 0 0 0 0 0 0]\n",
      " [0 1 1 2 0 0 0 1 3 0 0 0 0 0 2 0 0 0 0]\n",
      " [0 0 2 0 0 0 0 0 0 1 1 4 0 0 0 0 2 0 0]\n",
      " [0 0 0 2 0 0 0 0 0 0 4 0 0 0 0 2 2 0 0]\n",
      " [1 0 0 0 1 0 0 0 0 1 1 4 0 0 0 1 1 0 0]\n",
      " [0 1 0 0 0 0 0 1 2 0 0 0 3 1 2 0 0 0 0]\n",
      " [0 0 2 2 1 0 0 0 0 0 0 0 0 4 0 0 0 1 0]\n",
      " [0 0 0 0 0 0 1 2 0 0 0 0 2 0 3 0 0 1 1]\n",
      " [1 0 1 0 0 0 0 0 0 2 2 1 0 0 0 2 1 0 0]\n",
      " [4 0 1 2 0 0 0 0 0 1 0 1 0 0 0 0 1 0 0]\n",
      " [0 1 0 0 0 0 0 1 0 0 0 0 1 0 0 0 0 6 1]\n",
      " [0 0 0 0 1 0 0 0 1 0 0 0 0 0 2 0 0 1 5]]\n",
      "\n"
     ]
    }
   ],
   "source": [
    "print_score(dt_default, X_train, y_train, X_test, y_test, train=False)"
   ]
  },
  {
   "cell_type": "code",
   "execution_count": 37,
   "metadata": {},
   "outputs": [],
   "source": [
    "from sklearn.neighbors import KNeighborsClassifier"
   ]
  },
  {
   "cell_type": "code",
   "execution_count": 52,
   "metadata": {},
   "outputs": [],
   "source": [
    "knn = KNeighborsClassifier(n_neighbors=8,\n",
    "                           p=2, metric='minkowski')"
   ]
  },
  {
   "cell_type": "code",
   "execution_count": 53,
   "metadata": {},
   "outputs": [
    {
     "data": {
      "text/plain": [
       "KNeighborsClassifier(algorithm='auto', leaf_size=30, metric='minkowski',\n",
       "           metric_params=None, n_jobs=None, n_neighbors=8, p=2,\n",
       "           weights='uniform')"
      ]
     },
     "execution_count": 53,
     "metadata": {},
     "output_type": "execute_result"
    }
   ],
   "source": [
    "knn.fit(X_train, y_train)"
   ]
  },
  {
   "cell_type": "code",
   "execution_count": 54,
   "metadata": {},
   "outputs": [
    {
     "name": "stdout",
     "output_type": "stream",
     "text": [
      "Train Result:\n",
      "\n",
      "accuracy score: 0.5026\n",
      "\n",
      "Classification Report: \n",
      "               precision    recall  f1-score   support\n",
      "\n",
      "  Acos Dubie       0.61      0.57      0.59        40\n",
      "       Akaki       0.42      0.80      0.55        40\n",
      "      Ararti       0.33      0.53      0.41        40\n",
      "       Chefe       0.38      0.28      0.32        40\n",
      "    DZ-10-11       0.85      0.97      0.91        40\n",
      "     DZ-10-4       0.62      0.82      0.71        40\n",
      "      Dalota       0.49      0.70      0.58        40\n",
      "       Dimtu       0.88      0.55      0.68        40\n",
      "       Dubie       0.54      0.62      0.58        40\n",
      "       Ejere       0.30      0.38      0.33        40\n",
      "       Habru       0.59      0.55      0.57        40\n",
      "        Hora       0.31      0.28      0.29        40\n",
      "      Mariye       0.45      0.47      0.46        40\n",
      "      Minjar       0.64      0.45      0.53        40\n",
      "      Natoli       0.48      0.32      0.38        38\n",
      "      Shasho       0.45      0.38      0.41        40\n",
      "        Teji       0.35      0.20      0.25        40\n",
      "    Teketawi       0.48      0.38      0.43        42\n",
      "       Worku       0.60      0.30      0.40        40\n",
      "\n",
      "   micro avg       0.50      0.50      0.50       760\n",
      "   macro avg       0.52      0.50      0.49       760\n",
      "weighted avg       0.52      0.50      0.49       760\n",
      "\n",
      "\n",
      "Confusion Matrix: \n",
      " [[23  0  1  1  0  0  0  0  0  0  4  2  0  1  0  2  6  0  0]\n",
      " [ 0 32  0  0  0  0  0  0  2  0  0  0  2  1  3  0  0  0  0]\n",
      " [ 1  0 21  3  0  1  0  0  1  6  0  3  0  2  0  2  0  0  0]\n",
      " [ 2  0  3 11  1  3  0  0  2  5  2  5  0  1  0  5  0  0  0]\n",
      " [ 0  0  0  0 39  0  0  0  0  0  0  0  0  0  0  0  0  0  1]\n",
      " [ 0  1  1  0  2 33  0  0  1  1  0  0  0  1  0  0  0  0  0]\n",
      " [ 0  0  0  0  0  0 28  1  0  0  0  0  2  0  0  0  0  5  4]\n",
      " [ 0  1  0  0  0  0  9 22  0  0  0  0  2  0  1  0  0  5  0]\n",
      " [ 0  6  2  1  1  2  0  0 25  1  0  0  1  0  0  1  0  0  0]\n",
      " [ 2  0 11  0  0  1  0  0  0 15  2  4  0  1  0  3  1  0  0]\n",
      " [ 3  0  3  2  0  0  0  0  0  3 22  4  0  0  0  2  1  0  0]\n",
      " [ 1  1  6  6  0  5  0  0  0  3  0 11  0  0  0  2  5  0  0]\n",
      " [ 0  9  0  0  0  1  1  0  3  0  0  0 19  0  5  0  0  2  0]\n",
      " [ 0  4  5  0  1  3  0  0  5  2  0  0  1 18  0  0  0  0  1]\n",
      " [ 0  8  0  0  0  0  7  1  1  0  0  0  4  1 12  0  0  3  1]\n",
      " [ 2  0  4  3  0  1  0  0  0  8  3  2  0  0  0 15  2  0  0]\n",
      " [ 4  0  6  2  0  3  0  0  0  6  4  4  0  2  0  1  8  0  0]\n",
      " [ 0  6  0  0  1  0  9  1  2  0  0  0  4  0  2  0  0 16  1]\n",
      " [ 0  9  0  0  1  0  3  0  4  0  0  0  7  0  2  0  0  2 12]]\n",
      "\n",
      "Average Accuracy: \t 0.3305\n",
      "Accuracy SD: \t\t 0.0479\n"
     ]
    }
   ],
   "source": [
    "print_score(knn, X_train, y_train, X_test, y_test, train=True)"
   ]
  },
  {
   "cell_type": "code",
   "execution_count": 55,
   "metadata": {},
   "outputs": [
    {
     "name": "stdout",
     "output_type": "stream",
     "text": [
      "Test Result:\n",
      "\n",
      "accuracy score: 0.4053\n",
      "\n",
      "Classification Report: \n",
      "               precision    recall  f1-score   support\n",
      "\n",
      "  Acos Dubie       0.62      0.80      0.70        10\n",
      "       Akaki       0.31      0.40      0.35        10\n",
      "      Ararti       0.28      0.50      0.36        10\n",
      "       Chefe       0.11      0.10      0.11        10\n",
      "    DZ-10-11       0.64      0.90      0.75        10\n",
      "     DZ-10-4       0.50      0.70      0.58        10\n",
      "      Dalota       0.36      0.40      0.38        10\n",
      "       Dimtu       0.75      0.60      0.67        10\n",
      "       Dubie       0.40      0.60      0.48        10\n",
      "       Ejere       0.17      0.30      0.21        10\n",
      "       Habru       0.67      0.40      0.50        10\n",
      "        Hora       0.17      0.10      0.12        10\n",
      "      Mariye       0.33      0.30      0.32        10\n",
      "      Minjar       0.60      0.30      0.40        10\n",
      "      Natoli       0.22      0.20      0.21        10\n",
      "      Shasho       0.25      0.10      0.14        10\n",
      "        Teji       0.33      0.10      0.15        10\n",
      "    Teketawi       0.67      0.60      0.63        10\n",
      "       Worku       0.50      0.30      0.37        10\n",
      "\n",
      "   micro avg       0.41      0.41      0.41       190\n",
      "   macro avg       0.41      0.41      0.39       190\n",
      "weighted avg       0.41      0.41      0.39       190\n",
      "\n",
      "\n",
      "Confusion Matrix: \n",
      " [[8 0 0 0 0 0 0 0 0 2 0 0 0 0 0 0 0 0 0]\n",
      " [0 4 0 0 0 2 1 0 0 0 0 0 3 0 0 0 0 0 0]\n",
      " [0 0 5 1 0 0 0 0 0 3 0 0 0 0 0 1 0 0 0]\n",
      " [0 0 3 1 0 2 0 0 0 2 0 2 0 0 0 0 0 0 0]\n",
      " [0 0 0 0 9 0 0 0 1 0 0 0 0 0 0 0 0 0 0]\n",
      " [0 0 0 0 1 7 0 0 2 0 0 0 0 0 0 0 0 0 0]\n",
      " [0 2 0 0 0 0 4 1 0 0 0 0 0 0 0 0 0 0 3]\n",
      " [0 0 0 0 0 0 2 6 0 0 0 0 0 0 1 0 0 1 0]\n",
      " [0 2 0 0 1 0 0 0 6 0 0 0 0 0 0 0 0 1 0]\n",
      " [0 0 2 3 0 0 0 0 0 3 1 0 0 0 0 0 1 0 0]\n",
      " [0 0 0 1 0 0 0 0 0 3 4 1 0 0 0 1 0 0 0]\n",
      " [2 0 0 0 0 1 0 0 0 2 1 1 0 2 0 1 0 0 0]\n",
      " [0 2 0 0 0 0 0 0 1 0 0 0 3 0 4 0 0 0 0]\n",
      " [0 0 1 0 1 2 0 0 2 1 0 0 0 3 0 0 0 0 0]\n",
      " [0 2 0 0 0 0 3 0 1 0 0 0 2 0 2 0 0 0 0]\n",
      " [1 0 2 2 0 0 0 0 0 2 0 1 0 0 0 1 1 0 0]\n",
      " [2 0 5 1 0 0 0 0 0 0 0 1 0 0 0 0 1 0 0]\n",
      " [0 0 0 0 1 0 0 1 0 0 0 0 0 0 2 0 0 6 0]\n",
      " [0 1 0 0 1 0 1 0 2 0 0 0 1 0 0 0 0 1 3]]\n",
      "\n"
     ]
    }
   ],
   "source": [
    "print_score(knn, X_train, y_train, X_test, y_test, train=False)"
   ]
  },
  {
   "cell_type": "code",
   "execution_count": 57,
   "metadata": {},
   "outputs": [],
   "source": [
    "from sklearn.ensemble import AdaBoostClassifier"
   ]
  },
  {
   "cell_type": "code",
   "execution_count": 64,
   "metadata": {},
   "outputs": [
    {
     "data": {
      "text/plain": [
       "AdaBoostClassifier(algorithm='SAMME.R', base_estimator=None,\n",
       "          learning_rate=1.0, n_estimators=50, random_state=15)"
      ]
     },
     "execution_count": 64,
     "metadata": {},
     "output_type": "execute_result"
    }
   ],
   "source": [
    "abc = AdaBoostClassifier(random_state=15)\n",
    "abc.fit(X_train,y_train)"
   ]
  },
  {
   "cell_type": "code",
   "execution_count": 65,
   "metadata": {},
   "outputs": [
    {
     "name": "stdout",
     "output_type": "stream",
     "text": [
      "Train Result:\n",
      "\n",
      "accuracy score: 0.1447\n",
      "\n",
      "Classification Report: \n",
      "               precision    recall  f1-score   support\n",
      "\n",
      "  Acos Dubie       0.24      0.12      0.16        40\n",
      "       Akaki       0.14      0.03      0.04        40\n",
      "      Ararti       0.00      0.00      0.00        40\n",
      "       Chefe       0.00      0.00      0.00        40\n",
      "    DZ-10-11       0.20      0.97      0.33        40\n",
      "     DZ-10-4       0.00      0.00      0.00        40\n",
      "      Dalota       0.00      0.00      0.00        40\n",
      "       Dimtu       0.59      0.25      0.35        40\n",
      "       Dubie       0.22      0.05      0.08        40\n",
      "       Ejere       0.00      0.00      0.00        40\n",
      "       Habru       0.00      0.00      0.00        40\n",
      "        Hora       0.00      0.00      0.00        40\n",
      "      Mariye       0.00      0.00      0.00        40\n",
      "      Minjar       0.19      0.12      0.15        40\n",
      "      Natoli       0.08      0.24      0.12        38\n",
      "      Shasho       0.11      0.68      0.19        40\n",
      "        Teji       0.00      0.00      0.00        40\n",
      "    Teketawi       0.00      0.00      0.00        42\n",
      "       Worku       0.09      0.30      0.14        40\n",
      "\n",
      "   micro avg       0.14      0.14      0.14       760\n",
      "   macro avg       0.10      0.15      0.08       760\n",
      "weighted avg       0.10      0.14      0.08       760\n",
      "\n",
      "\n",
      "Confusion Matrix: \n",
      " [[ 5  1  0  0  0  0  0  0  1  0  0  0  0  0 25  8  0  0  0]\n",
      " [ 0  1  0  0 12  0  0  0  1  0  0  0  0  5  1  8  0  0 12]\n",
      " [ 2  0  0  0 10  0  0  0  1  0  0  0  0  1  4 22  0  0  0]\n",
      " [ 2  0  0  0  9  0  0  0  1  0  0  0  0  2  2 23  0  0  1]\n",
      " [ 0  0  0  0 39  0  0  0  0  0  0  0  0  0  0  1  0  0  0]\n",
      " [ 0  0  0  0 20  0  0  0  0  0  0  0  0  0  0 20  0  0  0]\n",
      " [ 0  0  0  0  9  0  0  6  1  0  0  0  0  0  0  0  0  0 24]\n",
      " [ 0  0  0  0  3  0  1 10  0  0  0  0  0  0 16  0  0  0 10]\n",
      " [ 0  0  0  0 18  0  0  0  2  0  0  0  0  2  0 15  0  0  3]\n",
      " [ 1  1  0  0  5  0  0  0  0  0  0  0  0  0  7 26  0  0  0]\n",
      " [ 8  0  0  0  2  0  0  0  0  0  0  0  0  0 15 15  0  0  0]\n",
      " [ 0  0  0  0  5  0  0  0  1  0  0  0  0  2  4 28  0  0  0]\n",
      " [ 0  1  0  0 16  0  0  1  0  0  0  0  0  2  4  4  0  0 12]\n",
      " [ 0  1  0  0  9  0  0  0  0  0  0  0  0  5  0 13  0  0 12]\n",
      " [ 0  0  0  0  7  0  0  0  0  0  0  0  0  2  9  4  0  0 16]\n",
      " [ 0  1  0  0  2  0  0  0  0  0  0  0  0  0 10 27  0  0  0]\n",
      " [ 3  1  0  0  6  0  0  0  0  0  0  0  0  0 13 15  0  0  2]\n",
      " [ 0  0  0  0  9  0  0  0  0  0  0  0  0  2  2  5  0  0 24]\n",
      " [ 0  0  0  0 18  0  0  0  1  0  0  0  0  3  1  5  0  0 12]]\n",
      "\n"
     ]
    },
    {
     "name": "stderr",
     "output_type": "stream",
     "text": [
      "C:\\Users\\akhil\\Anaconda3\\lib\\site-packages\\sklearn\\metrics\\classification.py:1143: UndefinedMetricWarning: Precision and F-score are ill-defined and being set to 0.0 in labels with no predicted samples.\n",
      "  'precision', 'predicted', average, warn_for)\n"
     ]
    },
    {
     "name": "stdout",
     "output_type": "stream",
     "text": [
      "Average Accuracy: \t 0.1302\n",
      "Accuracy SD: \t\t 0.0308\n"
     ]
    }
   ],
   "source": [
    "print_score(abc, X_train, y_train, X_test, y_test, train=True)"
   ]
  },
  {
   "cell_type": "code",
   "execution_count": 66,
   "metadata": {},
   "outputs": [
    {
     "name": "stdout",
     "output_type": "stream",
     "text": [
      "Test Result:\n",
      "\n",
      "accuracy score: 0.4053\n",
      "\n",
      "Classification Report: \n",
      "               precision    recall  f1-score   support\n",
      "\n",
      "  Acos Dubie       0.62      0.80      0.70        10\n",
      "       Akaki       0.31      0.40      0.35        10\n",
      "      Ararti       0.28      0.50      0.36        10\n",
      "       Chefe       0.11      0.10      0.11        10\n",
      "    DZ-10-11       0.64      0.90      0.75        10\n",
      "     DZ-10-4       0.50      0.70      0.58        10\n",
      "      Dalota       0.36      0.40      0.38        10\n",
      "       Dimtu       0.75      0.60      0.67        10\n",
      "       Dubie       0.40      0.60      0.48        10\n",
      "       Ejere       0.17      0.30      0.21        10\n",
      "       Habru       0.67      0.40      0.50        10\n",
      "        Hora       0.17      0.10      0.12        10\n",
      "      Mariye       0.33      0.30      0.32        10\n",
      "      Minjar       0.60      0.30      0.40        10\n",
      "      Natoli       0.22      0.20      0.21        10\n",
      "      Shasho       0.25      0.10      0.14        10\n",
      "        Teji       0.33      0.10      0.15        10\n",
      "    Teketawi       0.67      0.60      0.63        10\n",
      "       Worku       0.50      0.30      0.37        10\n",
      "\n",
      "   micro avg       0.41      0.41      0.41       190\n",
      "   macro avg       0.41      0.41      0.39       190\n",
      "weighted avg       0.41      0.41      0.39       190\n",
      "\n",
      "\n",
      "Confusion Matrix: \n",
      " [[8 0 0 0 0 0 0 0 0 2 0 0 0 0 0 0 0 0 0]\n",
      " [0 4 0 0 0 2 1 0 0 0 0 0 3 0 0 0 0 0 0]\n",
      " [0 0 5 1 0 0 0 0 0 3 0 0 0 0 0 1 0 0 0]\n",
      " [0 0 3 1 0 2 0 0 0 2 0 2 0 0 0 0 0 0 0]\n",
      " [0 0 0 0 9 0 0 0 1 0 0 0 0 0 0 0 0 0 0]\n",
      " [0 0 0 0 1 7 0 0 2 0 0 0 0 0 0 0 0 0 0]\n",
      " [0 2 0 0 0 0 4 1 0 0 0 0 0 0 0 0 0 0 3]\n",
      " [0 0 0 0 0 0 2 6 0 0 0 0 0 0 1 0 0 1 0]\n",
      " [0 2 0 0 1 0 0 0 6 0 0 0 0 0 0 0 0 1 0]\n",
      " [0 0 2 3 0 0 0 0 0 3 1 0 0 0 0 0 1 0 0]\n",
      " [0 0 0 1 0 0 0 0 0 3 4 1 0 0 0 1 0 0 0]\n",
      " [2 0 0 0 0 1 0 0 0 2 1 1 0 2 0 1 0 0 0]\n",
      " [0 2 0 0 0 0 0 0 1 0 0 0 3 0 4 0 0 0 0]\n",
      " [0 0 1 0 1 2 0 0 2 1 0 0 0 3 0 0 0 0 0]\n",
      " [0 2 0 0 0 0 3 0 1 0 0 0 2 0 2 0 0 0 0]\n",
      " [1 0 2 2 0 0 0 0 0 2 0 1 0 0 0 1 1 0 0]\n",
      " [2 0 5 1 0 0 0 0 0 0 0 1 0 0 0 0 1 0 0]\n",
      " [0 0 0 0 1 0 0 1 0 0 0 0 0 0 2 0 0 6 0]\n",
      " [0 1 0 0 1 0 1 0 2 0 0 0 1 0 0 0 0 1 3]]\n",
      "\n"
     ]
    }
   ],
   "source": [
    "print_score(knn, X_train, y_train, X_test, y_test, train=False)"
   ]
  },
  {
   "cell_type": "code",
   "execution_count": null,
   "metadata": {},
   "outputs": [],
   "source": []
  }
 ],
 "metadata": {
  "kernelspec": {
   "display_name": "Python 3",
   "language": "python",
   "name": "python3"
  },
  "language_info": {
   "codemirror_mode": {
    "name": "ipython",
    "version": 3
   },
   "file_extension": ".py",
   "mimetype": "text/x-python",
   "name": "python",
   "nbconvert_exporter": "python",
   "pygments_lexer": "ipython3",
   "version": "3.7.1"
  }
 },
 "nbformat": 4,
 "nbformat_minor": 2
}
